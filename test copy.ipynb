{
 "cells": [
  {
   "cell_type": "code",
   "execution_count": 1,
   "metadata": {},
   "outputs": [],
   "source": [
    "from dataclasses import dataclass\n",
    "import itertools\n",
    "import logging\n",
    "import random\n",
    "import math\n",
    "import numpy as np\n",
    "import json\n",
    "import pickle\n",
    "import time\n",
    "import torch\n",
    "import sys\n",
    "import pdb\n",
    "import os\n",
    "# os.chdir(\"/Users/guotianyu/GitHub/birth\")\n",
    "\n",
    "from omegaconf import OmegaConf\n",
    "from pathlib import Path\n",
    "from torch import nn, Tensor\n",
    "from torch.nn import functional as F\n",
    "from typing import List, Optional, Tuple\n",
    "\n",
    "from data import *\n",
    "from ihead_full_model import ModelArgs, Transformer\n",
    "%load_ext autoreload\n",
    "%autoreload 2"
   ]
  },
  {
   "cell_type": "markdown",
   "metadata": {},
   "source": [
    "# Preprocess Meta"
   ]
  },
  {
   "cell_type": "code",
   "execution_count": 115,
   "metadata": {},
   "outputs": [],
   "source": [
    "d=0\n",
    "data_args = DataArgs(delimiter_p=d, bos_num=2)\n",
    "ds = MetaProcess(data_args)\n",
    "ds.bos_num\n",
    "import pickle\n",
    "import yaml\n",
    "\n",
    "meta_processed = ds.process()\n",
    "config_path = \"data/bos2_d0\"\n",
    "os.makedirs(config_path, exist_ok=True)\n",
    "with open(os.path.join(config_path, 'meta.pickle'), 'wb') as handle:\n",
    "    pickle.dump(meta_processed, handle, protocol=pickle.HIGHEST_PROTOCOL)\n",
    "with open(os.path.join(config_path, 'config.yaml'), 'w') as f:\n",
    "    yaml.dump(meta_processed, f, default_flow_style=False)\n",
    "\n"
   ]
  },
  {
   "cell_type": "code",
   "execution_count": 36,
   "metadata": {},
   "outputs": [],
   "source": [
    "d=0.1\n",
    "data_args = DataArgs(delimiter_p=d, delim_num=2)\n",
    "ds = MetaProcess(data_args)\n",
    "ds.bos_num\n",
    "import pickle\n",
    "import yaml\n",
    "\n",
    "meta_processed = ds.two_delim_process()\n",
    "config_path = \"data/bos1_d010_delim2\"\n",
    "os.makedirs(config_path, exist_ok=True)\n",
    "with open(os.path.join(config_path, 'meta.pickle'), 'wb') as handle:\n",
    "    pickle.dump(meta_processed, handle, protocol=pickle.HIGHEST_PROTOCOL)\n",
    "with open(os.path.join(config_path, 'config.yaml'), 'w') as f:\n",
    "    yaml.dump(meta_processed, f, default_flow_style=False)"
   ]
  },
  {
   "cell_type": "markdown",
   "metadata": {},
   "source": [
    "# load meta and test corresponding dgp"
   ]
  },
  {
   "cell_type": "code",
   "execution_count": 25,
   "metadata": {},
   "outputs": [],
   "source": [
    "import pickle\n",
    "import numpy as np\n",
    "data_args = DataArgs(delimiter_p=0)\n",
    "with open(\"/Users/guotianyu/GitHub/birth/data/bos1_d0/meta.pickle\", \"rb\") as f:\n",
    "    meta_info = pickle.load(f)\n",
    "\n",
    "# data_cfg = OmegaConf.structured(meta_info)\n",
    "ds = dormant_copy(data_args, meta_info)\n",
    "x = ds.gen_batch(np.random.default_rng(0), 64)"
   ]
  },
  {
   "cell_type": "code",
   "execution_count": 27,
   "metadata": {},
   "outputs": [
    {
     "data": {
      "text/plain": [
       "array([65, 46, 63, 11,  1, 11,  1, 11,  1, 11,  0, 20, 17, 26, 32, 10,  0,\n",
       "       21,  1, 21, 10,  0, 31, 10,  1, 10,  0,  0, 19,  1, 19,  1, 19, 30,\n",
       "       17, 10,  0, 18,  1, 18, 47, 43, 47, 60, 43, 60, 53, 60, 47, 42, 43,\n",
       "       42, 53, 42,  6,  1,  6,  1,  6,  1,  6,  0, 20, 53, 20, 21, 38, 13,\n",
       "       52, 41, 46, 39, 46, 58, 46, 53, 46, 63, 53, 63,  1, 63, 53, 63,  1,\n",
       "       63,  1, 63,  1, 63, 53, 63,  1, 63,  1, 63,  1, 63,  1, 63, 53, 63,\n",
       "       53, 63, 43, 63,  1, 63,  1, 63,  1, 63, 43, 63,  1, 63, 43, 63, 53,\n",
       "       63,  8,  0, 32, 46, 43, 46, 39, 46, 63, 53, 63,  2,  0, 27, 33, 17,\n",
       "       26, 17, 17, 32, 46, 43, 46, 39, 46, 58, 46, 47, 58, 47, 52,  1, 52,\n",
       "       53, 52, 57, 58, 57,  6,  1,  6,  1,  6,  1,  6,  0,  0, 35, 13, 52,\n",
       "       42, 53, 42, 43, 42,  1, 42, 47, 43, 47, 50,  1, 50, 57, 58, 57, 58,\n",
       "       57,  1, 57, 58, 57, 58, 57, 53, 57,  1, 57,  1, 57, 43, 57,  0,  0,\n",
       "       32, 13,  1, 13, 19, 53, 19, 53, 19,  1, 19, 53, 19, 47, 60, 47, 58,\n",
       "       47, 52,  1, 52, 43, 52, 42,  1, 42, 57,  1, 57, 58, 57,  6,  1,  6,\n",
       "        1,  6,  0, 21,  1, 21, 26, 53, 26, 19, 14, 30, 53, 30, 35, 39, 35,\n",
       "       46, 43])"
      ]
     },
     "execution_count": 27,
     "metadata": {},
     "output_type": "execute_result"
    }
   ],
   "source": [
    "x[9]"
   ]
  },
  {
   "cell_type": "code",
   "execution_count": 4,
   "metadata": {},
   "outputs": [
    {
     "data": {
      "text/plain": [
       "[39, 53, 58, 43, 1]"
      ]
     },
     "execution_count": 4,
     "metadata": {},
     "output_type": "execute_result"
    }
   ],
   "source": [
    "ds.idxs"
   ]
  },
  {
   "cell_type": "markdown",
   "metadata": {},
   "source": [
    "# Test on dormant_copy_interpolate"
   ]
  },
  {
   "cell_type": "code",
   "execution_count": 6,
   "metadata": {},
   "outputs": [],
   "source": [
    "import pickle\n",
    "import numpy as np\n",
    "data_args1 = DataArgs(delimiter_p=0, mix_p=0)\n",
    "data_args2 = DataArgs(delimiter_p=0, mix_p=1)\n",
    "\n",
    "with open(\"/Users/guotianyu/GitHub/birth/data/bos1_d0/meta.pickle\", \"rb\") as f:\n",
    "    meta_info = pickle.load(f)\n",
    "\n",
    "# data_cfg = OmegaConf.structured(meta_info)\n",
    "ds1 = dormant_copy_interpolate(data_args1, meta_info)\n",
    "ds2 = dormant_markov_interpolate(data_args2, meta_info)\n",
    "x1 = ds1.gen_batch(np.random.default_rng(0), 64)\n",
    "x2 = ds2.gen_batch(np.random.default_rng(0), 64)"
   ]
  },
  {
   "cell_type": "code",
   "execution_count": 7,
   "metadata": {},
   "outputs": [
    {
     "data": {
      "text/plain": [
       "(array([65, 51, 39, 54, 53, 58, 59, 56, 57,  1,  1, 53, 63,  8,  0, 31, 13,\n",
       "        54, 43, 53, 57, 46, 53, 53, 10,  0,  0, 13, 46, 43, 43, 57, 58, 46,\n",
       "        58, 43, 43, 57, 53,  0, 56,  1, 54, 43, 43, 57, 53, 53, 56,  1, 39,\n",
       "        52,  8,  0, 14, 43, 30, 35, 47, 52, 53, 58, 52,  1, 45, 50,  1, 43,\n",
       "        63,  1, 53, 63,  1, 11,  1,  0, 28, 17, 37, 43, 43, 45, 53, 39, 42,\n",
       "        11,  0, 31, 21, 27, 18, 47, 57,  1, 58, 40, 43, 50,  1, 53, 40, 57,\n",
       "        57, 47, 42,  1, 47, 52,  1, 53, 41, 46,  6,  0, 32, 46, 63,  1,  1,\n",
       "        50, 50, 50,  1, 43, 52, 58, 57,  1, 58, 63,  1,  1, 57,  1, 43, 57,\n",
       "         1,  2,  0,  0, 35, 46, 43, 47, 56,  6,  1,  0, 30, 17, 37, 10,  0,\n",
       "        13,  1, 61, 43, 47, 57,  6,  1,  1, 58, 58, 46, 53, 47, 52,  5,  1,\n",
       "        58, 40, 63, 57, 59, 57, 46, 43, 39, 52,  1, 45, 46, 43, 39,  1, 54,\n",
       "        50, 39, 53, 56, 58, 57,  1, 57,  1, 57,  1,  1, 46, 39, 43, 57,  7,\n",
       "        44,  1, 47, 53, 58, 61,  1, 56, 59, 52, 45, 57, 54, 39, 39, 58, 57,\n",
       "        63, 53,  1, 42, 53, 11,  0, 31, 53, 13, 52, 53, 43, 41, 41, 46, 47,\n",
       "        52,  6,  0, 35, 46, 43, 43, 47, 42, 57, 58, 43, 53, 52, 45, 46, 43,\n",
       "        43, 39]),\n",
       " array([65, 51, 39, 54, 53, 58, 59, 56, 57,  1,  1, 53, 63,  8,  0, 31, 13,\n",
       "        54, 43, 53, 57, 46, 53, 53, 10,  0,  0, 13, 46, 43, 43, 57, 58, 46,\n",
       "        58, 43, 43, 57, 53,  0, 56,  1, 54, 43, 43, 57, 53, 53, 56,  1, 39,\n",
       "        52,  8,  0, 14, 43, 30, 35, 47, 52, 53, 58, 52,  1, 45, 50,  1, 43,\n",
       "        63,  1, 53, 63,  1, 11,  1,  0, 28, 17, 37, 43, 43, 45, 53, 39, 42,\n",
       "        11,  0, 31, 21, 27, 18, 47, 57,  1, 58, 40, 43, 50,  1, 53, 40, 57,\n",
       "        57, 47, 42,  1, 47, 52,  1, 53, 41, 46,  6,  0, 32, 46, 63,  1,  1,\n",
       "        50, 50, 50,  1, 43, 52, 58, 57,  1, 58, 63,  1,  1, 57,  1, 43, 57,\n",
       "         1,  2,  0,  0, 35, 46, 43, 47, 56,  6,  1,  0, 30, 17, 37, 10,  0,\n",
       "        13,  1, 61, 43, 47, 57,  6,  1,  1, 58, 58, 46, 53, 47, 52,  5,  1,\n",
       "        58, 40, 63, 57, 59, 57, 46, 43, 39, 52,  1, 45, 46, 43, 39,  1, 54,\n",
       "        50, 39, 53, 56, 58, 57,  1, 57,  1, 57,  1,  1, 46, 39, 43, 57,  7,\n",
       "        44,  1, 47, 53, 58, 61,  1, 56, 59, 52, 45, 57, 54, 39, 39, 58, 57,\n",
       "        63, 53,  1, 42, 53, 11,  0, 31, 53, 13, 52, 53, 43, 41, 41, 46, 47,\n",
       "        52,  6,  0, 35, 46, 43, 43, 47, 42, 57, 58, 43, 53, 52, 45, 46, 43,\n",
       "        43, 39]))"
      ]
     },
     "execution_count": 7,
     "metadata": {},
     "output_type": "execute_result"
    }
   ],
   "source": [
    "x1[0], x2[0]"
   ]
  },
  {
   "cell_type": "markdown",
   "metadata": {},
   "source": [
    "## so dormant_copy_interpolate(mix_p=0) == dormant_markov_interpolate(mix_p=1); seems that the code passes the test"
   ]
  },
  {
   "cell_type": "markdown",
   "metadata": {},
   "source": [
    "# Test on dormant_double_tasks"
   ]
  },
  {
   "cell_type": "code",
   "execution_count": 57,
   "metadata": {},
   "outputs": [],
   "source": [
    "import pickle\n",
    "import numpy as np\n",
    "data_args = DataArgs(delimiter_p=0.05)\n",
    "with open(\"/Users/guotianyu/GitHub/birth/data/bos1_d005/meta.pickle\", \"rb\") as f:\n",
    "    meta_info = pickle.load(f)\n",
    "\n",
    "# data_cfg = OmegaConf.structured(meta_info)\n",
    "ds = dormant_double_tasks(data_args, meta_info)\n",
    "x = ds.gen_batch(np.random.default_rng(0), 64)"
   ]
  },
  {
   "cell_type": "code",
   "execution_count": 62,
   "metadata": {},
   "outputs": [
    {
     "data": {
      "text/plain": [
       "(array([ 0,  1,  2,  3,  4,  5,  6,  7,  8,  9, 10, 11, 12, 13, 14, 15, 16,\n",
       "        17, 18, 19, 20, 21, 22, 23, 24, 25, 26, 27, 28, 29, 30, 31, 32, 33,\n",
       "        34, 35, 36, 37, 38, 39, 40, 41, 42, 43, 44, 45, 46, 47, 48, 49, 50,\n",
       "        51, 52, 53, 54, 55, 56, 57, 58, 59, 60, 61, 62, 63]),\n",
       " array([ 15, 146,  61,  10,  14,  18,  33,   2,  41,  67,   8,  36,  23,\n",
       "         39, 103,   4,  36,  35, 111,  42,   2,  11,  17,  60,  51,  23,\n",
       "         21,  13,   7,  32,  23,  30,  11,   2,  31,  19,  12,  13,   2,\n",
       "        125,  34,  13,  26,  22,  20,  16,  27,  30,   3, 200,   9,  30,\n",
       "         74,  26,  11,  84,   8,   8,  31,  25,  48,  67,  12,   2]))"
      ]
     },
     "execution_count": 62,
     "metadata": {},
     "output_type": "execute_result"
    }
   ],
   "source": [
    "np.where(x==66)"
   ]
  },
  {
   "cell_type": "code",
   "execution_count": 54,
   "metadata": {},
   "outputs": [
    {
     "data": {
      "text/plain": [
       "array([[ 0,  1,  2,  3,  4],\n",
       "       [ 5,  6,  7,  8,  9],\n",
       "       [10, 11, 12, 13, 14],\n",
       "       [15, 16, 17, 18, 19],\n",
       "       [20, 21, 22, 23, 24]])"
      ]
     },
     "execution_count": 54,
     "metadata": {},
     "output_type": "execute_result"
    }
   ],
   "source": [
    "test = np.reshape(np.array(np.arange(0,25)), (5,5))\n",
    "test"
   ]
  },
  {
   "cell_type": "code",
   "execution_count": 55,
   "metadata": {},
   "outputs": [
    {
     "data": {
      "text/plain": [
       "array([[ 0,  1,  3,  4,  2],\n",
       "       [ 5,  6,  8,  9,  7],\n",
       "       [15, 16, 18, 19, 17],\n",
       "       [20, 21, 23, 24, 22],\n",
       "       [10, 11, 13, 14, 12]])"
      ]
     },
     "execution_count": 55,
     "metadata": {},
     "output_type": "execute_result"
    }
   ],
   "source": [
    "subset = [2, 3, 4]\n",
    "for i, n in enumerate(subset):\n",
    "    if i < len(subset)-1:\n",
    "        shift = subset[i+1]\n",
    "        test[[n, shift]] = test[[shift, n]]\n",
    "        test[:, [n, shift]] = test[:, [shift, n]]\n",
    "test"
   ]
  },
  {
   "cell_type": "code",
   "execution_count": 3,
   "metadata": {},
   "outputs": [
    {
     "data": {
      "text/plain": [
       "[1, 2, 3, 4]"
      ]
     },
     "execution_count": 3,
     "metadata": {},
     "output_type": "execute_result"
    }
   ],
   "source": [
    "a = [1, 2, 3, 4]\n",
    "a[:4]"
   ]
  },
  {
   "cell_type": "markdown",
   "metadata": {},
   "source": [
    "# Test on double copy task"
   ]
  },
  {
   "cell_type": "code",
   "execution_count": 56,
   "metadata": {},
   "outputs": [],
   "source": [
    "import pickle\n",
    "import numpy as np\n",
    "data_args = DataArgs(delimiter_p=0.1, delim_num=2)\n",
    "with open(\"/Users/guotianyu/GitHub/birth/data/bos1_d010_delim2/meta.pickle\", \"rb\") as f:\n",
    "    meta_info = pickle.load(f)\n",
    "\n",
    "# data_cfg = OmegaConf.structured(meta_info)\n",
    "ds = dormant_two_kinds_copies(data_args, meta_info)\n",
    "x = ds.gen_batch(np.random.default_rng(0), 64)"
   ]
  },
  {
   "cell_type": "code",
   "execution_count": 58,
   "metadata": {},
   "outputs": [
    {
     "data": {
      "text/plain": [
       "array([65, 50, 42,  1, 19, 66, 19, 53, 59, 56, 67, 57,  0, 66,  0, 35, 43,\n",
       "       66, 43,  8,  0,  0,  0, 32, 47, 57, 43, 67, 44, 53, 59, 57, 43,  1,\n",
       "       59, 56, 42, 12, 66, 12,  0, 31, 21, 27, 23, 17, 66, 17, 31, 10, 66,\n",
       "       10,  0, 66,  0, 19,  1, 52, 63,  1, 30, 21,  1, 39, 57,  6,  1, 42,\n",
       "       67, 43,  1, 58, 67, 59, 67, 60, 43, 56, 67, 57, 43, 58, 46, 43, 61,\n",
       "       46, 53, 59, 67, 60, 47, 67, 48, 39, 66, 39, 67, 40, 67, 41, 66, 41,\n",
       "       43, 66, 43,  6,  1, 51, 67, 52, 58, 47, 41, 56,  1, 61, 47, 67, 48,\n",
       "       66, 48, 53, 56, 67, 57,  1, 44, 66, 44,  1, 46, 47, 57, 66, 57,  6,\n",
       "        1, 66,  1, 67,  2,  1, 57, 66, 57, 43, 67, 44, 66, 44, 66, 44, 43,\n",
       "        1, 58, 39, 58, 67, 59, 66, 59, 52, 43, 50, 67, 51, 43,  6, 66,  6,\n",
       "        1, 47, 67, 48, 43, 66, 43, 56, 67, 57, 58, 66, 58,  1, 58, 53, 44,\n",
       "       43, 67, 44, 53, 44, 53, 57,  1, 67,  2,  0, 46, 67, 47, 52,  8,  0,\n",
       "       13, 52, 52, 67, 53, 56, 58,  1, 50,  1, 60, 43, 42, 66, 42, 67, 43,\n",
       "       67, 44,  1, 39, 66, 39, 56,  1, 58, 43, 57, 43, 51, 63,  1, 57,  1,\n",
       "       66,  1, 67,  2, 67,  3, 50, 66, 50, 53, 67, 54, 66, 54, 46, 67, 47,\n",
       "       56, 43])"
      ]
     },
     "execution_count": 58,
     "metadata": {},
     "output_type": "execute_result"
    }
   ],
   "source": [
    "x[0]"
   ]
  },
  {
   "cell_type": "markdown",
   "metadata": {},
   "source": [
    "# Test on double_tasks_retrt new"
   ]
  },
  {
   "cell_type": "code",
   "execution_count": 76,
   "metadata": {},
   "outputs": [],
   "source": [
    "import pickle\n",
    "import numpy as np\n",
    "data_args = DataArgs(delimiter_p=0)\n",
    "with open(\"/Users/guotianyu/GitHub/birth/data/bos1_d0/meta.pickle\", \"rb\") as f:\n",
    "    meta_info = pickle.load(f)\n",
    "\n",
    "# data_cfg = OmegaConf.structured(meta_info)\n",
    "ds = dormant_double_tasks_retry(data_args, meta_info)\n",
    "x = ds.gen_batch(np.random.default_rng(0), 64)"
   ]
  },
  {
   "cell_type": "code",
   "execution_count": 78,
   "metadata": {},
   "outputs": [
    {
     "data": {
      "text/plain": [
       "(array([ 0,  1,  2,  3,  4,  4,  5,  6,  7,  8,  9, 10, 11, 12, 13, 14, 15,\n",
       "        16, 17, 18, 19, 20, 21, 22, 23, 24, 25, 26, 27, 28, 29, 30, 30, 31,\n",
       "        31, 32, 33, 34, 35, 35, 35, 36, 37, 38, 39, 39, 40, 41, 42, 43, 44,\n",
       "        45, 46, 47, 48, 49, 50, 51, 52, 53, 54, 54, 55, 55, 56, 57, 58, 59,\n",
       "        60, 61, 62, 63]),\n",
       " array([ 13,  65,  23,  81,  46,  48, 130, 143,  36,  53,  72, 163, 103,\n",
       "        117,  10,  35, 100,  81, 169,   5,   6,  70,  97,  57,  67, 105,\n",
       "         71,  69, 103, 166, 118,  68,  70,  29,  31, 103,  60,  24,  16,\n",
       "         18,  20, 105,  55,  98,  17,  19,  12,  47,  26, 111, 166,  83,\n",
       "         12, 143,  57,  27,   7, 105,  33,  42,  21,  23, 130, 132,  41,\n",
       "        123, 115,   7,  89,  43, 169,  20]))"
      ]
     },
     "execution_count": 78,
     "metadata": {},
     "output_type": "execute_result"
    }
   ],
   "source": [
    "np.where(x == 66)"
   ]
  },
  {
   "cell_type": "markdown",
   "metadata": {},
   "source": [
    "# Test on dormant doule explore 2"
   ]
  },
  {
   "cell_type": "code",
   "execution_count": 3,
   "metadata": {},
   "outputs": [],
   "source": [
    "import pickle\n",
    "import numpy as np\n",
    "from data import dormant_double_tasks_explore2\n",
    "data_args = DataArgs(k=3, delimiter_p=0)\n",
    "# with open(\"/Users/guotianyu/GitHub/birth/data/bos1_d0/meta.pickle\", \"rb\") as f:\n",
    "#     meta_info = pickle.load(f)\n",
    "# with open(\"/Users/guotianyu/GitHub/birth/data/bos1_d0/meta.pickle\", \"rb\") as f:\n",
    "#     meta_info = pickle.load(f)\n",
    "with open(\"/data/tianyu_guo/birth/data/bos2_d0/meta.pickle\", \"rb\") as f:\n",
    "    meta_info = pickle.load(f)\n",
    "# data_cfg = OmegaConf.structured(meta_info)\n",
    "ds = dormant_double_tasks_explore2(data_args, meta_info)\n",
    "x = ds.gen_batch(np.random.default_rng(0), 64)"
   ]
  },
  {
   "cell_type": "code",
   "execution_count": 12,
   "metadata": {},
   "outputs": [
    {
     "data": {
      "text/plain": [
       "0.3562208061603665"
      ]
     },
     "execution_count": 12,
     "metadata": {},
     "output_type": "execute_result"
    }
   ],
   "source": [
    "ds.cond[58, :][:40].sum()"
   ]
  },
  {
   "cell_type": "markdown",
   "metadata": {},
   "source": [
    "# Test on dormant double explore 3"
   ]
  },
  {
   "cell_type": "code",
   "execution_count": null,
   "metadata": {},
   "outputs": [],
   "source": [
    "import pickle\n",
    "import numpy as np\n",
    "from data import dormant_double_tasks_explore3\n",
    "data_args = DataArgs(k=3, delimiter_p=0, bos_num=2, mix_p=0.5)\n",
    "# with open(\"/Users/guotianyu/GitHub/birth/data/bos1_d0/meta.pickle\", \"rb\") as f:\n",
    "#     meta_info = pickle.load(f)\n",
    "with open(\"/Users/guotianyu/GitHub/birth/data/bos2_d0/meta.pickle\", \"rb\") as f:\n",
    "    meta_info = pickle.load(f)\n",
    "# data_cfg = OmegaConf.structured(meta_info)\n",
    "ds = dormant_double_tasks_explore3(data_args, meta_info)\n",
    "x = ds.gen_batch(np.random.default_rng(0), 64)"
   ]
  },
  {
   "cell_type": "code",
   "execution_count": 131,
   "metadata": {},
   "outputs": [
    {
     "data": {
      "text/plain": [
       "array([66, 42, 66, 42, 66,  9,  0,  9, 64, 31, 45, 42, 45, 38, 51, 41,  0,\n",
       "       41,  0, 41,  0, 41,  0, 41,  0, 41, 52, 50, 62, 52, 58, 49, 52, 52,\n",
       "        4, 56, 57, 56, 57, 56, 52, 48,  4, 56, 45, 38, 51, 54, 58, 46, 51,\n",
       "       52, 51, 57, 51, 52, 49, 49,  0, 49, 38, 57, 38, 51,  0, 51,  0, 51,\n",
       "       52, 43,  0, 43,  0, 43, 52, 51, 56, 52, 43,  0, 43, 42, 43, 52, 52,\n",
       "       55, 41, 46, 56, 50, 52, 51,  0, 51, 41, 42, 41, 42, 41,  0, 41,  0,\n",
       "       41, 62,  0, 62, 52, 57, 52, 58, 55, 42, 55, 52, 51,  0, 51, 41, 38,\n",
       "        0, 38, 55, 42, 55, 46, 57, 46, 51, 57, 51,  5, 64, 20, 30, 27, 52,\n",
       "       59, 46, 56,  5, 64, 14, 16, 29, 32, 14, 19, 20, 32, 14, 52, 50, 43,\n",
       "       57, 43, 43,  0, 43, 52, 43, 55,  0, 55,  0, 55, 41, 42, 41,  5,  0,\n",
       "        5,  0,  5,  0,  5, 64, 31, 45,  0, 45, 42, 45, 58,  7,  0,  7, 64,\n",
       "       19, 42, 19, 32, 30, 12, 51, 42, 51, 41,  9, 64, 44, 44,  4, 41,  0,\n",
       "       41,  0, 41,  6, 41,  0, 41, 64, 12,  0, 12, 13, 58,  5,  0,  5, 64,\n",
       "       20, 32, 51, 48,  5,  0,  5,  0,  5,  0,  5,  0,  5,  0,  5, 64, 12,\n",
       "       51, 44,  0, 44, 52, 55, 46, 56,  0, 56,  5,  0,  5, 64, 31, 45, 42,\n",
       "       45, 38])"
      ]
     },
     "execution_count": 131,
     "metadata": {},
     "output_type": "execute_result"
    }
   ],
   "source": [
    "x[3]"
   ]
  },
  {
   "cell_type": "markdown",
   "metadata": {},
   "source": [
    "# Test on Dormant Biette"
   ]
  },
  {
   "cell_type": "code",
   "execution_count": 134,
   "metadata": {},
   "outputs": [],
   "source": [
    "import pickle\n",
    "import numpy as np\n",
    "from data import dormant_Biette\n",
    "data_args = DataArgs(k=3, delimiter_p=0)\n",
    "# with open(\"/Users/guotianyu/GitHub/birth/data/bos1_d0/meta.pickle\", \"rb\") as f:\n",
    "#     meta_info = pickle.load(f)\n",
    "with open(\"/Users/guotianyu/GitHub/birth/data/bos1_d0/meta.pickle\", \"rb\") as f:\n",
    "    meta_info = pickle.load(f)\n",
    "# data_cfg = OmegaConf.structured(meta_info)\n",
    "ds = dormant_Biette(data_args, meta_info)\n",
    "x = ds.gen_batch(np.random.default_rng(0), 64)"
   ]
  },
  {
   "cell_type": "code",
   "execution_count": 135,
   "metadata": {},
   "outputs": [
    {
     "data": {
      "text/plain": [
       "array([65, 55, 59,  1, 53, 60, 43, 58, 46, 43, 60, 63, 53, 53, 59, 52, 43,\n",
       "       60, 43, 60, 43, 60, 43, 60, 47, 60, 39, 58, 43, 60, 43, 60, 47, 57,\n",
       "       43, 60, 43, 60, 43, 60, 43, 60, 39, 57, 46,  1, 59,  1, 59, 52, 58,\n",
       "       43, 60, 43, 60, 43, 60, 43, 60, 43, 60, 43, 60, 43, 60, 43, 60, 43,\n",
       "       60, 43, 60, 43, 60, 43, 60, 43, 60, 43, 60, 47, 41, 53, 52, 53,  1,\n",
       "       59,  1, 59, 43, 60, 53,  2,  1, 59, 50, 43, 60, 53, 59, 45, 11,  1,\n",
       "       59, 52, 42, 63,  1, 59, 57, 57, 47, 58, 43, 60, 47, 50,  1, 59, 56,\n",
       "        1, 59, 58, 43, 60, 43, 60, 43, 60, 53, 56,  0, 32, 59, 56, 39, 47,\n",
       "       57,  1, 59, 56, 59,  1, 59, 56,  1, 59,  1, 59,  1, 59, 57, 42, 56,\n",
       "       53, 60, 43, 60, 43, 60, 43, 60, 43, 60, 43, 60, 43, 60, 43, 60, 43,\n",
       "       60, 43, 60, 59, 39, 63, 53, 53, 59, 56, 47, 58, 43, 60, 43, 60, 63,\n",
       "       53, 53, 52, 57,  1, 59, 57, 57,  1, 59, 41, 46, 43, 60, 43, 60, 39,\n",
       "       58, 43, 60, 43, 60, 53, 59, 50, 63, 56, 43, 60, 47, 52, 53, 58, 43,\n",
       "       60, 43, 60, 43, 60, 43, 60, 43, 60, 43, 60, 43, 60, 47, 53,  1, 59,\n",
       "       56, 56, 43, 60, 63,  1, 59, 50, 50, 43, 60, 43, 60, 43, 60, 47, 53,\n",
       "       53, 59])"
      ]
     },
     "execution_count": 135,
     "metadata": {},
     "output_type": "execute_result"
    }
   ],
   "source": [
    "x[0]"
   ]
  }
 ],
 "metadata": {
  "kernelspec": {
   "display_name": "nanogpt",
   "language": "python",
   "name": "nanogpt"
  },
  "language_info": {
   "codemirror_mode": {
    "name": "ipython",
    "version": 3
   },
   "file_extension": ".py",
   "mimetype": "text/x-python",
   "name": "python",
   "nbconvert_exporter": "python",
   "pygments_lexer": "ipython3",
   "version": "3.10.14"
  }
 },
 "nbformat": 4,
 "nbformat_minor": 2
}

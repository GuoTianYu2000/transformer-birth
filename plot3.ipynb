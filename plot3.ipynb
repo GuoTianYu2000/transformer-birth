{
 "cells": [
  {
   "cell_type": "code",
   "execution_count": 26,
   "metadata": {},
   "outputs": [
    {
     "name": "stdout",
     "output_type": "stream",
     "text": [
      "The autoreload extension is already loaded. To reload it, use:\n",
      "  %reload_ext autoreload\n"
     ]
    }
   ],
   "source": [
    "from dataclasses import dataclass\n",
    "import itertools\n",
    "import logging\n",
    "import random\n",
    "import math\n",
    "import numpy as np\n",
    "import json\n",
    "import pickle\n",
    "import time\n",
    "import torch\n",
    "import sys\n",
    "import yaml\n",
    "import seaborn as sns\n",
    "import matplotlib.pyplot as plt\n",
    "\n",
    "from omegaconf import OmegaConf\n",
    "from pathlib import Path\n",
    "from torch import nn, Tensor\n",
    "from torch.nn import functional as F\n",
    "from typing import List, Optional, Tuple\n",
    "import os\n",
    "os.chdir(\"/Users/guotianyu/GitHub/birth\")\n",
    "from data import DataArgs, Dataset, iterate_batches\n",
    "from ihead_full_model import ModelArgs, Transformer\n",
    "\n",
    "%load_ext autoreload\n",
    "%autoreload 2\n"
   ]
  },
  {
   "cell_type": "code",
   "execution_count": 27,
   "metadata": {},
   "outputs": [
    {
     "data": {
      "text/plain": [
       "<All keys matched successfully>"
      ]
     },
     "execution_count": 27,
     "metadata": {},
     "output_type": "execute_result"
    }
   ],
   "source": [
    "n_layers = 2\n",
    "n_heads = 2\n",
    "bos_num = 1\n",
    "train_steps = 2000\n",
    "path_local = f\"/Users/guotianyu/GitHub/birth/gens/delim/model_L{n_layers}_H{n_heads}_lr3-4_bos{bos_num}_delim005/params.yaml\"\n",
    "path_server = f\"/data/tianyu_guo/birth/gens/delim/model_L{n_layers}_H{n_heads}_lr3-4_bos{bos_num}_delim005/params.yaml\"\n",
    "cfg = OmegaConf.load(path_local)\n",
    "model = Transformer(cfg.model_args)\n",
    "model.eval()\n",
    "\n",
    "state_path_local = f\"/Users/guotianyu/GitHub/birth/gens/delim/model_L{n_layers}_H{n_heads}_lr3-4_bos{bos_num}_delim005/state_{train_steps}.pt\"\n",
    "state_path_server = f\"/data/tianyu_guo/birth/gens/delim/model_L{n_layers}_H{n_heads}_lr3-4_bos{bos_num}_delim005/state_{train_steps}.pt\"\n",
    "state = torch.load(state_path_local, map_location=\"cpu\")\n",
    "model.load_state_dict(state[\"model_state_dict\"], strict=False)"
   ]
  },
  {
   "cell_type": "code",
   "execution_count": 28,
   "metadata": {},
   "outputs": [],
   "source": [
    "ds = Dataset(cfg.data_args, train_test=None)\n",
    "ds_test = Dataset(cfg.data_args, train_test=None)\n",
    "ds_test.idxs = ds.idxs\n",
    "cfg.model_args.vocab_size = ds.num_tokens\n",
    "x, outs = ds.gen_batch(rng=np.random.default_rng([42, 27]), batch_size=cfg.optim_args.batch_size)\n",
    "(x, y, outs) = (x[:,:-1], x[:,1:], outs[:,:-1])\n",
    "x = torch.from_numpy(x)\n",
    "y = torch.from_numpy(y)\n",
    "outs = torch.from_numpy(outs)"
   ]
  },
  {
   "cell_type": "code",
   "execution_count": 29,
   "metadata": {},
   "outputs": [
    {
     "data": {
      "text/plain": [
       "torch.Size([512, 2, 2, 256, 256])"
      ]
     },
     "execution_count": 29,
     "metadata": {},
     "output_type": "execute_result"
    }
   ],
   "source": [
    "scores_list = []\n",
    "for layer_idx in range(model.n_layers):\n",
    "    scores_list.append(model.get_layer_scores(x, layer_idx))\n",
    "scores = torch.stack(scores_list, dim=1)\n",
    "scores.shape"
   ]
  },
  {
   "cell_type": "code",
   "execution_count": 32,
   "metadata": {},
   "outputs": [
    {
     "data": {
      "text/plain": [
       "['<s>',\n",
       " 'B',\n",
       " 'u',\n",
       " 'a',\n",
       " 'j',\n",
       " 'u',\n",
       " 'c',\n",
       " 'e',\n",
       " 'b',\n",
       " 'a',\n",
       " 'j',\n",
       " 'u',\n",
       " 'm',\n",
       " 'y',\n",
       " ' ',\n",
       " 'i',\n",
       " '<d>',\n",
       " 'e',\n",
       " 'b',\n",
       " 'r']"
      ]
     },
     "execution_count": 32,
     "metadata": {},
     "output_type": "execute_result"
    }
   ],
   "source": [
    "seq_len = 20\n",
    "seq_idx = 0\n",
    "text = ds.decode(x[seq_idx, :seq_len].numpy())\n",
    "text"
   ]
  },
  {
   "cell_type": "code",
   "execution_count": 33,
   "metadata": {},
   "outputs": [
    {
     "data": {
      "image/png": "[encoded data removed]",
      "text/plain": [
       "<Figure size 720x720 with 8 Axes>"
      ]
     },
     "metadata": {
      "needs_background": "light"
     },
     "output_type": "display_data"
    }
   ],
   "source": [
    "# scores = data['scores'][layer_idx]\n",
    "seq_len = 20\n",
    "seq_idx = 0\n",
    "text = ds.decode(x[seq_idx, :seq_len].numpy())\n",
    "\n",
    "fig, axes = plt.subplots(cfg.model_args['n_layers'], cfg.model_args['n_heads'], figsize=(cfg.model_args['n_heads']*5, cfg.model_args['n_layers']*5))\n",
    "axes = axes.flatten()\n",
    "\n",
    "for i, ax in enumerate(axes):\n",
    "    layer_idx = i // cfg.model_args['n_heads']\n",
    "    head_idx = i % cfg.model_args['n_heads']\n",
    "    attns = scores[seq_idx, layer_idx, head_idx, :seq_len, :seq_len].detach().numpy()\n",
    "    # attns = scores[0, i, :20, :20]\n",
    "    mask = 1 - np.tril(np.ones_like(attns)) # manually impose causal mask for better-looking plots\n",
    "    if head_idx == 0:\n",
    "        yticklabels = text\n",
    "    else:\n",
    "        yticklabels = False\n",
    "    if layer_idx == cfg.model_args['n_layers'] - 1:\n",
    "        xticklabels = text\n",
    "    else:\n",
    "        xticklabels = False\n",
    "    sns.heatmap(\n",
    "            attns, mask=mask,\n",
    "            cmap=\"coolwarm\", xticklabels=xticklabels, yticklabels=yticklabels,\n",
    "            ax=ax,\n",
    "        )\n",
    "    ax.set_title(f\"Layer{layer_idx} Head{head_idx}\")\n",
    "    # ax.set_xticks(list(ds.decode(x[seq_idx, :20].numpy())))\n",
    "fig.suptitle(f\"model with {cfg.model_args['n_layers']} layers, {cfg.model_args['n_heads']} heads, and {cfg.model_args['bos_num']} bos tokens\")\n",
    "plt.show()"
   ]
  },
  {
   "cell_type": "code",
   "execution_count": null,
   "metadata": {},
   "outputs": [],
   "source": [
    "# reset the token following the trigger token to a different one after the delimiter;\n",
    "# expect to see the "
   ]
  }
 ],
 "metadata": {
  "kernelspec": {
   "display_name": "base",
   "language": "python",
   "name": "python3"
  },
  "language_info": {
   "codemirror_mode": {
    "name": "ipython",
    "version": 3
   },
   "file_extension": ".py",
   "mimetype": "text/x-python",
   "name": "python",
   "nbconvert_exporter": "python",
   "pygments_lexer": "ipython3",
   "version": "3.9.7"
  }
 },
 "nbformat": 4,
 "nbformat_minor": 2
}

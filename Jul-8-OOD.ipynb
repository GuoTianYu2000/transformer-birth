{
 "cells": [
  {
   "cell_type": "code",
   "execution_count": 58,
   "metadata": {},
   "outputs": [
    {
     "name": "stdout",
     "output_type": "stream",
     "text": [
      "The autoreload extension is already loaded. To reload it, use:\n",
      "  %reload_ext autoreload\n"
     ]
    }
   ],
   "source": [
    "from dataclasses import dataclass\n",
    "import itertools\n",
    "import logging\n",
    "import random\n",
    "import math\n",
    "import numpy as np\n",
    "import json\n",
    "import pickle\n",
    "import time\n",
    "import torch\n",
    "import sys\n",
    "import yaml\n",
    "import seaborn as sns\n",
    "import matplotlib.pyplot as plt\n",
    "from probe_utils import *\n",
    "\n",
    "from omegaconf import OmegaConf\n",
    "from pathlib import Path\n",
    "from torch import nn, Tensor\n",
    "from torch.nn import functional as F\n",
    "from typing import List, Optional, Tuple\n",
    "import os\n",
    "# os.chdir(\"/data/tianyu_guo/birth\")\n",
    "from data import DataArgs, Dataset, iterate_batches, make_dataset\n",
    "from ihead_full_model import ModelArgs, Transformer, forward_hook, test_value, test_sink, zero_out_attention\n",
    "from plot_utils import *\n",
    "\n",
    "%load_ext autoreload\n",
    "%autoreload 2\n"
   ]
  },
  {
   "cell_type": "code",
   "execution_count": 60,
   "metadata": {},
   "outputs": [],
   "source": [
    "seeds = [27, 42]\n",
    "run_path_server = \"/data/tianyu_guo/birth/gens/pre-iclr/multi-head/dormant_copy_k3_bos1\"\n",
    "# run_path_server2=\"/data/tianyu_guo/birth/gens/special/dormant_copy_2\"\n",
    "model, cfg, x, y, ds = load_model(run_path_local=\"/Users/guotianyu_guo/GitHub/birth/gens/special/markov\", run_path_server=run_path_server, n_layers=4, n_heads=4, bos_num=1, train_steps=10000, delim=0, with_data=True, data_path_local=\"/Users/guotianyu_guo/GitHub/birth/data\", data_path_server=\"/data/tianyu_guo/birth/data\", seeds=seeds)\n",
    "hook = zero_out_attention(target_layers=[2], target_heads=[0, 1])\n",
    "x_ood = ds.gen_batch_ood(rng=np.random.default_rng(seeds), batch_size=cfg.optim_args.batch_size, drop=[0])\n",
    "x_ood = torch.from_numpy(x_ood)\n",
    "y_ood = x_ood[:, 1:]\n",
    "x_ood = x_ood[:, :-1]"
   ]
  },
  {
   "cell_type": "code",
   "execution_count": 61,
   "metadata": {},
   "outputs": [],
   "source": [
    "rng = np.random.default_rng(27)\n",
    "\n",
    "probs = get_oracle_predicts(x, ds)\n",
    "ood_probs = get_oracle_predicts(x_ood, ds)\n",
    "\n",
    "predicts, outputs_list = model.modified_forward_with_hook(x, hook)\n",
    "ood_predicts, ood_outputs_list = model.modified_forward_with_hook(x_ood, hook)"
   ]
  },
  {
   "cell_type": "markdown",
   "metadata": {},
   "source": [
    "## weird, seems that no bos in the input doesn't matter"
   ]
  },
  {
   "cell_type": "code",
   "execution_count": 62,
   "metadata": {},
   "outputs": [],
   "source": [
    "triggers_pos = ds.get_triggers_pos(x)\n",
    "triggers_pos_ood = ds.get_triggers_pos(x_ood)\n",
    "\n",
    "risk = get_risk(probs, predicts, predict_in_logits=True, triggers_pos=triggers_pos)\n",
    "risk_oracle = get_risk(probs, probs, predict_in_logits=False, triggers_pos=triggers_pos)\n",
    "risk_ood = get_risk(ood_probs, ood_predicts, predict_in_logits=True, triggers_pos=triggers_pos_ood)\n",
    "risk_ood_oracle = get_risk(ood_probs, ood_probs, predict_in_logits=False, triggers_pos=triggers_pos_ood)\n",
    "\n",
    "# print(risk[:,1:].mean(), risk_oracle[:,1:].mean(), risk_ood[:,1:].mean(), risk_ood_oracle[:,1:].mean())"
   ]
  },
  {
   "cell_type": "code",
   "execution_count": 63,
   "metadata": {},
   "outputs": [
    {
     "data": {
      "text/plain": [
       "(tensor(0.0007, grad_fn=<MeanBackward0>),\n",
       " tensor([ 1,  1, 43,  1,  1,  1, 43,  1,  1, 58, 58,  1,  1,  1,  1, 43,  1, 43,\n",
       "         43,  1, 43,  1, 43, 43]))"
      ]
     },
     "execution_count": 63,
     "metadata": {},
     "output_type": "execute_result"
    }
   ],
   "source": [
    "seq_idx = 9\n",
    "# [risk_ood[0][seq_idx, triggers_pos_ood[seq_idx, :]==True].mean() for seq_idx in range(cfg.optim_args.batch_size)]\n",
    "risk_ood[0][seq_idx, triggers_pos_ood[seq_idx, :]==True].mean(), x_ood[seq_idx, triggers_pos_ood[seq_idx, :]==True]"
   ]
  },
  {
   "cell_type": "code",
   "execution_count": 64,
   "metadata": {},
   "outputs": [
    {
     "data": {
      "text/plain": [
       "(tensor([50, 40, 47, 59,  8, 56, 47,  8, 10, 42,  5,  6,  7, 10, 12, 54, 59, 42,\n",
       "         49,  8, 57, 11, 56, 60]),\n",
       " tensor([50, 40, 47, 59,  8, 56, 47,  8, 10, 42,  5,  6,  7, 10, 12, 54, 59, 42,\n",
       "         49,  8, 57, 11, 56, 60]))"
      ]
     },
     "execution_count": 64,
     "metadata": {},
     "output_type": "execute_result"
    }
   ],
   "source": [
    "x_ood[seq_idx, [idx-1 for idx, f in enumerate(triggers_pos_ood[seq_idx, :]) if f]], ood_predicts[seq_idx, triggers_pos_ood[seq_idx, :]==True].argmax(dim=-1)"
   ]
  },
  {
   "cell_type": "code",
   "execution_count": 65,
   "metadata": {},
   "outputs": [
    {
     "data": {
      "image/png": "[encoded data removed]",
      "text/plain": [
       "<Figure size 640x480 with 2 Axes>"
      ]
     },
     "metadata": {},
     "output_type": "display_data"
    }
   ],
   "source": [
    "plot_attn_weights(ood_outputs_list, x_ood, ds, [0], 30, 1, 1, seq_start=0, ticks_size=14, titles=[], save_files_fn=[], fn=None)"
   ]
  },
  {
   "cell_type": "code",
   "execution_count": 66,
   "metadata": {},
   "outputs": [
    {
     "data": {
      "text/plain": [
       "((tensor(0.0022, grad_fn=<MeanBackward0>),\n",
       "  tensor(2.2304, grad_fn=<MeanBackward0>)),\n",
       " (tensor(0.), tensor(2.2203)),\n",
       " (tensor(0.0168, grad_fn=<MeanBackward0>),\n",
       "  tensor(2.0623, grad_fn=<MeanBackward0>)),\n",
       " (tensor(0.), tensor(2.0435)))"
      ]
     },
     "execution_count": 66,
     "metadata": {},
     "output_type": "execute_result"
    }
   ],
   "source": [
    "risk[1:3], risk_oracle[1:3], risk_ood[1:3], risk_ood_oracle[1:3]"
   ]
  },
  {
   "cell_type": "code",
   "execution_count": 49,
   "metadata": {},
   "outputs": [],
   "source": [
    "no_bos_run_path_server = \"/data/tianyu_guo/birth/gens/pre-iclr/bos_0/dormant_copy_k3_bos0\"\n",
    "# no_bos_run_path_server = \"/data/tianyu_guo/birth/gens/pre-iclr/multi-head/dormant_copy_k3_bos1\"\n",
    "# run_path_server2=\"/data/tianyu_guo/birth/gens/special/dormant_copy_2\"\n",
    "model_no_bos, cfg_no_bos, _, _, _ = load_model(run_path_local=\"/Users/tianyu_guo/GitHub/birth/gens/special/markov\", run_path_server=no_bos_run_path_server, n_layers=1, n_heads=1, bos_num=0, train_steps=10000, delim=0, with_data=True, data_path_local=\"/Users/tianyu_guo/GitHub/birth/data\", data_path_server=\"/data/tianyu_guo/birth/data\")"
   ]
  },
  {
   "cell_type": "code",
   "execution_count": 50,
   "metadata": {},
   "outputs": [],
   "source": [
    "predicts_no_bos = model_no_bos(x[:, 1:])\n",
    "ood_predicts_no_bos, outputs_list_ood_no_bos = model_no_bos.modified_forward_with_hook(x_ood[:, 1:], hook)\n",
    "probs_no_bos = probs[:, 1:, :-1]\n",
    "ood_probs_no_bos = ood_probs[:, 1:, :-1]\n",
    "\n",
    "triggers_pos_no_bos = ds.get_triggers_pos(x[:, 1:])\n",
    "triggers_pos_ood_no_bos = ds.get_triggers_pos(x_ood[:, 1:])\n",
    "\n",
    "risk_no_bos = get_risk(probs_no_bos, predicts_no_bos, predict_in_logits=True, triggers_pos=triggers_pos_no_bos)\n",
    "risk_oracle_no_bos = get_risk(probs_no_bos, probs_no_bos, predict_in_logits=False, triggers_pos=triggers_pos_no_bos)\n",
    "risk_ood_no_bos = get_risk(ood_probs_no_bos, ood_predicts_no_bos, predict_in_logits=True, triggers_pos=triggers_pos_ood_no_bos)\n",
    "risk_ood_oracle_no_bos = get_risk(ood_probs_no_bos, ood_probs_no_bos, predict_in_logits=False, triggers_pos=triggers_pos_ood_no_bos)"
   ]
  },
  {
   "cell_type": "code",
   "execution_count": 51,
   "metadata": {},
   "outputs": [
    {
     "data": {
      "text/plain": [
       "((tensor(8.3267e-05, grad_fn=<MeanBackward0>),\n",
       "  tensor(2.2160, grad_fn=<MeanBackward0>)),\n",
       " (tensor(0.), tensor(2.2145)),\n",
       " (tensor(0.0031, grad_fn=<MeanBackward0>),\n",
       "  tensor(2.0543, grad_fn=<MeanBackward0>)),\n",
       " (tensor(0.), tensor(2.0379)))"
      ]
     },
     "execution_count": 51,
     "metadata": {},
     "output_type": "execute_result"
    }
   ],
   "source": [
    "risk_no_bos[1:3], risk_oracle_no_bos[1:3], risk_ood_no_bos[1:3], risk_ood_oracle_no_bos[1:3]"
   ]
  },
  {
   "cell_type": "code",
   "execution_count": 52,
   "metadata": {},
   "outputs": [
    {
     "data": {
      "text/plain": [
       "(tensor([50, 40, 47, 59,  8, 56, 47,  8, 10, 42,  5,  6,  7, 10, 12, 54, 59, 42,\n",
       "         49,  8, 57, 11, 56, 60]),\n",
       " tensor([50, 40, 47, 59,  8, 56, 47,  8, 10, 42,  5,  6,  7, 10, 12, 54, 59, 42,\n",
       "         49,  8, 57, 11, 56, 60]))"
      ]
     },
     "execution_count": 52,
     "metadata": {},
     "output_type": "execute_result"
    }
   ],
   "source": [
    "x_ood[seq_idx, [idx for idx, f in enumerate(triggers_pos_ood_no_bos[seq_idx, :]) if f]], ood_predicts_no_bos[seq_idx, triggers_pos_ood_no_bos[seq_idx, :]==True].argmax(dim=-1)"
   ]
  },
  {
   "cell_type": "code",
   "execution_count": 57,
   "metadata": {},
   "outputs": [
    {
     "data": {
      "image/png": "[encoded data removed]",
      "text/plain": [
       "<Figure size 640x480 with 2 Axes>"
      ]
     },
     "metadata": {},
     "output_type": "display_data"
    }
   ],
   "source": [
    "plot_attn_weights(outputs_list_ood_no_bos, x_ood[:, 1:], ds, [seq_idx], 40, 0, 0, keep_label=[15, 16, 38, 39], ticks_size=14, titles=[], save_files_fn=[], fn=None)"
   ]
  },
  {
   "cell_type": "markdown",
   "metadata": {},
   "source": [
    "## Try multi-head"
   ]
  },
  {
   "cell_type": "code",
   "execution_count": 5,
   "metadata": {},
   "outputs": [],
   "source": [
    "n_layers = 6\n",
    "n_heads = 4\n",
    "run_path_server = \"/data/tianyu_guo/birth/gens/pre-iclr/multi-head/dormant_copy_k3_bos1\"\n",
    "# run_path_server2=\"/data/tianyu_guo/birth/gens/special/dormant_copy_2\"\n",
    "model, cfg, x, y, ds = load_model(run_path_local=\"/Users/guotianyu_guo/GitHub/birth/gens/special/markov\", run_path_server=run_path_server, n_layers=n_layers, n_heads=n_heads, bos_num=1, train_steps=10000, delim=0, with_data=True, data_path_local=\"/Users/guotianyu_guo/GitHub/birth/data\", data_path_server=\"/data/tianyu_guo/birth/data\")\n"
   ]
  },
  {
   "cell_type": "code",
   "execution_count": 6,
   "metadata": {},
   "outputs": [],
   "source": [
    "with torch.no_grad():\n",
    "    rng = np.random.default_rng(27)\n",
    "    ood_idxs = [rng.permutation(range(1, x.shape[1])).tolist() for _ in range(x.shape[0])]\n",
    "    ood_idxs = [[0] + idxs for idxs in ood_idxs]\n",
    "    x_ood = torch.gather(x, 1, torch.tensor(ood_idxs).to(x.device))\n",
    "    model.cuda().eval()\n",
    "    x, y, x_ood = x.cuda(), y.cuda(), x_ood.cuda()\n",
    "    probs = get_oracle_predicts(x, ds)\n",
    "    ood_probs = get_oracle_predicts(x_ood, ds)\n",
    "\n",
    "    predicts = model(x)\n",
    "    ood_predicts = model(x_ood)"
   ]
  },
  {
   "cell_type": "code",
   "execution_count": 7,
   "metadata": {},
   "outputs": [
    {
     "name": "stdout",
     "output_type": "stream",
     "text": [
      "tensor(1.6430) tensor(1.6420) tensor(2.2518) tensor(1.6420)\n"
     ]
    }
   ],
   "source": [
    "predicts = predicts.cpu()\n",
    "ood_predicts = ood_predicts.cpu()\n",
    "risk = get_risk(probs, predicts, predict_in_logits=True)\n",
    "risk_oracle = get_risk(probs, probs, predict_in_logits=False)\n",
    "risk_ood = get_risk(ood_probs, ood_predicts, predict_in_logits=True)\n",
    "risk_ood_oracle = get_risk(ood_probs, ood_probs, predict_in_logits=False)\n",
    "print(risk[:,1:].mean(), risk_oracle[:,1:].mean(), risk_ood[:,1:].mean(), risk_ood_oracle[:,1:].mean())"
   ]
  },
  {
   "cell_type": "code",
   "execution_count": null,
   "metadata": {},
   "outputs": [],
   "source": []
  }
 ],
 "metadata": {
  "kernelspec": {
   "display_name": "nanogpt",
   "language": "python",
   "name": "python3"
  },
  "language_info": {
   "name": "python",
   "version": "3.10.14"
  }
 },
 "nbformat": 4,
 "nbformat_minor": 2
}

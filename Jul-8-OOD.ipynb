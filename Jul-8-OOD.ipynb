{
 "cells": [
  {
   "cell_type": "code",
   "execution_count": 1,
   "metadata": {},
   "outputs": [],
   "source": [
    "from dataclasses import dataclass\n",
    "import itertools\n",
    "import logging\n",
    "import random\n",
    "import math\n",
    "import numpy as np\n",
    "import json\n",
    "import pickle\n",
    "import time\n",
    "import torch\n",
    "import sys\n",
    "import yaml\n",
    "import seaborn as sns\n",
    "import matplotlib.pyplot as plt\n",
    "from probe_utils import *\n",
    "\n",
    "from omegaconf import OmegaConf\n",
    "from pathlib import Path\n",
    "from torch import nn, Tensor\n",
    "from torch.nn import functional as F\n",
    "from typing import List, Optional, Tuple\n",
    "import os\n",
    "# os.chdir(\"/data/tianyu_guo/birth\")\n",
    "from data import DataArgs, Dataset, iterate_batches, make_dataset\n",
    "from ihead_full_model import ModelArgs, Transformer, forward_hook, test_value, test_sink\n",
    "\n",
    "%load_ext autoreload\n",
    "%autoreload 2\n"
   ]
  },
  {
   "cell_type": "code",
   "execution_count": 2,
   "metadata": {},
   "outputs": [],
   "source": [
    "torch.cuda.set_device(3)"
   ]
  },
  {
   "cell_type": "code",
   "execution_count": 20,
   "metadata": {},
   "outputs": [],
   "source": [
    "run_path_server = \"/data/tianyu/birth/gens/final/dormant_copy\"\n",
    "# run_path_server2=\"/data/tianyu_guo/birth/gens/special/dormant_copy_2\"\n",
    "model, cfg, x, y, ds = load_model(run_path_local=\"/Users/guotianyu/GitHub/birth/gens/special/markov\", run_path_server=run_path_server, n_layers=1, n_heads=1, bos_num=1, train_steps=10000, delim=0, with_data=True, data_path_local=\"/Users/guotianyu/GitHub/birth/data\", data_path_server=\"/data/tianyu/birth/data\")"
   ]
  },
  {
   "cell_type": "code",
   "execution_count": 21,
   "metadata": {},
   "outputs": [],
   "source": [
    "rng = np.random.default_rng(27)\n",
    "permute_idxs = [rng.permutation(range(1, x.shape[1])).tolist() for _ in range(x.shape[0])]\n",
    "permute_idxs = [[0] + idxs for idxs in permute_idxs]\n",
    "permute_x = torch.gather(x, 1, torch.tensor(permute_idxs).to(x.device))\n",
    "probs = get_oracle_predicts(x, ds)\n",
    "permute_probs = get_oracle_predicts(permute_x, ds)\n",
    "\n",
    "predicts = model(x)\n",
    "permute_predicts = model(permute_x)"
   ]
  },
  {
   "cell_type": "code",
   "execution_count": 23,
   "metadata": {},
   "outputs": [
    {
     "name": "stdout",
     "output_type": "stream",
     "text": [
      "tensor(1.6431, grad_fn=<MeanBackward0>) tensor(1.6420) tensor(2.3324, grad_fn=<MeanBackward0>) tensor(1.6420)\n"
     ]
    }
   ],
   "source": [
    "risk = get_risk(probs, predicts, predict_in_logits=True)\n",
    "risk_oracle = get_risk(probs, probs, predict_in_logits=False)\n",
    "risk_permute = get_risk(permute_probs, permute_predicts, predict_in_logits=True)\n",
    "risk_permute_oracle = get_risk(permute_probs, permute_probs, predict_in_logits=False)\n",
    "print(risk[:,1:].mean(), risk_oracle[:,1:].mean(), risk_permute[:,1:].mean(), risk_permute_oracle[:,1:].mean())"
   ]
  },
  {
   "cell_type": "markdown",
   "metadata": {},
   "source": [
    "# whether positional encoding interferes with the OOD task?"
   ]
  },
  {
   "cell_type": "code",
   "execution_count": 28,
   "metadata": {},
   "outputs": [],
   "source": [
    "no_bos_run_path_server = \"/data/tianyu/birth/gens/final/dormant_copy_k3_bos0\"\n",
    "# run_path_server2=\"/data/tianyu_guo/birth/gens/special/dormant_copy_2\"\n",
    "model_no_bos, cfg_no_bos, _, _, _ = load_model(run_path_local=\"/Users/guotianyu/GitHub/birth/gens/special/markov\", run_path_server=no_bos_run_path_server, n_layers=1, n_heads=1, bos_num=0, train_steps=10000, delim=0, with_data=True, data_path_local=\"/Users/guotianyu/GitHub/birth/data\", data_path_server=\"/data/tianyu/birth/data\")"
   ]
  },
  {
   "cell_type": "code",
   "execution_count": 30,
   "metadata": {},
   "outputs": [
    {
     "name": "stdout",
     "output_type": "stream",
     "text": [
      "tensor(1.6651, grad_fn=<MeanBackward0>) tensor(1.6394) tensor(2.3513, grad_fn=<MeanBackward0>) tensor(1.6419)\n"
     ]
    }
   ],
   "source": [
    "predicts_no_bos = model(x[:, 1:])\n",
    "permute_predicts_no_bos = model(permute_x[:, 1:])\n",
    "probs_no_bos = probs[:, 1:, :]\n",
    "permute_probs_no_bos = permute_probs[:, 1:, :]\n",
    "\n",
    "risk_no_bos = get_risk(probs_no_bos, predicts_no_bos, predict_in_logits=True)\n",
    "risk_oracle_no_bos = get_risk(probs_no_bos, probs_no_bos, predict_in_logits=False)\n",
    "risk_permute_no_bos = get_risk(permute_probs_no_bos, permute_predicts_no_bos, predict_in_logits=True)\n",
    "risk_permute_oracle_no_bos = get_risk(permute_probs_no_bos, permute_probs_no_bos, predict_in_logits=False)\n",
    "print(risk_no_bos[:,1:].mean(), risk_oracle_no_bos[:,1:].mean(), risk_permute_no_bos[:,1:].mean(), risk_permute_oracle_no_bos[:,1:].mean())"
   ]
  }
 ],
 "metadata": {
  "kernelspec": {
   "display_name": "nanogpt",
   "language": "python",
   "name": "python3"
  },
  "language_info": {
   "codemirror_mode": {
    "name": "ipython",
    "version": 3
   },
   "file_extension": ".py",
   "mimetype": "text/x-python",
   "name": "python",
   "nbconvert_exporter": "python",
   "pygments_lexer": "ipython3",
   "version": "3.10.14"
  }
 },
 "nbformat": 4,
 "nbformat_minor": 2
}

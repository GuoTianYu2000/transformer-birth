{
 "cells": [
  {
   "cell_type": "code",
   "execution_count": 69,
   "metadata": {},
   "outputs": [
    {
     "name": "stdout",
     "output_type": "stream",
     "text": [
      "The autoreload extension is already loaded. To reload it, use:\n",
      "  %reload_ext autoreload\n"
     ]
    }
   ],
   "source": [
    "from dataclasses import dataclass\n",
    "import itertools\n",
    "import logging\n",
    "import random\n",
    "import math\n",
    "import numpy as np\n",
    "import json\n",
    "import pickle\n",
    "import time\n",
    "import torch\n",
    "import sys\n",
    "import yaml\n",
    "import seaborn as sns\n",
    "import matplotlib.pyplot as plt\n",
    "from probe_utils import *\n",
    "\n",
    "from omegaconf import OmegaConf\n",
    "from pathlib import Path\n",
    "from torch import nn, Tensor\n",
    "from torch.nn import functional as F\n",
    "from typing import List, Optional, Tuple\n",
    "import os\n",
    "os.chdir(\"/Users/guotianyu/GitHub/birth\")\n",
    "from data import DataArgs, Dataset, iterate_batches, make_dataset\n",
    "from ihead_full_model import ModelArgs, Transformer, forward_hook\n",
    "\n",
    "%load_ext autoreload\n",
    "%autoreload 2\n"
   ]
  },
  {
   "cell_type": "code",
   "execution_count": 245,
   "metadata": {},
   "outputs": [
    {
     "data": {
      "text/plain": [
       "<All keys matched successfully>"
      ]
     },
     "execution_count": 245,
     "metadata": {},
     "output_type": "execute_result"
    }
   ],
   "source": [
    "n_layers = 1\n",
    "n_heads = 1\n",
    "bos_num = 1\n",
    "train_steps = 4999\n",
    "path_local = f\"/Users/guotianyu/GitHub/birth/gens/special/dormant_copy/model_L1_H1_bos1_delim0/params.yaml\"\n",
    "cfg = OmegaConf.load(path_local)\n",
    "model = Transformer(cfg.model_args)\n",
    "model.eval()\n",
    "\n",
    "\n",
    "state_path_local = f\"/Users/guotianyu/GitHub/birth/gens/special/dormant_copy/model_L1_H1_bos1_delim0/state_{train_steps}.pt\"\n",
    "state = torch.load(state_path_local, map_location=\"cpu\")\n",
    "model.load_state_dict(state[\"model_state_dict\"], strict=False)"
   ]
  },
  {
   "cell_type": "code",
   "execution_count": 249,
   "metadata": {},
   "outputs": [],
   "source": [
    "import pickle\n",
    "import numpy as np\n",
    "\n",
    "with open(\"/Users/guotianyu/GitHub/birth/data/bos1_d0/meta.pickle\", \"rb\") as f:\n",
    "    meta_info = pickle.load(f)\n",
    "\n",
    "# data_cfg = OmegaConf.structured(meta_info)\n",
    "\n",
    "\n",
    "ds = make_dataset(cfg, meta_info)\n",
    "x = ds.gen_batch(rng=np.random.default_rng([42, 27]), batch_size=cfg.optim_args.batch_size)\n",
    "x = torch.from_numpy(x)\n",
    "# y = torch.from_numpy(y)\n",
    "x = x[:, :-1]\n",
    "hook = forward_hook(target_layers=[], target_name=\"\")\n",
    "predicts, outputs_list = model.modified_forward_with_hook(x, hook)"
   ]
  },
  {
   "cell_type": "code",
   "execution_count": null,
   "metadata": {},
   "outputs": [],
   "source": [
    "# scores = data['scores'][layer_idx]\n",
    "seq_len = 20\n",
    "seq_idx = 1\n",
    "text = ds.decode(x[seq_idx, :seq_len].numpy())\n",
    "\n",
    "fig, axes = plt.subplots(cfg.model_args['n_layers'], cfg.model_args['n_heads'], figsize=(cfg.model_args['n_heads']*5, cfg.model_args['n_layers']*5))\n",
    "axes = axes.flatten()\n",
    "\n",
    "for i, ax in enumerate(axes):\n",
    "    layer_idx = i // cfg.model_args['n_heads']\n",
    "    head_idx = i % cfg.model_args['n_heads']\n",
    "    plot_attns(cfg, ax, seq_idx, layer_idx, head_idx, outputs_list, text)\n",
    "    # ax.set_xticks(list(ds.decode(x[seq_idx, :20].numpy())))\n",
    "fig.suptitle(f\"model with {cfg.model_args['n_layers']} layers, {cfg.model_args['n_heads']} heads, and {cfg.model_args['bos_num']} bos tokens\")\n",
    "plt.show()"
   ]
  },
  {
   "cell_type": "code",
   "execution_count": 251,
   "metadata": {},
   "outputs": [
    {
     "data": {
      "image/png": "[encoded data removed]",
      "text/plain": [
       "<Figure size 432x288 with 2 Axes>"
      ]
     },
     "metadata": {
      "needs_background": "light"
     },
     "output_type": "display_data"
    }
   ],
   "source": [
    "seq_idx, layer_idx, head_idx, seq_len = 134, 0, 0, 20\n",
    "text = ds.decode(x[seq_idx, :seq_len].numpy())\n",
    "fig, ax = plt.subplots()\n",
    "ax = plot_attns(cfg, ax, seq_idx, head_idx, layer_idx, seq_len, outputs_list, text)\n",
    "fig.suptitle(f\"model with {cfg.model_args['n_layers']} layers, {cfg.model_args['n_heads']} heads, and {cfg.model_args['bos_num']} bos tokens\")\n",
    "plt.show()"
   ]
  },
  {
   "cell_type": "code",
   "execution_count": 262,
   "metadata": {},
   "outputs": [
    {
     "data": {
      "text/plain": [
       "array([57, 56, 52, 47,  0, 50])"
      ]
     },
     "execution_count": 262,
     "metadata": {},
     "output_type": "execute_result"
    }
   ],
   "source": [
    "(-ds.marginal).argsort()[6:12]"
   ]
  },
  {
   "cell_type": "code",
   "execution_count": 263,
   "metadata": {},
   "outputs": [
    {
     "data": {
      "text/plain": [
       "['r', 'n', 'i']"
      ]
     },
     "execution_count": 263,
     "metadata": {},
     "output_type": "execute_result"
    }
   ],
   "source": [
    "ds.decode((-ds.marginal).argsort()[7:10])"
   ]
  },
  {
   "cell_type": "code",
   "execution_count": 264,
   "metadata": {},
   "outputs": [
    {
     "data": {
      "text/plain": [
       "array([ 8, 13, 60, 49, 32])"
      ]
     },
     "execution_count": 264,
     "metadata": {},
     "output_type": "execute_result"
    }
   ],
   "source": [
    "(-ds.marginal).argsort()[25:30]"
   ]
  },
  {
   "cell_type": "code",
   "execution_count": 265,
   "metadata": {},
   "outputs": [],
   "source": [
    "special_idxs = [0, 6, 47, 21]"
   ]
  },
  {
   "cell_type": "code",
   "execution_count": 286,
   "metadata": {},
   "outputs": [],
   "source": [
    "# zero_out_idxs = ds.idxs + [9, 0, 47, 1, 2, 3, 4, 5, 6, 8]\n",
    "# subset = list((-ds.marginal).argsort()[5:30])\n",
    "# for idx in special_idxs:\n",
    "#     subset.remove(idx)\n",
    "x_dormant = np.array([[56, 52, 50, i, 0, i] for i in ds.tok_range])\n",
    "# x_dormant = ds.no_trigger_gen_seq(rng=np.random.default_rng([42, 27]), subset=subset)\n",
    "# x_dormant = np.array([x_dormant[:-1]])\n",
    "x_dormant = torch.from_numpy(x_dormant)\n",
    "predicts_dormant, outputs_list_dormant = model.modified_forward_with_hook(x_dormant, hook)"
   ]
  },
  {
   "cell_type": "code",
   "execution_count": 293,
   "metadata": {},
   "outputs": [
    {
     "data": {
      "image/png": "[encoded data removed]",
      "text/plain": [
       "<Figure size 432x288 with 2 Axes>"
      ]
     },
     "metadata": {
      "needs_background": "light"
     },
     "output_type": "display_data"
    }
   ],
   "source": [
    "seq_idx, layer_idx, head_idx, seq_len = 45, 0, 0, 6\n",
    "text = ds.decode(x_dormant[seq_idx, :seq_len].numpy())\n",
    "fig, ax = plt.subplots()\n",
    "ax = plot_attns(cfg, ax, seq_idx, head_idx, layer_idx, seq_len, outputs_list_dormant, text)\n",
    "fig.suptitle(f\"model with {cfg.model_args['n_layers']} layers, {cfg.model_args['n_heads']} heads, and {cfg.model_args['bos_num']} bos tokens\")\n",
    "plt.show()"
   ]
  },
  {
   "cell_type": "code",
   "execution_count": 274,
   "metadata": {},
   "outputs": [],
   "source": [
    "special_idxs = [i for i in ds.tok_range if outputs_list_dormant[0]['attn_weights'][i, 0, 3, 0] < 0.9]\n",
    "all_attn_weights = [outputs_list_dormant[0]['attn_weights'][i, 0, 3, 0].detach().numpy() for i in ds.tok_range]"
   ]
  },
  {
   "cell_type": "code",
   "execution_count": 275,
   "metadata": {},
   "outputs": [
    {
     "data": {
      "text/plain": [
       "[<matplotlib.lines.Line2D at 0x7fda40cc9610>]"
      ]
     },
     "execution_count": 275,
     "metadata": {},
     "output_type": "execute_result"
    },
    {
     "data": {
      "image/png": "[encoded data removed]",
      "text/plain": [
       "<Figure size 432x288 with 1 Axes>"
      ]
     },
     "metadata": {
      "needs_background": "light"
     },
     "output_type": "display_data"
    }
   ],
   "source": [
    "# tmp = all_attn_weights.pop(ds.idxs)\n",
    "plt.plot(all_attn_weights)"
   ]
  },
  {
   "cell_type": "code",
   "execution_count": 305,
   "metadata": {},
   "outputs": [
    {
     "data": {
      "text/plain": [
       "tensor([ 1.5099e-01,  7.0868e-01, -2.0070e+00, -1.9275e+00,  7.0970e-01,\n",
       "        -1.5604e-01,  1.6016e+00,  3.2554e-01, -1.9159e+00,  8.4411e-01,\n",
       "        -1.0408e+00, -3.7834e-01, -1.4630e+00, -1.6671e+00,  5.2310e-01,\n",
       "         7.7141e-01, -2.8056e-01,  6.8931e-01,  1.6095e+00,  4.7285e-01,\n",
       "         4.8262e-01,  9.2262e-01, -8.0866e-01,  4.0201e-03,  1.4670e-01,\n",
       "        -1.2257e-01,  8.4486e-01, -7.7706e-01,  4.7475e-01,  2.5140e-01,\n",
       "        -6.1554e-01,  7.8979e-01,  1.0282e+00,  4.9250e-02,  1.0392e+00,\n",
       "         2.5374e+00, -1.1297e+00, -8.2233e-03, -2.1591e-01,  1.9042e+00,\n",
       "         3.0676e-01, -1.0048e-01,  3.7116e-01, -5.3754e-01, -5.7643e-01,\n",
       "         8.4629e-01, -9.0285e-02,  6.6789e-01, -2.8922e-01, -9.4762e-01,\n",
       "         1.8801e+00, -8.5038e-01, -6.2334e-01, -1.3108e-01, -4.8467e-02,\n",
       "        -9.3250e-01,  9.2511e-01, -1.2199e-01, -9.0444e-01, -1.0560e+00,\n",
       "        -6.7932e-02,  9.3083e-01,  9.1253e-01, -2.2083e+00,  3.5943e-01,\n",
       "         1.1311e-01, -1.3219e+00, -5.1564e-01, -6.3683e-01,  3.6230e-01,\n",
       "        -5.9420e-02, -1.6088e+00, -1.3449e-02, -6.2620e-02, -2.4512e-01,\n",
       "         1.3685e+00,  4.3769e-01,  1.3088e+00,  1.9466e-01,  4.4244e-01,\n",
       "        -1.3077e+00,  5.5588e-01,  1.0289e+00, -1.1934e+00, -6.7409e-01,\n",
       "         1.0239e-01,  1.1480e+00,  6.6399e-01,  7.3404e-01,  1.1948e-01,\n",
       "        -2.6216e-01,  1.7992e-01,  9.8797e-01, -1.5517e+00,  3.6357e-01,\n",
       "         6.6914e-02, -6.9142e-02, -5.5104e-01,  1.8398e+00,  1.1574e+00,\n",
       "         1.5576e+00,  3.1191e-01,  1.2205e+00, -4.0217e-01, -1.5471e+00,\n",
       "        -6.7741e-01, -1.0734e-01, -5.0614e-01, -2.3843e-01, -4.4704e-01,\n",
       "         8.4182e-01, -2.4691e-01, -3.8243e-01,  5.8187e-01,  1.9545e+00,\n",
       "         1.3636e+00, -6.8608e-01,  4.6485e-01, -7.3678e-01,  1.3068e+00,\n",
       "         1.7475e-01,  7.1710e-01,  1.0410e+00,  5.4099e-01, -1.3973e+00,\n",
       "         2.1862e-01, -5.2089e-01, -6.9525e-01, -1.3166e+00, -2.0221e+00,\n",
       "        -1.3824e-02, -3.2494e-01,  2.7195e-01, -2.9336e-01,  4.9090e-01,\n",
       "         4.2963e-01, -4.0021e-01,  1.6413e+00,  1.6330e-01,  7.6649e-01,\n",
       "        -4.1386e-02, -1.3743e+00,  4.5243e-01,  2.7991e-01, -9.7390e-01,\n",
       "        -6.9185e-02, -3.1313e-01,  7.8500e-01,  6.1972e-01, -1.2118e+00,\n",
       "        -5.1099e-01,  5.3021e-01, -4.1337e-01,  9.9354e-01,  2.3426e-01,\n",
       "        -1.1468e+00, -6.7331e-02,  5.0026e-01, -9.7829e-01,  7.8490e-02,\n",
       "        -5.2325e-01, -3.4596e-01, -1.4092e+00, -2.1730e-01,  8.1239e-01,\n",
       "         1.1308e-01,  6.0478e-01, -9.6747e-01,  9.1943e-02, -7.9890e-02,\n",
       "        -5.8323e-01, -2.7918e-02, -2.7136e-01, -7.1731e-01, -6.2309e-02,\n",
       "        -1.7869e+00, -7.2469e-01, -4.2968e-01,  5.8914e-01,  1.5578e-01,\n",
       "        -9.2994e-01, -6.2385e-02,  2.1510e-01, -1.5655e+00, -1.2423e+00,\n",
       "         4.0662e-01,  1.6820e-01,  2.7733e-01,  1.4998e+00, -5.0500e-01,\n",
       "        -4.6407e-01,  7.6557e-02,  2.2418e+00, -4.9014e-01,  3.2620e-02,\n",
       "         4.5893e-01,  4.6463e-01, -6.5522e-01,  1.8957e+00,  2.9277e+00,\n",
       "         2.3687e-01,  8.8659e-01, -1.8599e+00, -1.1860e+00, -1.2767e+00,\n",
       "        -1.0508e+00, -3.4371e-01,  1.4144e+00,  8.0877e-01, -5.5918e-01,\n",
       "         6.2424e-01,  2.3677e-01, -1.4276e+00, -1.4286e+00,  8.7417e-01,\n",
       "         3.3333e-01,  1.3774e+00, -8.0238e-01,  2.0794e+00,  3.3689e-01,\n",
       "         1.5285e-01, -2.0964e-01, -5.9993e-01, -8.3116e-01, -5.6833e-01,\n",
       "        -1.5315e+00,  4.3374e-01,  1.7063e-02, -8.5889e-01, -2.0508e-03,\n",
       "        -1.2951e+00, -1.4086e-01,  1.8808e-01,  3.7165e-01,  1.1194e+00,\n",
       "         8.3025e-02,  4.1753e-01,  1.0161e-01,  3.5241e-01, -1.2272e+00,\n",
       "        -2.0212e-01, -1.2347e+00,  6.6191e-01,  3.1288e+00, -4.6652e-01,\n",
       "         2.0021e-01,  2.4650e-01,  1.6929e+00,  1.3730e+00,  1.4321e+00,\n",
       "         5.8362e-01, -7.4428e-01,  8.4552e-01, -3.6024e-01,  1.4884e-02,\n",
       "        -4.5574e-01], grad_fn=<SliceBackward0>)"
      ]
     },
     "execution_count": 305,
     "metadata": {},
     "output_type": "execute_result"
    }
   ],
   "source": [
    "i = 30\n",
    "outputs_list_dormant[0]['value_states'][i, 0, 3, :]"
   ]
  },
  {
   "cell_type": "code",
   "execution_count": 300,
   "metadata": {},
   "outputs": [
    {
     "data": {
      "text/plain": [
       "tensor([ 1.6102, -1.4456,  0.3037, -0.7280, -0.3218,  0.2402, -0.7457, -0.0289,\n",
       "         1.7039,  0.4016,  1.1626, -1.7152, -0.6390, -0.5437, -0.2106, -0.5226,\n",
       "        -2.6130, -2.1146,  1.5046,  1.0595,  0.6432,  0.1012,  1.7966,  0.7594,\n",
       "         0.7215, -0.5928,  0.4655,  0.0574, -1.1593,  0.8344, -0.5405, -2.1378,\n",
       "         1.4961,  0.3791,  0.0940,  0.4115,  0.6226,  0.3165,  1.5201, -2.2190,\n",
       "        -1.3447,  1.4577,  0.6777,  1.3845, -0.7469,  0.1276, -1.0775,  0.7110,\n",
       "        -2.0212, -1.0259,  0.7736, -1.4688,  1.0585, -0.5103, -0.9482, -0.0884,\n",
       "         0.1705,  0.0982, -0.8612, -0.9238,  1.1775, -0.1281,  0.2641, -0.2785,\n",
       "        -0.7264, -0.4021, -1.2717,  1.0175,  0.9388, -0.4908,  1.2892,  0.8820,\n",
       "         0.1861, -1.1184, -0.6288,  1.1385,  0.0434, -0.3283,  1.5173, -0.2286,\n",
       "        -2.2127,  1.9510,  0.3924, -0.3024, -1.3221,  3.2626, -1.5052,  1.0309,\n",
       "         1.0324,  1.3358,  1.3859, -0.4248,  1.5546, -0.6096,  0.8582,  0.5355,\n",
       "         0.1104, -1.3317, -1.2019,  2.2629, -2.5596, -2.1226, -0.9805, -0.5302,\n",
       "        -0.3911, -0.2300,  0.4803, -1.0465,  0.8823,  0.0698, -0.1629, -1.4795,\n",
       "         0.5099, -0.2370,  1.3734,  0.5964, -0.7457,  2.0002, -0.0689, -0.3556,\n",
       "         0.6120,  0.0237, -1.1684,  1.8804, -1.8926, -1.0434, -0.7926,  0.2282,\n",
       "        -1.6280,  0.2332,  1.2643, -0.0346,  0.6343, -0.6313,  0.0840, -0.7319,\n",
       "         0.1698, -0.4757,  0.2193,  0.1864, -0.6768, -1.0651,  2.2070,  0.0567,\n",
       "         0.7828, -0.6388, -0.7113,  0.7362,  0.4155, -0.5067, -1.0143, -2.7495,\n",
       "        -0.7775,  0.2976, -2.0585,  0.9998,  0.5834, -0.8319,  1.4686,  0.6427,\n",
       "        -0.1471, -0.2475,  1.2598, -2.3286,  0.6883, -1.7942, -0.2267, -0.5513,\n",
       "         0.8144,  0.8888,  0.5168,  0.3516,  0.1863, -1.1729, -0.3409, -0.9176,\n",
       "        -2.3260,  0.8904, -1.7346, -1.1500,  0.7429, -0.3180,  0.9364,  0.0762,\n",
       "         0.8601,  1.8432,  1.0165,  0.1485,  1.2291,  1.6662, -1.5884,  0.4746,\n",
       "        -1.6693,  0.3015,  1.4904, -2.7652,  0.2300,  1.1127,  1.0656, -0.0419,\n",
       "         0.0292, -0.1470,  0.3576,  0.4140, -0.5244,  0.5994,  0.8454, -0.4738,\n",
       "         0.8000, -1.5320,  2.3210,  1.4770,  2.0502, -0.4490,  0.2410, -0.6096,\n",
       "         2.1829, -0.2465,  0.8144,  1.4527,  0.6028,  1.0020, -0.1818, -1.4279,\n",
       "        -0.4726,  0.4390, -0.3318, -0.8449,  0.9577,  1.0631, -0.2097,  0.4694,\n",
       "        -0.3509,  0.5835, -0.5275, -1.5602, -0.0505,  0.1431,  1.5300, -0.9183,\n",
       "        -1.8690,  2.2530, -2.0716,  1.0880, -2.0076,  0.4344, -1.2872, -0.1364,\n",
       "         0.8332,  0.2878, -0.1535, -0.8523,  0.8198, -0.6790,  0.6143, -1.0286],\n",
       "       grad_fn=<SliceBackward0>)"
      ]
     },
     "execution_count": 300,
     "metadata": {},
     "output_type": "execute_result"
    }
   ],
   "source": [
    "outputs_list_dormant[0]['attn_input'][i, 3, :]"
   ]
  },
  {
   "cell_type": "markdown",
   "metadata": {},
   "source": [
    "# Problem: dormant copy mechanism has shortcut which is that it can attend to itself when not on triggers"
   ]
  },
  {
   "cell_type": "markdown",
   "metadata": {},
   "source": [
    "# Now test on pure markov task"
   ]
  },
  {
   "cell_type": "code",
   "execution_count": 308,
   "metadata": {},
   "outputs": [],
   "source": [
    "n_layers = 1\n",
    "n_heads = 1\n",
    "bos_num = 1\n",
    "train_steps = 4999\n",
    "path_local = f\"/Users/guotianyu/GitHub/birth/gens/special/markov/model_L1_H1_bos1_delim0/params.yaml\"\n",
    "cfg = OmegaConf.load(path_local)\n",
    "model = Transformer(cfg.model_args)\n",
    "model.eval()\n",
    "\n",
    "\n",
    "state_path_local = f\"/Users/guotianyu/GitHub/birth/gens/special/markov/model_L1_H1_bos1_delim0/state_{train_steps}.pt\"\n",
    "state = torch.load(state_path_local, map_location=\"cpu\")\n",
    "model.load_state_dict(state[\"model_state_dict\"], strict=False)\n",
    "\n",
    "import pickle\n",
    "import numpy as np\n",
    "\n",
    "with open(\"/Users/guotianyu/GitHub/birth/data/bos1_d0/meta.pickle\", \"rb\") as f:\n",
    "    meta_info = pickle.load(f)\n",
    "\n",
    "# data_cfg = OmegaConf.structured(meta_info)\n",
    "\n",
    "\n",
    "ds = make_dataset(cfg, meta_info)\n",
    "x = ds.gen_batch(rng=np.random.default_rng([42, 27]), batch_size=cfg.optim_args.batch_size)\n",
    "x = torch.from_numpy(x)\n",
    "# y = torch.from_numpy(y)\n",
    "y = x[:, 1:]\n",
    "x = x[:, :-1]\n",
    "hook = forward_hook(target_layers=[], target_name=\"\")\n",
    "predicts, outputs_list = model.modified_forward_with_hook(x, hook)"
   ]
  },
  {
   "cell_type": "code",
   "execution_count": 317,
   "metadata": {},
   "outputs": [],
   "source": [
    "probs = F.softmax(predicts, dim=-1)\n",
    "predict_probs = torch.gather(probs, 2, y.unsqueeze(2))"
   ]
  },
  {
   "cell_type": "code",
   "execution_count": 315,
   "metadata": {},
   "outputs": [],
   "source": [
    "logloss = -torch.log(torch.gather(probs, 2, y.unsqueeze(2))).mean()"
   ]
  },
  {
   "cell_type": "code",
   "execution_count": 328,
   "metadata": {},
   "outputs": [],
   "source": [
    "cond = torch.from_numpy(ds.cond)"
   ]
  },
  {
   "cell_type": "code",
   "execution_count": 343,
   "metadata": {},
   "outputs": [
    {
     "data": {
      "text/plain": [
       "tensor(2.4560)"
      ]
     },
     "execution_count": 343,
     "metadata": {},
     "output_type": "execute_result"
    }
   ],
   "source": [
    "# cond = torch.from_numpy(ds.cond).repeat(256)\n",
    "probs_oracle = np.zeros_like(probs.detach().numpy())\n",
    "for i in range(x.shape[0]):\n",
    "    for j in range(x.shape[1]):\n",
    "        probs_oracle[i][j] = cond[x[i, j]]\n",
    "probs_oracle = torch.from_numpy(probs_oracle)\n",
    "predict_probs_oracle = torch.gather(probs_oracle, 2, y.unsqueeze(2))\n",
    "logloss = -torch.log(predict_probs_oracle).mean()\n",
    "logloss"
   ]
  },
  {
   "cell_type": "code",
   "execution_count": 307,
   "metadata": {},
   "outputs": [
    {
     "data": {
      "image/png": "[encoded data removed]",
      "text/plain": [
       "<Figure size 432x288 with 2 Axes>"
      ]
     },
     "metadata": {
      "needs_background": "light"
     },
     "output_type": "display_data"
    }
   ],
   "source": [
    "seq_idx, layer_idx, head_idx, seq_len = 134, 0, 0, 20\n",
    "text = ds.decode(x[seq_idx, :seq_len].numpy())\n",
    "fig, ax = plt.subplots()\n",
    "ax = plot_attns(cfg, ax, seq_idx, head_idx, layer_idx, seq_len, outputs_list, text)\n",
    "fig.suptitle(f\"model with {cfg.model_args['n_layers']} layers, {cfg.model_args['n_heads']} heads, and {cfg.model_args['bos_num']} bos tokens\")\n",
    "plt.show()"
   ]
  }
 ],
 "metadata": {
  "kernelspec": {
   "display_name": "base",
   "language": "python",
   "name": "python3"
  },
  "language_info": {
   "codemirror_mode": {
    "name": "ipython",
    "version": 3
   },
   "file_extension": ".py",
   "mimetype": "text/x-python",
   "name": "python",
   "nbconvert_exporter": "python",
   "pygments_lexer": "ipython3",
   "version": "3.9.7"
  }
 },
 "nbformat": 4,
 "nbformat_minor": 2
}

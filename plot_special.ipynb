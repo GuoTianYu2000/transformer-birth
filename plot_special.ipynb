{
 "cells": [
  {
   "cell_type": "code",
   "execution_count": null,
   "metadata": {},
   "outputs": [],
   "source": [
    "from dataclasses import dataclass\n",
    "import itertools\n",
    "import logging\n",
    "import random\n",
    "import math\n",
    "import numpy as np\n",
    "import json\n",
    "import pickle\n",
    "import time\n",
    "import torch\n",
    "import sys\n",
    "import yaml\n",
    "import seaborn as sns\n",
    "import matplotlib.pyplot as plt\n",
    "\n",
    "from omegaconf import OmegaConf\n",
    "from pathlib import Path\n",
    "from torch import nn, Tensor\n",
    "from torch.nn import functional as F\n",
    "from typing import List, Optional, Tuple\n",
    "import os\n",
    "os.chdir(\"/Users/guotianyu/GitHub/birth\")\n",
    "from data import DataArgs, Dataset, iterate_batches, make_dataset\n",
    "from ihead_full_model import ModelArgs, Transformer\n",
    "\n",
    "%load_ext autoreload\n",
    "%autoreload 2\n"
   ]
  },
  {
   "cell_type": "code",
   "execution_count": null,
   "metadata": {},
   "outputs": [],
   "source": [
    "n_layers = 2\n",
    "n_heads = 2\n",
    "bos_num = 1\n",
    "train_steps = 2000\n",
    "path_local = f\"/Users/guotianyu/GitHub/birth/gens/delim/model_L{n_layers}_H{n_heads}_lr3-4_bos{bos_num}_delim005/params.yaml\"\n",
    "# path_server = f\"/data/tianyu_guo/birth/gens/delim/model_L{n_layers}_H{n_heads}_lr3-4_bos{bos_num}_delim005/params.yaml\"\n",
    "cfg = OmegaConf.load(path_local)\n",
    "model = Transformer(cfg.model_args)\n",
    "model.eval()\n",
    "\n",
    "state_path_local = f\"/Users/guotianyu/GitHub/birth/gens/delim/model_L{n_layers}_H{n_heads}_lr3-4_bos{bos_num}_delim005/state_{train_steps}.pt\"\n",
    "state_path_server = f\"/data/tianyu_guo/birth/gens/delim/model_L{n_layers}_H{n_heads}_lr3-4_bos{bos_num}_delim005/state_{train_steps}.pt\"\n",
    "state = torch.load(state_path_local, map_location=\"cpu\")\n",
    "model.load_state_dict(state[\"model_state_dict\"], strict=False)"
   ]
  },
  {
   "cell_type": "code",
   "execution_count": null,
   "metadata": {},
   "outputs": [],
   "source": [
    "import pickle\n",
    "import numpy as np\n",
    "\n",
    "with open(\"/Users/guotianyu/GitHub/birth/data/meta_bos1_d0.pickle\", \"rb\") as f:\n",
    "    meta_info = pickle.load(f)\n",
    "\n",
    "# data_cfg = OmegaConf.structured(meta_info)\n",
    "\n",
    "\n",
    "ds = make_dataset(cfg, meta_info)\n",
    "ds = Dataset(cfg.data_args, train_test=None)\n",
    "ds_test = Dataset(cfg.data_args, train_test=None)\n",
    "ds_test.idxs = ds.idxs\n",
    "cfg.model_args.vocab_size = ds.num_tokens\n",
    "x, outs = ds.gen_batch(rng=np.random.default_rng([42, 27]), batch_size=cfg.optim_args.batch_size)\n",
    "(x, y, outs) = (x[:,:-1], x[:,1:], outs[:,:-1])\n",
    "x = torch.from_numpy(x)\n",
    "y = torch.from_numpy(y)\n",
    "outs = torch.from_numpy(outs)"
   ]
  }
 ],
 "metadata": {
  "language_info": {
   "name": "python"
  }
 },
 "nbformat": 4,
 "nbformat_minor": 2
}

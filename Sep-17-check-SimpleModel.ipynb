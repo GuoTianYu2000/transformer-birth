{
 "cells": [
  {
   "cell_type": "code",
   "execution_count": 1,
   "metadata": {},
   "outputs": [],
   "source": [
    "from dataclasses import dataclass\n",
    "import itertools\n",
    "import logging\n",
    "import random\n",
    "import math\n",
    "import numpy as np\n",
    "import json\n",
    "import pickle\n",
    "import time\n",
    "import torch\n",
    "import sys\n",
    "import yaml\n",
    "import seaborn as sns\n",
    "import matplotlib.pyplot as plt\n",
    "from probe_utils import *\n",
    "from plot_utils import *\n",
    "from tqdm import tqdm\n",
    "\n",
    "from omegaconf import OmegaConf\n",
    "from pathlib import Path\n",
    "from torch import nn, Tensor\n",
    "from torch.nn import functional as F\n",
    "from typing import List, Optional, Tuple\n",
    "import os\n",
    "# os.chdir(\"/data/tianyu_guo/birth\")\n",
    "from data import DataArgs, Dataset, iterate_batches, make_dataset\n",
    "from ihead_full_model import *\n",
    "\n",
    "%load_ext autoreload\n",
    "%autoreload 2\n"
   ]
  },
  {
   "cell_type": "markdown",
   "metadata": {},
   "source": [
    "# 1L model"
   ]
  },
  {
   "cell_type": "code",
   "execution_count": 2,
   "metadata": {},
   "outputs": [],
   "source": [
    "torch.cuda.set_device(2)\n",
    "device = 'cuda:2'\n",
    "# run_path_server = \"/data/tianyu/birth/gens/pre-iclr/dynamics/dormant_copy_k3_bos1\"\n",
    "run_path_server = \"/data/tianyu/birth/gens/pre-iclr/dynamics/SimpleModel\"\n",
    "no_attn = ( )\n",
    "\n",
    "model_loader = ModelLoader(run_path_local=None, run_path_server=run_path_server, bos_num=1, train_steps=10000, delim=0, n_layers=1, n_heads=1, no_attn_norm=(), no_ffn_norm=(), no_attn=no_attn, no_ffn=(), linear_ffn=(), lr=0.03, use_simple_model=True, use_vo=True, use_read_out=False, seed=42, with_data=True, with_optim=True, data_path_local=None, data_path_server=\"/data/tianyu/birth/data\", device=device)"
   ]
  },
  {
   "cell_type": "code",
   "execution_count": 3,
   "metadata": {},
   "outputs": [
    {
     "name": "stderr",
     "output_type": "stream",
     "text": [
      "/data/tianyu/miniconda3/envs/nanogpt/lib/python3.10/site-packages/transformers/utils/hub.py:124: FutureWarning: Using `TRANSFORMERS_CACHE` is deprecated and will be removed in v5 of Transformers. Use `HF_HOME` instead.\n",
      "  warnings.warn(\n"
     ]
    }
   ],
   "source": [
    "model_loader.change_steps(10000)\n",
    "model, cfg, x, y, ds, optim = model_loader(with_data=True)\n",
    "idxs_in_torch = torch.Tensor(ds.idxs).to(device)\n",
    "triggers_pos = torch.isin(x, torch.Tensor(ds.idxs).to(device))"
   ]
  },
  {
   "cell_type": "code",
   "execution_count": 7,
   "metadata": {},
   "outputs": [
    {
     "data": {
      "text/plain": [
       "(array([ 4.,  3.,  2.,  0.,  0.,  0.,  2., 18., 24., 14.]),\n",
       " array([-1.54632819, -0.06263319,  1.42106175,  2.90475678,  4.38845158,\n",
       "         5.87214661,  7.35584164,  8.83953667, 10.3232317 , 11.80692673,\n",
       "        13.29062176]),\n",
       " <BarContainer object of 10 artists>)"
      ]
     },
     "execution_count": 7,
     "metadata": {},
     "output_type": "execute_result"
    },
    {
     "data": {
      "image/png": "[encoded data removed]",
      "text/plain": [
       "<Figure size 640x480 with 1 Axes>"
      ]
     },
     "metadata": {},
     "output_type": "display_data"
    }
   ],
   "source": [
    "plt.hist(model.layers[0].attention.qk_bos.cpu().detach())"
   ]
  },
  {
   "cell_type": "code",
   "execution_count": 15,
   "metadata": {},
   "outputs": [
    {
     "data": {
      "text/plain": [
       "tensor(0.2970, device='cuda:2', grad_fn=<LinalgVectorNormBackward0>)"
      ]
     },
     "execution_count": 15,
     "metadata": {},
     "output_type": "execute_result"
    }
   ],
   "source": [
    "model.layers[0].attention.wo(model.layers[0].attention.wv_bos).norm()"
   ]
  },
  {
   "cell_type": "code",
   "execution_count": 17,
   "metadata": {},
   "outputs": [
    {
     "data": {
      "text/plain": [
       "tensor(4.1159, device='cuda:2', grad_fn=<LinalgVectorNormBackward0>)"
      ]
     },
     "execution_count": 17,
     "metadata": {},
     "output_type": "execute_result"
    }
   ],
   "source": [
    "model_loader.change_steps(0)\n",
    "model, cfg, x, y, ds, optim = model_loader(with_data=True)\n",
    "idxs_in_torch = torch.Tensor(ds.idxs).to(device)\n",
    "triggers_pos = torch.isin(x, torch.Tensor(ds.idxs).to(device))\n",
    "model.layers[0].attention.wo(model.layers[0].attention.wv_bos).norm()"
   ]
  },
  {
   "cell_type": "code",
   "execution_count": 13,
   "metadata": {},
   "outputs": [
    {
     "data": {
      "text/plain": [
       "(array([ 2.,  0.,  1.,  0.,  0.,  0.,  1.,  5., 23., 35.]),\n",
       " array([-16.27219009, -14.47073174, -12.66927338, -10.86781502,\n",
       "         -9.06635571,  -7.26489735,  -5.46343899,  -3.66198039,\n",
       "         -1.86052203,  -0.05906347,   1.74239504]),\n",
       " <BarContainer object of 10 artists>)"
      ]
     },
     "execution_count": 13,
     "metadata": {},
     "output_type": "execute_result"
    },
    {
     "data": {
      "image/png": "[encoded data removed]",
      "text/plain": [
       "<Figure size 640x480 with 1 Axes>"
      ]
     },
     "metadata": {},
     "output_type": "display_data"
    }
   ],
   "source": [
    "plt.hist(model.layers[0].attention.wv_bos.cpu().detach().numpy())"
   ]
  },
  {
   "cell_type": "code",
   "execution_count": 6,
   "metadata": {},
   "outputs": [
    {
     "data": {
      "text/plain": [
       "Parameter containing:\n",
       "tensor([ 0.0084,  0.0186, -0.0173,  0.0150, -0.0117, -0.0150,  0.0057,  0.0106,\n",
       "        -0.0083, -0.0081,  0.0194, -0.0142, -0.0076,  0.0112, -0.0095,  0.0306,\n",
       "         0.0021,  0.0303, -0.0166, -0.0016,  0.0039,  0.0154,  0.0137, -0.0053,\n",
       "         0.0045, -0.0228, -0.0164, -0.0259, -0.0004,  0.0128, -0.0193,  0.0129,\n",
       "         0.0225, -0.0278,  0.0270, -0.0172, -0.0121,  0.0006,  0.0112, -0.0164,\n",
       "        -0.0032, -0.0012,  0.0127,  0.0138,  0.0148, -0.0179,  0.0088,  0.0194,\n",
       "        -0.0032,  0.0036, -0.0114,  0.0404,  0.0180,  0.0210, -0.0026,  0.0420,\n",
       "        -0.0245, -0.0116, -0.0090, -0.0119,  0.0103,  0.0250,  0.0051, -0.0027,\n",
       "         0.0299, -0.0360,  0.0035], device='cuda:2')"
      ]
     },
     "execution_count": 6,
     "metadata": {},
     "output_type": "execute_result"
    }
   ],
   "source": [
    "model.layers[1].attention.qk_direction"
   ]
  },
  {
   "cell_type": "code",
   "execution_count": 18,
   "metadata": {},
   "outputs": [
    {
     "name": "stderr",
     "output_type": "stream",
     "text": [
      "100%|██████████| 246/246 [00:22<00:00, 11.03it/s]\n"
     ]
    }
   ],
   "source": [
    "outputs_norms = {}\n",
    "logits = {}\n",
    "value_states_norm = {}\n",
    "minimal_layer_idx = 0\n",
    "copy_layer_idx = 1 if cfg.simple_model_args.n_layers==3 else 0\n",
    "with torch.no_grad():\n",
    "    for step in tqdm(torch.arange(0, 1000, 5).tolist()+torch.arange(1000, 10001, 200).tolist()):\n",
    "        model_loader.change_steps(step)\n",
    "        model, cfg, optim = model_loader(with_data=False)\n",
    "        _, outputs_list = model.modified_forward(x, triggers_pos)\n",
    "        outputs_norms[step] = outputs_list[minimal_layer_idx]['output'][0, 0, :].norm(dim=-1).item()\n",
    "        logits[step] = outputs_list[copy_layer_idx]['attn_logits'][0, 1, 0].item()\n",
    "        value_states_norm[step] = outputs_list[copy_layer_idx]['value_states'][0, 0, :].norm().item()\n"
   ]
  },
  {
   "cell_type": "code",
   "execution_count": 21,
   "metadata": {},
   "outputs": [
    {
     "data": {
      "image/png": "[encoded data removed]",
      "text/plain": [
       "<Figure size 640x480 with 1 Axes>"
      ]
     },
     "metadata": {},
     "output_type": "display_data"
    }
   ],
   "source": [
    "plt.plot(list(value_states_norm.keys()), list(value_states_norm.values()))\n",
    "plt.plot(list(logits.keys()), list(logits.values()))\n",
    "plt.gca().set_xscale('log')"
   ]
  },
  {
   "cell_type": "markdown",
   "metadata": {},
   "source": [
    "# 1L Model SGD"
   ]
  },
  {
   "cell_type": "code",
   "execution_count": 28,
   "metadata": {},
   "outputs": [],
   "source": [
    "torch.cuda.set_device(2)\n",
    "device = 'cuda:2'\n",
    "# run_path_server = \"/data/tianyu/birth/gens/pre-iclr/dynamics/dormant_copy_k3_bos1\"\n",
    "run_path_server = \"/data/tianyu/birth/gens/pre-iclr/dynamics/SimpleModel_sgd\"\n",
    "no_attn = ( )\n",
    "\n",
    "model_loader = ModelLoader(run_path_local=None, run_path_server=run_path_server, bos_num=1, train_steps=10000, delim=0, n_layers=1, n_heads=1, no_attn_norm=(), no_ffn_norm=(), no_attn=no_attn, no_ffn=(), linear_ffn=(), lr=0.3, use_simple_model=True, use_vo=True, use_read_out=False, seed=42, with_data=True, with_optim=True, data_path_local=None, data_path_server=\"/data/tianyu/birth/data\", device=device)"
   ]
  },
  {
   "cell_type": "code",
   "execution_count": 32,
   "metadata": {},
   "outputs": [],
   "source": [
    "model_loader.change_steps(10000)\n",
    "model, cfg, x, y, ds, optim = model_loader(with_data=True, with_optim=False)\n",
    "idxs_in_torch = torch.Tensor(ds.idxs).to(device)\n",
    "triggers_pos = torch.isin(x, torch.Tensor(ds.idxs).to(device))"
   ]
  },
  {
   "cell_type": "code",
   "execution_count": 33,
   "metadata": {},
   "outputs": [
    {
     "name": "stderr",
     "output_type": "stream",
     "text": [
      "  0%|          | 0/246 [00:00<?, ?it/s]"
     ]
    },
    {
     "name": "stderr",
     "output_type": "stream",
     "text": [
      "100%|██████████| 246/246 [00:18<00:00, 13.38it/s]\n"
     ]
    }
   ],
   "source": [
    "outputs_norms = {}\n",
    "logits = {}\n",
    "value_states_norm = {}\n",
    "minimal_layer_idx = 0\n",
    "copy_layer_idx = 1 if cfg.simple_model_args.n_layers==3 else 0\n",
    "with torch.no_grad():\n",
    "    for step in tqdm(torch.arange(0, 1000, 5).tolist()+torch.arange(1000, 10001, 200).tolist()):\n",
    "        model_loader.change_steps(step)\n",
    "        model, cfg, optim = model_loader(with_data=False, with_optim=False)\n",
    "        _, outputs_list = model.modified_forward(x, triggers_pos)\n",
    "        outputs_norms[step] = outputs_list[minimal_layer_idx]['output'][0, 0, :].norm(dim=-1).item()\n",
    "        logits[step] = outputs_list[copy_layer_idx]['attn_logits'][0, 1, 0].item()\n",
    "        value_states_norm[step] = outputs_list[copy_layer_idx]['value_states'][0, 0, :].norm().item()\n"
   ]
  },
  {
   "cell_type": "code",
   "execution_count": 35,
   "metadata": {},
   "outputs": [
    {
     "data": {
      "text/plain": [
       "(tensor(0.1254, device='cuda:2', grad_fn=<MeanBackward0>),\n",
       " tensor(2.2461, device='cuda:2', grad_fn=<MeanBackward0>))"
      ]
     },
     "execution_count": 35,
     "metadata": {},
     "output_type": "execute_result"
    }
   ],
   "source": [
    "pred, outputs_list = model.modified_forward(x, triggers_pos)\n",
    "probs = get_oracle_predicts(x, ds)\n",
    "risk = get_risk(probs, pred, predict_in_logits=True, triggers_pos=triggers_pos)\n",
    "risk[1:3]"
   ]
  },
  {
   "cell_type": "code",
   "execution_count": 37,
   "metadata": {},
   "outputs": [
    {
     "data": {
      "text/plain": [
       "Parameter containing:\n",
       "tensor([ 1.8750e+00,  1.5426e-01,  3.9361e+00, -7.3682e-02, -1.9843e-02,\n",
       "         4.3839e+00,  6.3839e+00,  8.8357e-01,  3.7789e+00,  4.6113e+00,\n",
       "         4.3199e+00,  4.8335e+00,  3.2150e+00,  3.2030e+00,  2.6910e+00,\n",
       "         1.9264e-02,  3.6383e+00,  2.5005e+00,  2.5654e+00,  3.7445e+00,\n",
       "         3.6252e+00,  5.3368e+00,  4.6447e-02,  3.1328e-01,  2.1371e+00,\n",
       "         1.2273e+00,  2.6032e+00,  2.3207e+00,  1.5135e+00,  1.3031e-02,\n",
       "         1.6678e+00,  3.9442e+00,  8.5427e-01, -4.7150e-03,  2.1362e-01,\n",
       "         3.1029e+00, -2.2600e-02,  3.7243e+00,  8.5364e-02,  5.0878e+00,\n",
       "         3.9934e+00,  4.7701e+00,  6.5368e+00,  1.9001e-02,  5.6888e+00,\n",
       "         5.5652e+00,  6.3680e+00,  4.9763e+00,  5.3753e-01,  5.5731e+00,\n",
       "         5.8315e+00,  5.5487e+00,  6.2585e+00,  5.5696e+00,  4.7976e+00,\n",
       "        -1.7536e-02,  6.4829e+00,  6.5351e+00,  7.3235e-02,  5.9345e+00,\n",
       "         5.7021e+00,  4.8961e+00,  1.5261e+00,  6.0899e+00,  3.8882e+00,\n",
       "         4.4024e-02,  3.6404e-02], device='cuda:2', requires_grad=True)"
      ]
     },
     "execution_count": 37,
     "metadata": {},
     "output_type": "execute_result"
    }
   ],
   "source": [
    "model.layers[0].attention.qk_bos"
   ]
  },
  {
   "cell_type": "code",
   "execution_count": 36,
   "metadata": {},
   "outputs": [
    {
     "data": {
      "image/png": "[encoded data removed]",
      "text/plain": [
       "<Figure size 640x480 with 1 Axes>"
      ]
     },
     "metadata": {},
     "output_type": "display_data"
    }
   ],
   "source": [
    "# plt.plot(list(value_states_norm.keys()), list(value_states_norm.values()))\n",
    "plt.plot(list(logits.keys()), list(logits.values()))\n",
    "plt.gca().set_xscale('log')"
   ]
  },
  {
   "cell_type": "markdown",
   "metadata": {},
   "source": [
    "# 3L model SGD"
   ]
  },
  {
   "cell_type": "code",
   "execution_count": 22,
   "metadata": {},
   "outputs": [],
   "source": [
    "torch.cuda.set_device(2)\n",
    "device = 'cuda:2'\n",
    "# run_path_server = \"/data/tianyu/birth/gens/pre-iclr/dynamics/dormant_copy_k3_bos1\"\n",
    "run_path_server = \"/data/tianyu/birth/gens/pre-iclr/dynamics/SimpleModel_sgd\"\n",
    "no_attn = (2, )\n",
    "\n",
    "model_loader = ModelLoader(run_path_local=None, run_path_server=run_path_server, bos_num=1, train_steps=10000, delim=0, n_layers=3, n_heads=1, no_attn_norm=(), no_ffn_norm=(), no_attn=no_attn, no_ffn=(), linear_ffn=(), lr=0.03, use_simple_model=True, use_vo=True, use_read_out=True, seed=42, with_data=True, with_optim=True, data_path_local=None, data_path_server=\"/data/tianyu/birth/data\", device=device)"
   ]
  },
  {
   "cell_type": "code",
   "execution_count": 23,
   "metadata": {},
   "outputs": [],
   "source": [
    "model_loader.change_steps(10000)\n",
    "model, cfg, x, y, ds, optim = model_loader(with_data=True, with_optim=False)\n",
    "idxs_in_torch = torch.Tensor(ds.idxs).to(device)\n",
    "triggers_pos = torch.isin(x, torch.Tensor(ds.idxs).to(device))"
   ]
  },
  {
   "cell_type": "code",
   "execution_count": 24,
   "metadata": {},
   "outputs": [
    {
     "name": "stderr",
     "output_type": "stream",
     "text": [
      "100%|██████████| 246/246 [00:24<00:00, 10.10it/s]\n"
     ]
    }
   ],
   "source": [
    "outputs_norms = {}\n",
    "logits = {}\n",
    "value_states_norm = {}\n",
    "minimal_layer_idx = 0\n",
    "copy_layer_idx = 1 if cfg.simple_model_args.n_layers==3 else 0\n",
    "with torch.no_grad():\n",
    "    for step in tqdm(torch.arange(0, 1000, 5).tolist()+torch.arange(1000, 10001, 200).tolist()):\n",
    "        model_loader.change_steps(step)\n",
    "        model, cfg, optim = model_loader(with_data=False, with_optim=False)\n",
    "        _, outputs_list = model.modified_forward(x, triggers_pos)\n",
    "        outputs_norms[step] = outputs_list[minimal_layer_idx]['output'][0, 0, :].norm(dim=-1).item()\n",
    "        logits[step] = outputs_list[copy_layer_idx]['attn_logits'][0, 1, 0].item()\n",
    "        value_states_norm[step] = outputs_list[copy_layer_idx]['value_states'][0, 0, :].norm().item()\n"
   ]
  },
  {
   "cell_type": "code",
   "execution_count": 26,
   "metadata": {},
   "outputs": [
    {
     "data": {
      "text/plain": [
       "(tensor(0.3070, device='cuda:2', grad_fn=<MeanBackward0>),\n",
       " tensor(2.2717, device='cuda:2', grad_fn=<MeanBackward0>))"
      ]
     },
     "execution_count": 26,
     "metadata": {},
     "output_type": "execute_result"
    }
   ],
   "source": [
    "pred, outputs_list = model.modified_forward(x, triggers_pos)\n",
    "probs = get_oracle_predicts(x, ds)\n",
    "risk = get_risk(probs, pred, predict_in_logits=True, triggers_pos=triggers_pos)\n",
    "risk[1:3]"
   ]
  },
  {
   "cell_type": "code",
   "execution_count": 27,
   "metadata": {},
   "outputs": [
    {
     "data": {
      "image/png": "[encoded data removed]",
      "text/plain": [
       "<Figure size 640x480 with 1 Axes>"
      ]
     },
     "metadata": {},
     "output_type": "display_data"
    }
   ],
   "source": [
    "# plt.plot(list(value_states_norm.keys()), list(value_states_norm.values()))\n",
    "plt.plot(list(logits.keys()), list(logits.values()))\n",
    "plt.gca().set_xscale('log')"
   ]
  },
  {
   "cell_type": "markdown",
   "metadata": {},
   "source": [
    "# 3L model"
   ]
  },
  {
   "cell_type": "code",
   "execution_count": null,
   "metadata": {},
   "outputs": [],
   "source": [
    "torch.cuda.set_device(2)\n",
    "device = 'cuda:2'\n",
    "# run_path_server = \"/data/tianyu/birth/gens/pre-iclr/dynamics/dormant_copy_k3_bos1\"\n",
    "run_path_server = \"/data/tianyu/birth/gens/pre-iclr/dynamics/SimpleModel\"\n",
    "no_attn = (2, )\n",
    "\n",
    "model_loader = ModelLoader(run_path_local=None, run_path_server=run_path_server, bos_num=1, train_steps=10000, delim=0, n_layers=3, n_heads=1, no_attn_norm=(), no_ffn_norm=(), no_attn=no_attn, no_ffn=(), linear_ffn=(), lr=0.03, use_simple_model=True, use_vo=True, use_read_out=False, seed=42, with_data=True, with_optim=True, data_path_local=None, data_path_server=\"/data/tianyu/birth/data\", device=device)"
   ]
  },
  {
   "cell_type": "code",
   "execution_count": 8,
   "metadata": {},
   "outputs": [
    {
     "data": {
      "text/plain": [
       "(tensor(256.7952, device='cuda:2', grad_fn=<LinalgVectorNormBackward0>),\n",
       " tensor(307.3895, device='cuda:2', grad_fn=<LinalgVectorNormBackward0>),\n",
       " tensor(517.9832, device='cuda:2', grad_fn=<LinalgVectorNormBackward0>))"
      ]
     },
     "execution_count": 8,
     "metadata": {},
     "output_type": "execute_result"
    }
   ],
   "source": [
    "outputs_list[0]['attn_output_bos'].norm(), outputs_list[0]['mlp_output_bos'].norm(), outputs_list[0]['output'][0, 0, :].norm()"
   ]
  },
  {
   "cell_type": "code",
   "execution_count": 9,
   "metadata": {},
   "outputs": [
    {
     "data": {
      "text/plain": [
       "tensor(0.3559, device='cuda:2', grad_fn=<LinalgVectorNormBackward0>)"
      ]
     },
     "execution_count": 9,
     "metadata": {},
     "output_type": "execute_result"
    }
   ],
   "source": [
    "outputs_list[1]['value_states'][0, 0, :].norm()"
   ]
  },
  {
   "cell_type": "code",
   "execution_count": 10,
   "metadata": {},
   "outputs": [
    {
     "data": {
      "text/plain": [
       "tensor(39.0045, device='cuda:2', grad_fn=<LinalgVectorNormBackward0>)"
      ]
     },
     "execution_count": 10,
     "metadata": {},
     "output_type": "execute_result"
    }
   ],
   "source": [
    "outputs_list[1]['attn_input'][0, 0, :].norm()"
   ]
  },
  {
   "cell_type": "code",
   "execution_count": 24,
   "metadata": {},
   "outputs": [
    {
     "data": {
      "text/plain": [
       "tensor(-5.2264, device='cuda:2', grad_fn=<DotBackward0>)"
      ]
     },
     "execution_count": 24,
     "metadata": {},
     "output_type": "execute_result"
    }
   ],
   "source": [
    "outputs_list[1]['attn_input'][0, 0, :] @ model.layers[1].attention.qk_direction"
   ]
  },
  {
   "cell_type": "code",
   "execution_count": 25,
   "metadata": {},
   "outputs": [
    {
     "data": {
      "text/plain": [
       "tensor([231.3096,   8.6937,   0.0000,   8.0742, -13.0311,   9.8954, -11.4225,\n",
       "          0.0000, -11.4225,   8.6598,   0.0000,   8.6598,   9.6224,  11.2676,\n",
       "          8.1976,   0.0000,   8.1976, -13.0311, -13.0311,  10.5327,  10.9918,\n",
       "          0.0000,  10.9918,   0.0000,  10.9918,  12.1920,  11.1069,  10.8083,\n",
       "         11.2676,  10.7640,  12.2951,   0.0000,  12.2951,   0.0000,  12.2951,\n",
       "         10.8084,  10.9918,   0.0000,  10.9918,  11.6126,   0.0000,  11.6126,\n",
       "          0.0000,  11.6126,  11.5330,   0.0000,  11.5330,   3.7355, -13.0311,\n",
       "          9.8954, -11.4225,   0.0000, -11.4225,   0.0000, -11.4225,   8.6900,\n",
       "         10.4241,   9.9627,   9.0958,   8.3665,   8.6005,  12.1920,  11.1069,\n",
       "          8.0742, -13.0311, -13.0311,  11.0284,   7.8226,  10.4241,  10.9434,\n",
       "          8.6900,  10.4241,   9.9627,  10.0263,   8.6005,   3.7355,   0.0000,\n",
       "          3.7355,   0.0000,   3.7355, -13.0311, -11.4225,   0.0000, -11.4225,\n",
       "          0.0000, -11.4225,   8.6005,   0.0000,   8.6005,  10.4182,  11.2676,\n",
       "         11.2676,  11.0549,   0.0000,  11.0549,  10.7640,  12.2951,  10.8084,\n",
       "         11.3751,  11.2676,  11.3751,   0.0000,  11.3751,  11.5734,   0.0000,\n",
       "         11.5734,  11.5330,   0.0000,  11.5330,   0.0000,  11.5330,  11.2676,\n",
       "         12.1680,   0.0000,  12.1680,  10.8084,  10.7640,  11.5130,  12.2951,\n",
       "        -13.0311,  10.0335,  10.4182,  11.5130,  10.8084,  11.3751,  11.5330,\n",
       "         11.5330,  11.2676,   0.0000,  11.2676,  11.5734,  10.9918,  11.2676,\n",
       "          0.0000,  11.2676,  11.1069,  11.5130,   0.0000,  11.5130,  11.5330,\n",
       "         11.2676,  10.9918,  11.1069,   8.0742,   0.0000,   8.0742, -13.0311,\n",
       "        -11.4225,   3.7355, -13.0311,   8.6900,  11.3751,  11.6126,   0.0000,\n",
       "         11.6126,  11.5130,  11.1069,   0.0000,  11.1069,   0.0000,  11.1069,\n",
       "         11.7498,  11.2676,  11.5734,   0.0000,  11.5734,   0.0000,  11.5734,\n",
       "         11.2676,  11.1069,  11.0549,  11.1069,  11.2676,  10.9918,  12.2951,\n",
       "         10.8084,   0.0000,  10.8084,  11.5330,  11.5330,   9.7336,   0.0000,\n",
       "          9.7336,   0.0000,   9.7336,  11.5130,   0.0000,  11.5130,  11.3751,\n",
       "         11.0070,  11.5130,  10.8419,   0.0000,  10.8419,   0.0000,  10.8419,\n",
       "          0.0000,  10.8419,  11.5130,  11.3751,  11.0070,  10.8084,  11.5330,\n",
       "         10.8084,  11.3751,  11.0070,  11.3751,  12.1920,  11.6126,   0.0000,\n",
       "         11.6126,   0.0000,  11.6126,   0.0000,  11.6126,  11.5130,  12.2951,\n",
       "          0.0000,  12.2951,  10.8084,  11.3751,  12.2951,  11.3751,  11.5330,\n",
       "         11.6126,   8.0742, -13.0311,  10.0335,   9.8954,  11.1990,   0.0000,\n",
       "         11.1990,   0.0000,  11.1990,  11.2676,  10.9918,   8.0742,   0.0000,\n",
       "          8.0742, -13.0311,   9.6224,  10.2639,   9.9627,  11.3751,   0.0000,\n",
       "         11.3751,   9.7336,   0.0000,   9.7336,  10.8084,  11.3751,  11.6126,\n",
       "          8.0742,   0.0000,   8.0742, -13.0311], device='cuda:2',\n",
       "       grad_fn=<SelectBackward0>)"
      ]
     },
     "execution_count": 25,
     "metadata": {},
     "output_type": "execute_result"
    }
   ],
   "source": [
    "outputs_list[1]['attn_logits'][0, :, 0]"
   ]
  },
  {
   "cell_type": "code",
   "execution_count": 11,
   "metadata": {},
   "outputs": [
    {
     "name": "stdout",
     "output_type": "stream",
     "text": [
      "layers.0.pre_attn_norm.weight\n",
      "layers.0.pre_attn_norm.bias\n",
      "layers.0.wv.weight\n",
      "layers.0.wo.weight\n",
      "layers.0.pre_mlp_norm.weight\n",
      "layers.0.pre_mlp_norm.bias\n",
      "layers.0.mlp.w1.weight\n",
      "layers.0.mlp.w2.weight\n",
      "layers.1.pre_attn_norm.weight\n",
      "layers.1.pre_attn_norm.bias\n",
      "layers.1.pre_mlp_norm.weight\n",
      "layers.1.pre_mlp_norm.bias\n",
      "layers.1.attention.wv_bos\n",
      "layers.1.attention.wv\n",
      "layers.1.attention.qk_bos\n",
      "layers.1.attention.qk_previous\n",
      "layers.1.attention.wo.weight\n",
      "layers.1.ff.w1.weight\n",
      "layers.1.ff.w2.weight\n",
      "layers.2.pre_attn_norm.weight\n",
      "layers.2.pre_attn_norm.bias\n",
      "layers.2.pre_mlp_norm.weight\n",
      "layers.2.pre_mlp_norm.bias\n",
      "layers.2.mlp.w1.weight\n",
      "layers.2.mlp.w2.weight\n",
      "norm.weight\n",
      "norm.bias\n",
      "read_out.weight\n"
     ]
    }
   ],
   "source": [
    "for name, param in model.named_parameters():\n",
    "    if param.requires_grad:\n",
    "        print(name)"
   ]
  },
  {
   "cell_type": "code",
   "execution_count": 12,
   "metadata": {},
   "outputs": [
    {
     "name": "stderr",
     "output_type": "stream",
     "text": [
      "  0%|          | 0/246 [00:00<?, ?it/s]"
     ]
    },
    {
     "name": "stderr",
     "output_type": "stream",
     "text": [
      "100%|██████████| 246/246 [00:18<00:00, 13.16it/s]\n"
     ]
    }
   ],
   "source": [
    "outputs_norms = {}\n",
    "logits = {}\n",
    "value_states_norm = {}\n",
    "minimal_layer_idx = 0\n",
    "copy_layer_idx = 1 if cfg.simple_model_args.n_layers==3 else 0\n",
    "with torch.no_grad():\n",
    "    for step in tqdm(torch.arange(0, 1000, 5).tolist()+torch.arange(1000, 10001, 200).tolist()):\n",
    "        model_loader.change_steps(step)\n",
    "        model, cfg, optim = model_loader(with_data=False)\n",
    "        _, outputs_list = model.modified_forward(x, triggers_pos)\n",
    "        outputs_norms[step] = outputs_list[minimal_layer_idx]['output'][0, 0, :].norm(dim=-1).item()\n",
    "        logits[step] = outputs_list[copy_layer_idx]['attn_logits'][0, 1, 0].item()\n",
    "        value_states_norm[step] = outputs_list[copy_layer_idx]['value_states'][0, 0, :].norm().item()\n"
   ]
  },
  {
   "cell_type": "code",
   "execution_count": 13,
   "metadata": {},
   "outputs": [
    {
     "data": {
      "text/plain": [
       "[<matplotlib.lines.Line2D at 0x7fd9bd5bcbb0>]"
      ]
     },
     "execution_count": 13,
     "metadata": {},
     "output_type": "execute_result"
    },
    {
     "data": {
      "image/png": "[encoded data removed]",
      "text/plain": [
       "<Figure size 640x480 with 1 Axes>"
      ]
     },
     "metadata": {},
     "output_type": "display_data"
    }
   ],
   "source": [
    "plt.plot(outputs_norms.keys(), outputs_norms.values(), label='output_0')"
   ]
  },
  {
   "cell_type": "code",
   "execution_count": 14,
   "metadata": {},
   "outputs": [
    {
     "data": {
      "image/png": "[encoded data removed]",
      "text/plain": [
       "<Figure size 640x480 with 1 Axes>"
      ]
     },
     "metadata": {},
     "output_type": "display_data"
    }
   ],
   "source": [
    "plt.plot(logits.keys(), logits.values(), label='logits')\n",
    "plt.gca().set_xscale('log')"
   ]
  },
  {
   "cell_type": "code",
   "execution_count": 15,
   "metadata": {},
   "outputs": [
    {
     "data": {
      "text/plain": [
       "[<matplotlib.lines.Line2D at 0x7fd9941187f0>]"
      ]
     },
     "execution_count": 15,
     "metadata": {},
     "output_type": "execute_result"
    },
    {
     "data": {
      "image/png": "[encoded data removed]",
      "text/plain": [
       "<Figure size 640x480 with 1 Axes>"
      ]
     },
     "metadata": {},
     "output_type": "display_data"
    }
   ],
   "source": [
    "plt.plot(value_states_norm.keys(), value_states_norm.values(), label='value_states')"
   ]
  },
  {
   "cell_type": "code",
   "execution_count": 18,
   "metadata": {},
   "outputs": [
    {
     "data": {
      "text/plain": [
       "tensor(24.8020, device='cuda:2', grad_fn=<LinalgVectorNormBackward0>)"
      ]
     },
     "execution_count": 18,
     "metadata": {},
     "output_type": "execute_result"
    }
   ],
   "source": [
    "model.layers[1].attention.wo.weight.norm()"
   ]
  },
  {
   "cell_type": "code",
   "execution_count": 20,
   "metadata": {},
   "outputs": [
    {
     "data": {
      "text/plain": [
       "array([1.80579514e-01, 1.17721847e-05, 5.65837937e-01, 0.00000000e+00,\n",
       "       0.00000000e+00, 1.92338775e-02, 2.77385871e-01, 1.27569847e-01,\n",
       "       8.46670894e-01, 0.00000000e+00, 8.49360217e-01, 4.65545755e-01,\n",
       "       7.44516653e-01, 1.27893593e-04, 0.00000000e+00, 0.00000000e+00,\n",
       "       0.00000000e+00, 0.00000000e+00, 0.00000000e+00, 4.16840350e-04,\n",
       "       0.00000000e+00, 8.95875592e-03, 0.00000000e+00, 0.00000000e+00,\n",
       "       0.00000000e+00, 0.00000000e+00, 0.00000000e+00, 1.82448458e-04,\n",
       "       0.00000000e+00, 0.00000000e+00, 0.00000000e+00, 0.00000000e+00,\n",
       "       0.00000000e+00, 0.00000000e+00, 0.00000000e+00, 0.00000000e+00,\n",
       "       0.00000000e+00, 0.00000000e+00, 0.00000000e+00, 1.81959032e-03,\n",
       "       3.53325678e-04, 3.84049158e-04, 2.52567128e-02, 1.51567999e-02,\n",
       "       8.56055802e-03, 9.80832585e-03, 4.11225882e-03, 2.19601643e-05,\n",
       "       0.00000000e+00, 1.15688488e-02, 5.60904646e-03, 5.66470350e-03,\n",
       "       9.29341219e-03, 2.27970455e-03, 3.97853442e-03, 0.00000000e+00,\n",
       "       9.36816053e-03, 1.79491307e-02, 1.18193079e-02, 3.91212760e-03,\n",
       "       0.00000000e+00, 6.31219790e-03, 7.56143667e-03, 1.93661972e-02,\n",
       "       0.00000000e+00, 3.58617672e-02, 3.58617672e-02])"
      ]
     },
     "execution_count": 20,
     "metadata": {},
     "output_type": "execute_result"
    }
   ],
   "source": [
    "ds.cond[:, 0]"
   ]
  },
  {
   "cell_type": "code",
   "execution_count": 21,
   "metadata": {},
   "outputs": [
    {
     "data": {
      "text/plain": [
       "array([1.80579514e-01, 0.00000000e+00, 0.00000000e+00, 0.00000000e+00,\n",
       "       0.00000000e+00, 6.32515813e-03, 0.00000000e+00, 5.00012500e-05,\n",
       "       0.00000000e+00, 6.75016875e-04, 0.00000000e+00, 0.00000000e+00,\n",
       "       0.00000000e+00, 9.58023951e-02, 4.17260432e-02, 2.86257156e-02,\n",
       "       1.89254731e-02, 9.60024001e-03, 3.01507538e-02, 2.19505488e-02,\n",
       "       3.88509713e-02, 6.24015600e-02, 4.62511563e-03, 1.44503613e-02,\n",
       "       2.41006025e-02, 3.49758744e-02, 2.47256181e-02, 2.76006900e-02,\n",
       "       2.36505913e-02, 5.57513938e-03, 1.20503013e-02, 4.17760444e-02,\n",
       "       1.03552589e-01, 5.40013500e-03, 4.47511188e-03, 6.82267057e-02,\n",
       "       0.00000000e+00, 1.80754519e-02, 0.00000000e+00, 4.20010500e-03,\n",
       "       2.77506938e-03, 2.80007000e-03, 1.87504688e-03, 9.50023751e-04,\n",
       "       2.20005500e-03, 1.15002875e-03, 3.57508938e-03, 2.20005500e-03,\n",
       "       1.50003750e-04, 4.25010625e-04, 1.00002500e-03, 2.62506563e-03,\n",
       "       1.75004375e-03, 1.92504813e-03, 2.00005000e-03, 7.50018750e-05,\n",
       "       8.00020001e-04, 4.70011750e-03, 7.40018500e-03, 5.75014375e-04,\n",
       "       3.50008750e-04, 3.92509813e-03, 0.00000000e+00, 1.65004125e-03,\n",
       "       0.00000000e+00, 0.00000000e+00, 0.00000000e+00])"
      ]
     },
     "execution_count": 21,
     "metadata": {},
     "output_type": "execute_result"
    }
   ],
   "source": [
    "ds.cond[0, :]"
   ]
  },
  {
   "cell_type": "code",
   "execution_count": 23,
   "metadata": {},
   "outputs": [
    {
     "data": {
      "text/plain": [
       "{0: '\\n',\n",
       " 1: ' ',\n",
       " 2: '!',\n",
       " 3: '$',\n",
       " 4: '&',\n",
       " 5: \"'\",\n",
       " 6: ',',\n",
       " 7: '-',\n",
       " 8: '.',\n",
       " 9: '3',\n",
       " 10: ':',\n",
       " 11: ';',\n",
       " 12: '?',\n",
       " 13: 'A',\n",
       " 14: 'B',\n",
       " 15: 'C',\n",
       " 16: 'D',\n",
       " 17: 'E',\n",
       " 18: 'F',\n",
       " 19: 'G',\n",
       " 20: 'H',\n",
       " 21: 'I',\n",
       " 22: 'J',\n",
       " 23: 'K',\n",
       " 24: 'L',\n",
       " 25: 'M',\n",
       " 26: 'N',\n",
       " 27: 'O',\n",
       " 28: 'P',\n",
       " 29: 'Q',\n",
       " 30: 'R',\n",
       " 31: 'S',\n",
       " 32: 'T',\n",
       " 33: 'U',\n",
       " 34: 'V',\n",
       " 35: 'W',\n",
       " 36: 'X',\n",
       " 37: 'Y',\n",
       " 38: 'Z',\n",
       " 39: 'a',\n",
       " 40: 'b',\n",
       " 41: 'c',\n",
       " 42: 'd',\n",
       " 43: 'e',\n",
       " 44: 'f',\n",
       " 45: 'g',\n",
       " 46: 'h',\n",
       " 47: 'i',\n",
       " 48: 'j',\n",
       " 49: 'k',\n",
       " 50: 'l',\n",
       " 51: 'm',\n",
       " 52: 'n',\n",
       " 53: 'o',\n",
       " 54: 'p',\n",
       " 55: 'q',\n",
       " 56: 'r',\n",
       " 57: 's',\n",
       " 58: 't',\n",
       " 59: 'u',\n",
       " 60: 'v',\n",
       " 61: 'w',\n",
       " 62: 'x',\n",
       " 63: 'y',\n",
       " 64: 'z',\n",
       " 65: '<s_0>',\n",
       " 66: '<d>'}"
      ]
     },
     "execution_count": 23,
     "metadata": {},
     "output_type": "execute_result"
    }
   ],
   "source": [
    "ds.itos"
   ]
  },
  {
   "cell_type": "code",
   "execution_count": null,
   "metadata": {},
   "outputs": [],
   "source": []
  }
 ],
 "metadata": {
  "kernelspec": {
   "display_name": "nanogpt",
   "language": "python",
   "name": "python3"
  },
  "language_info": {
   "codemirror_mode": {
    "name": "ipython",
    "version": 3
   },
   "file_extension": ".py",
   "mimetype": "text/x-python",
   "name": "python",
   "nbconvert_exporter": "python",
   "pygments_lexer": "ipython3",
   "version": "3.10.14"
  }
 },
 "nbformat": 4,
 "nbformat_minor": 2
}

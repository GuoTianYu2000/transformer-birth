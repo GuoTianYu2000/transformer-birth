{
 "cells": [
  {
   "cell_type": "code",
   "execution_count": 2,
   "metadata": {},
   "outputs": [],
   "source": [
    "from dataclasses import dataclass\n",
    "import itertools\n",
    "import logging\n",
    "import random\n",
    "import math\n",
    "import numpy as np\n",
    "import json\n",
    "import pickle\n",
    "import time\n",
    "import torch\n",
    "import sys\n",
    "import yaml\n",
    "import seaborn as sns\n",
    "import matplotlib.pyplot as plt\n",
    "from probe_utils import *\n",
    "from plot_utils import *\n",
    "\n",
    "from omegaconf import OmegaConf\n",
    "from pathlib import Path\n",
    "from torch import nn, Tensor\n",
    "from torch.nn import functional as F\n",
    "from typing import List, Optional, Tuple\n",
    "import os\n",
    "# os.chdir(\"/data/tianyu_guo/birth\")\n",
    "from data import DataArgs, Dataset, iterate_batches, make_dataset\n",
    "from ihead_full_model import *\n",
    "\n",
    "%load_ext autoreload\n",
    "%autoreload 2\n"
   ]
  },
  {
   "cell_type": "code",
   "execution_count": 3,
   "metadata": {},
   "outputs": [],
   "source": [
    "torch.cuda.set_device(0)"
   ]
  },
  {
   "cell_type": "markdown",
   "metadata": {},
   "source": [
    "## check the basic model"
   ]
  },
  {
   "cell_type": "code",
   "execution_count": 33,
   "metadata": {},
   "outputs": [
    {
     "data": {
      "text/plain": [
       "(tensor(6.0284e-05, grad_fn=<MeanBackward0>),\n",
       " tensor(2.2295, grad_fn=<MeanBackward0>))"
      ]
     },
     "execution_count": 33,
     "metadata": {},
     "output_type": "execute_result"
    }
   ],
   "source": [
    "# run_path_server = \"/data/tianyu/birth/gens/pre-iclr/dynamics/dormant_copy_k3_bos1\"\n",
    "run_path_server = \"/data/tianyu/birth/gens/pre-iclr/dynamics/dormant_copy_k3_bos1\"\n",
    "# run_path_server2=\"/data/tianyu_guo/birth/gens/special/dormant_copy_2\"\n",
    "model, cfg, x, y, ds = load_model(run_path_local=\"/Users/guotianyu/GitHub/birth/gens/special/markov\", run_path_server=run_path_server, bos_num=1, train_steps=7900, delim=0, n_layers=3, n_heads=1, no_attn_norm=(), no_ffn_norm=(), no_attn=(), no_ffn=(), linear_ffn=(), with_data=True, data_path_local=\"/Users/guotianyu/GitHub/birth/data\", data_path_server=\"/data/tianyu/birth/data\")\n",
    "hook = forward_hook([], '')\n",
    "pred, outputs_list = model.modified_forward_with_hook(x, hook)\n",
    "probs = get_oracle_predicts(x, ds)\n",
    "triggers_pos = ds.get_triggers_pos(x)\n",
    "risk = get_risk(probs, pred, predict_in_logits=True, triggers_pos=triggers_pos)\n",
    "risk[1:3]"
   ]
  },
  {
   "cell_type": "code",
   "execution_count": 34,
   "metadata": {},
   "outputs": [
    {
     "data": {
      "text/plain": [
       "(tensor([115.1096,  25.8052,  17.2501,  26.1566,  31.0634,  30.8269,  30.2706,\n",
       "          16.7018,  31.1896,  30.9548], grad_fn=<LinalgVectorNormBackward0>),\n",
       " tensor([124.8525,  34.4345,  16.2137,  34.2331, 212.3472,  52.3510,  46.9091,\n",
       "          17.7935,  46.7513,  64.3132], grad_fn=<LinalgVectorNormBackward0>),\n",
       " tensor([159.2860, 135.2962,  33.9757, 135.7168, 324.4321, 157.3942, 143.3436,\n",
       "          31.9406, 141.7073, 154.7521], grad_fn=<LinalgVectorNormBackward0>))"
      ]
     },
     "execution_count": 34,
     "metadata": {},
     "output_type": "execute_result"
    }
   ],
   "source": [
    "outputs_list[0]['output'][0, :10, :].norm(dim=-1), outputs_list[1]['output'][0, :10, :].norm(dim=-1), outputs_list[2]['output'][0, :10, :].norm(dim=-1)"
   ]
  },
  {
   "cell_type": "code",
   "execution_count": 36,
   "metadata": {},
   "outputs": [
    {
     "data": {
      "text/plain": [
       "tensor([31.0228,  6.3542,  6.4011,  6.8476,  6.8099,  7.5087,  7.9404,  7.0742,\n",
       "         8.2516,  8.6678], grad_fn=<LinalgVectorNormBackward0>)"
      ]
     },
     "execution_count": 36,
     "metadata": {},
     "output_type": "execute_result"
    }
   ],
   "source": [
    "outputs_list[0]['value_states'][0, 0, :10, :].norm(dim=-1)"
   ]
  },
  {
   "cell_type": "markdown",
   "metadata": {},
   "source": [
    "## check no_attn_0_2, no massive norms"
   ]
  },
  {
   "cell_type": "code",
   "execution_count": 3,
   "metadata": {},
   "outputs": [],
   "source": [
    "# run_path_server = \"/data/tianyu/birth/gens/pre-iclr/dynamics/dormant_copy_k3_bos1\"\n",
    "run_path_server = \"/data/tianyu/birth/gens/pre-iclr/dynamics/dormant_copy_simplified\"\n",
    "# run_path_server2=\"/data/tianyu_guo/birth/gens/special/dormant_copy_2\"\n",
    "model, cfg, x, y, ds = load_model(run_path_local=\"/Users/guotianyu/GitHub/birth/gens/special/markov\", run_path_server=run_path_server, bos_num=1, train_steps=10000, delim=0, n_layers=3, n_heads=1, no_attn_norm=(), no_ffn_norm=(), no_attn=(0, 2), no_ffn=(), linear_ffn=(), with_data=True, data_path_local=\"/Users/guotianyu/GitHub/birth/data\", data_path_server=\"/data/tianyu/birth/data\")\n",
    "hook = forward_hook([], '')\n",
    "pred, outputs_list = model.modified_forward_with_hook(x, hook)\n",
    "probs = get_oracle_predicts(x, ds)\n",
    "triggers_pos = ds.get_triggers_pos(x)\n",
    "risk = get_risk(probs, pred, predict_in_logits=True, triggers_pos=triggers_pos)\n",
    "risk[1:3]"
   ]
  },
  {
   "cell_type": "code",
   "execution_count": null,
   "metadata": {},
   "outputs": [],
   "source": [
    "ds.update_decoder()\n",
    "ds.decode(x[0, :10].numpy())"
   ]
  },
  {
   "cell_type": "code",
   "execution_count": 5,
   "metadata": {},
   "outputs": [
    {
     "data": {
      "text/plain": [
       "dict_keys(['embed', 'embed_post_pos', 'input', 'no_attn', 'mlp_input_pre_norm', 'mlp_input_norm', 'mlp_input', 'mlp_output', 'mlp_output_add_res', 'output'])"
      ]
     },
     "execution_count": 5,
     "metadata": {},
     "output_type": "execute_result"
    }
   ],
   "source": [
    "outputs_list[0].keys()"
   ]
  },
  {
   "cell_type": "code",
   "execution_count": 7,
   "metadata": {},
   "outputs": [
    {
     "data": {
      "text/plain": [
       "tensor([38.8765, 25.9073, 16.2818, 26.6168, 37.8806, 33.6152, 31.2623, 16.7479,\n",
       "        31.9314, 33.1829], grad_fn=<LinalgVectorNormBackward0>)"
      ]
     },
     "execution_count": 7,
     "metadata": {},
     "output_type": "execute_result"
    }
   ],
   "source": [
    "outputs_list[0]['output'][0, :10, :].norm(dim=-1)"
   ]
  },
  {
   "cell_type": "code",
   "execution_count": 10,
   "metadata": {},
   "outputs": [
    {
     "data": {
      "image/png": "[encoded data removed]",
      "text/plain": [
       "<Figure size 640x480 with 2 Axes>"
      ]
     },
     "metadata": {},
     "output_type": "display_data"
    }
   ],
   "source": [
    "seq_indices = [0]\n",
    "seq_len = 30\n",
    "layer_idx = 1\n",
    "head_idx = 0\n",
    "plot_attn_weights(outputs_list, x, ds, seq_indices, seq_len, layer_idx, head_idx, seq_start=0, keep_label=None, ticks_size=14, titles=[], save_files_fn=[], fn=None)"
   ]
  },
  {
   "cell_type": "markdown",
   "metadata": {},
   "source": [
    "## check no_ffn_0_2, it has a little bit of massive norm"
   ]
  },
  {
   "cell_type": "code",
   "execution_count": 12,
   "metadata": {},
   "outputs": [
    {
     "data": {
      "text/plain": [
       "(tensor(9.0089e-05, grad_fn=<MeanBackward0>),\n",
       " tensor(2.2291, grad_fn=<MeanBackward0>))"
      ]
     },
     "execution_count": 12,
     "metadata": {},
     "output_type": "execute_result"
    }
   ],
   "source": [
    "# run_path_server = \"/data/tianyu/birth/gens/pre-iclr/dynamics/dormant_copy_k3_bos1\"\n",
    "run_path_server = \"/data/tianyu/birth/gens/pre-iclr/dynamics/dormant_copy_simplified\"\n",
    "# run_path_server2=\"/data/tianyu_guo/birth/gens/special/dormant_copy_2\"\n",
    "model, cfg, x, y, ds = load_model(run_path_local=\"/Users/guotianyu/GitHub/birth/gens/special/markov\", run_path_server=run_path_server, bos_num=1, train_steps=10000, delim=0, n_layers=3, n_heads=1, no_attn_norm=(), no_ffn_norm=(), no_attn=(), no_ffn=(0, 2), linear_ffn=(), with_data=True, data_path_local=\"/Users/guotianyu/GitHub/birth/data\", data_path_server=\"/data/tianyu/birth/data\")\n",
    "hook = forward_hook([], '')\n",
    "pred, outputs_list = model.modified_forward_with_hook(x, hook)\n",
    "probs = get_oracle_predicts(x, ds)\n",
    "triggers_pos = ds.get_triggers_pos(x)\n",
    "risk = get_risk(probs, pred, predict_in_logits=True, triggers_pos=triggers_pos)\n",
    "risk[1:3]"
   ]
  },
  {
   "cell_type": "code",
   "execution_count": 25,
   "metadata": {},
   "outputs": [
    {
     "data": {
      "text/plain": [
       "(tensor([44.4960, 21.9510, 21.1645, 22.8749, 31.6391, 22.2314, 23.9569, 20.7630,\n",
       "         24.9967, 22.6526], grad_fn=<LinalgVectorNormBackward0>),\n",
       " tensor([108.9156,  78.0992,  38.0919,  77.5689, 287.2232, 103.6656,  80.3773,\n",
       "          29.7542,  77.9523, 101.4277], grad_fn=<LinalgVectorNormBackward0>),\n",
       " tensor([107.1088, 112.7952,  45.3268, 112.2579, 290.4570, 111.0459,  87.8368,\n",
       "          27.6231,  85.3559, 102.9314], grad_fn=<LinalgVectorNormBackward0>))"
      ]
     },
     "execution_count": 25,
     "metadata": {},
     "output_type": "execute_result"
    }
   ],
   "source": [
    "outputs_list[0]['output'][0, :10, :].norm(dim=-1), outputs_list[1]['output'][0, :10, :].norm(dim=-1), outputs_list[2]['output'][0, :10, :].norm(dim=-1)"
   ]
  },
  {
   "cell_type": "code",
   "execution_count": 24,
   "metadata": {},
   "outputs": [
    {
     "data": {
      "text/plain": [
       "['<s_0>', ',', 't', ',', '\\\\n', 'T', 'H', 't', 'H', 'E']"
      ]
     },
     "execution_count": 24,
     "metadata": {},
     "output_type": "execute_result"
    }
   ],
   "source": [
    "ds.update_decoder()\n",
    "ds.decode(x[0, :10].numpy())"
   ]
  },
  {
   "cell_type": "code",
   "execution_count": 23,
   "metadata": {},
   "outputs": [
    {
     "data": {
      "image/png": "[encoded data removed]",
      "text/plain": [
       "<Figure size 640x480 with 2 Axes>"
      ]
     },
     "metadata": {},
     "output_type": "display_data"
    }
   ],
   "source": [
    "seq_indices = [0]\n",
    "seq_len = 30\n",
    "layer_idx = 0\n",
    "head_idx = 0\n",
    "plot_attn_weights(outputs_list, x, ds, seq_indices, seq_len, layer_idx, head_idx, seq_start=0, keep_label=None, ticks_size=14, titles=[], save_files_fn=[], fn=None)"
   ]
  },
  {
   "cell_type": "code",
   "execution_count": 17,
   "metadata": {},
   "outputs": [
    {
     "data": {
      "image/png": "[encoded data removed]",
      "text/plain": [
       "<Figure size 640x480 with 2 Axes>"
      ]
     },
     "metadata": {},
     "output_type": "display_data"
    }
   ],
   "source": [
    "seq_indices = [0]\n",
    "seq_len = 30\n",
    "layer_idx = 1\n",
    "head_idx = 0\n",
    "plot_attn_weights(outputs_list, x, ds, seq_indices, seq_len, layer_idx, head_idx, seq_start=0, keep_label=None, ticks_size=14, titles=[], save_files_fn=[], fn=None)"
   ]
  },
  {
   "cell_type": "markdown",
   "metadata": {},
   "source": [
    "## check no_attn_0_2_linear_ffn_0_2, no massive norms"
   ]
  },
  {
   "cell_type": "code",
   "execution_count": 4,
   "metadata": {},
   "outputs": [
    {
     "data": {
      "text/plain": [
       "(tensor(5.1667e-05, grad_fn=<MeanBackward0>),\n",
       " tensor(2.2290, grad_fn=<MeanBackward0>))"
      ]
     },
     "execution_count": 4,
     "metadata": {},
     "output_type": "execute_result"
    }
   ],
   "source": [
    "# run_path_server = \"/data/tianyu/birth/gens/pre-iclr/dynamics/dormant_copy_k3_bos1\"\n",
    "run_path_server = \"/data/tianyu/birth/gens/pre-iclr/dynamics/dormant_copy_simplified\"\n",
    "# run_path_server2=\"/data/tianyu_guo/birth/gens/special/dormant_copy_2\"\n",
    "model, cfg, x, y, ds = load_model(run_path_local=\"/Users/guotianyu/GitHub/birth/gens/special/markov\", run_path_server=run_path_server, bos_num=1, train_steps=10000, delim=0, n_layers=3, n_heads=1, no_attn_norm=(), no_ffn_norm=(), no_attn=(0, 2), no_ffn=(), linear_ffn=(0, 2), with_data=True, data_path_local=\"/Users/guotianyu/GitHub/birth/data\", data_path_server=\"/data/tianyu/birth/data\")\n",
    "hook = forward_hook([], '')\n",
    "pred, outputs_list = model.modified_forward_with_hook(x, hook)\n",
    "probs = get_oracle_predicts(x, ds)\n",
    "triggers_pos = ds.get_triggers_pos(x)\n",
    "risk = get_risk(probs, pred, predict_in_logits=True, triggers_pos=triggers_pos)\n",
    "risk[1:3]"
   ]
  },
  {
   "cell_type": "code",
   "execution_count": 6,
   "metadata": {},
   "outputs": [
    {
     "data": {
      "text/plain": [
       "(tensor([38.1792, 24.1465, 17.3182, 23.3907, 27.2928, 25.7511, 25.1501, 15.8870,\n",
       "         24.6955, 26.2703], grad_fn=<LinalgVectorNormBackward0>),\n",
       " tensor([ 74.1422, 143.7439,  32.9071, 154.1164, 200.9297, 108.0317, 101.2918,\n",
       "          21.8555, 103.2377,  94.2243], grad_fn=<LinalgVectorNormBackward0>),\n",
       " tensor([ 88.1585, 153.1884,  37.0261, 163.7854, 218.6816, 125.2441, 117.2649,\n",
       "          28.8842, 119.1065, 110.2235], grad_fn=<LinalgVectorNormBackward0>))"
      ]
     },
     "execution_count": 6,
     "metadata": {},
     "output_type": "execute_result"
    }
   ],
   "source": [
    "outputs_list[0]['output'][0, :10, :].norm(dim=-1), outputs_list[1]['output'][0, :10, :].norm(dim=-1), outputs_list[2]['output'][0, :10, :].norm(dim=-1)"
   ]
  },
  {
   "cell_type": "code",
   "execution_count": 7,
   "metadata": {},
   "outputs": [
    {
     "data": {
      "image/png": "[encoded data removed]",
      "text/plain": [
       "<Figure size 640x480 with 2 Axes>"
      ]
     },
     "metadata": {},
     "output_type": "display_data"
    }
   ],
   "source": [
    "seq_indices = [0]\n",
    "seq_len = 30\n",
    "layer_idx = 1\n",
    "head_idx = 0\n",
    "plot_attn_weights(outputs_list, x, ds, seq_indices, seq_len, layer_idx, head_idx, seq_start=0, keep_label=None, ticks_size=14, titles=[], save_files_fn=[], fn=None)"
   ]
  },
  {
   "cell_type": "code",
   "execution_count": 9,
   "metadata": {},
   "outputs": [
    {
     "data": {
      "text/plain": [
       "tensor(53)"
      ]
     },
     "execution_count": 9,
     "metadata": {},
     "output_type": "execute_result"
    }
   ],
   "source": [
    "x[0, 13]"
   ]
  },
  {
   "cell_type": "code",
   "execution_count": 11,
   "metadata": {},
   "outputs": [
    {
     "data": {
      "text/plain": [
       "array([0.061704  , 0.00457461, 0.12362078])"
      ]
     },
     "execution_count": 11,
     "metadata": {},
     "output_type": "execute_result"
    }
   ],
   "source": [
    "ds.cond[53, ds.idxs]"
   ]
  },
  {
   "cell_type": "code",
   "execution_count": 8,
   "metadata": {},
   "outputs": [
    {
     "data": {
      "text/plain": [
       "['<s_0>',\n",
       " ',',\n",
       " 't',\n",
       " ',',\n",
       " '\\\\n',\n",
       " 'T',\n",
       " 'H',\n",
       " 't',\n",
       " 'H',\n",
       " 'E',\n",
       " 't',\n",
       " 'E',\n",
       " 'N',\n",
       " 'o',\n",
       " '?',\n",
       " 't',\n",
       " '?',\n",
       " '\\\\n',\n",
       " '\\\\n',\n",
       " 'W',\n",
       " 'r',\n",
       " 't',\n",
       " 'r',\n",
       " 't',\n",
       " 'r',\n",
       " \"'\",\n",
       " 's',\n",
       " 'y',\n",
       " 'o',\n",
       " 'c']"
      ]
     },
     "execution_count": 8,
     "metadata": {},
     "output_type": "execute_result"
    }
   ],
   "source": [
    "ds.decode(x[0, :30].numpy())"
   ]
  },
  {
   "cell_type": "markdown",
   "metadata": {},
   "source": [
    "## check no_attn_0_2_linear_ffn_0_"
   ]
  },
  {
   "cell_type": "code",
   "execution_count": 43,
   "metadata": {},
   "outputs": [
    {
     "data": {
      "text/plain": [
       "(tensor(4.4784e-05, grad_fn=<MeanBackward0>),\n",
       " tensor(2.2296, grad_fn=<MeanBackward0>))"
      ]
     },
     "execution_count": 43,
     "metadata": {},
     "output_type": "execute_result"
    }
   ],
   "source": [
    "# run_path_server = \"/data/tianyu/birth/gens/pre-iclr/dynamics/dormant_copy_k3_bos1\"\n",
    "run_path_server = \"/data/tianyu/birth/gens/pre-iclr/dynamics/dormant_copy_simplified\"\n",
    "# run_path_server2=\"/data/tianyu_guo/birth/gens/special/dormant_copy_2\"\n",
    "model, cfg, x, y, ds = load_model(run_path_local=\"/Users/guotianyu/GitHub/birth/gens/special/markov\", run_path_server=run_path_server, bos_num=1, train_steps=10000, delim=0, n_layers=3, n_heads=1, no_attn_norm=(), no_ffn_norm=(), no_attn=(0, 2), no_ffn=(), linear_ffn=(0, ), with_data=True, data_path_local=\"/Users/guotianyu/GitHub/birth/data\", data_path_server=\"/data/tianyu/birth/data\")\n",
    "hook = forward_hook([], '')\n",
    "pred, outputs_list = model.modified_forward_with_hook(x, hook)\n",
    "probs = get_oracle_predicts(x, ds)\n",
    "triggers_pos = ds.get_triggers_pos(x)\n",
    "risk = get_risk(probs, pred, predict_in_logits=True, triggers_pos=triggers_pos)\n",
    "risk[1:3]"
   ]
  },
  {
   "cell_type": "code",
   "execution_count": 44,
   "metadata": {},
   "outputs": [
    {
     "data": {
      "text/plain": [
       "(tensor([40.4606, 22.8788, 17.6063, 22.8385, 25.3048, 24.2606, 25.3399, 18.0332,\n",
       "         25.7131, 24.7383], grad_fn=<LinalgVectorNormBackward0>),\n",
       " tensor([59.4440, 41.8609, 36.7028, 40.4079, 79.2875, 67.6885, 51.4139, 29.4995,\n",
       "         50.7789, 54.7241], grad_fn=<LinalgVectorNormBackward0>),\n",
       " tensor([147.2514, 160.0045,  46.8811, 156.6415, 333.5859, 182.3857, 159.5345,\n",
       "          35.5956, 158.5288, 164.7645], grad_fn=<LinalgVectorNormBackward0>))"
      ]
     },
     "execution_count": 44,
     "metadata": {},
     "output_type": "execute_result"
    }
   ],
   "source": [
    "outputs_list[0]['output'][0, :10, :].norm(dim=-1), outputs_list[1]['output'][0, :10, :].norm(dim=-1), outputs_list[2]['output'][0, :10, :].norm(dim=-1)"
   ]
  },
  {
   "cell_type": "code",
   "execution_count": 45,
   "metadata": {},
   "outputs": [
    {
     "data": {
      "text/plain": [
       "tensor([ 2.3059, 32.2283, 14.9221, 31.9373, 20.1936, 22.7365, 23.6807, 15.3340,\n",
       "        22.9933, 25.1554], grad_fn=<LinalgVectorNormBackward0>)"
      ]
     },
     "execution_count": 45,
     "metadata": {},
     "output_type": "execute_result"
    }
   ],
   "source": [
    "outputs_list[1]['value_states'][0, 0, :10, :].norm(dim=-1)"
   ]
  },
  {
   "cell_type": "code",
   "execution_count": 8,
   "metadata": {},
   "outputs": [
    {
     "data": {
      "image/png": "[encoded data removed]",
      "text/plain": [
       "<Figure size 640x480 with 1 Axes>"
      ]
     },
     "metadata": {},
     "output_type": "display_data"
    },
    {
     "data": {
      "image/png": "[encoded data removed]",
      "text/plain": [
       "<Figure size 640x480 with 1 Axes>"
      ]
     },
     "metadata": {},
     "output_type": "display_data"
    },
    {
     "data": {
      "image/png": "[encoded data removed]",
      "text/plain": [
       "<Figure size 640x480 with 1 Axes>"
      ]
     },
     "metadata": {},
     "output_type": "display_data"
    }
   ],
   "source": [
    "for layer_idx in range(3):\n",
    "    plt.hist(outputs_list[layer_idx]['output'].norm(dim=-1).detach().flatten().numpy(), bins=50)\n",
    "    plt.title(f\"Layer {layer_idx}\")\n",
    "    plt.show()"
   ]
  },
  {
   "cell_type": "markdown",
   "metadata": {},
   "source": [
    "## check no_attn_2_ "
   ]
  },
  {
   "cell_type": "code",
   "execution_count": 40,
   "metadata": {},
   "outputs": [
    {
     "data": {
      "text/plain": [
       "(tensor(4.1686e-05, grad_fn=<MeanBackward0>),\n",
       " tensor(2.2291, grad_fn=<MeanBackward0>))"
      ]
     },
     "execution_count": 40,
     "metadata": {},
     "output_type": "execute_result"
    }
   ],
   "source": [
    "# run_path_server = \"/data/tianyu/birth/gens/pre-iclr/dynamics/dormant_copy_k3_bos1\"\n",
    "run_path_server = \"/data/tianyu/birth/gens/pre-iclr/dynamics/dormant_copy_simplified\"\n",
    "# run_path_server2=\"/data/tianyu_guo/birth/gens/special/dormant_copy_2\"\n",
    "model, cfg, x, y, ds = load_model(run_path_local=\"/Users/guotianyu/GitHub/birth/gens/special/markov\", run_path_server=run_path_server, bos_num=1, train_steps=10000, delim=0, n_layers=3, n_heads=1, no_attn_norm=(), no_ffn_norm=(), no_attn=(2, ), no_ffn=(), linear_ffn=(), with_data=True, data_path_local=\"/Users/guotianyu/GitHub/birth/data\", data_path_server=\"/data/tianyu/birth/data\")\n",
    "hook = forward_hook([], '')\n",
    "pred, outputs_list = model.modified_forward_with_hook(x, hook)\n",
    "probs = get_oracle_predicts(x, ds)\n",
    "triggers_pos = ds.get_triggers_pos(x)\n",
    "risk = get_risk(probs, pred, predict_in_logits=True, triggers_pos=triggers_pos)\n",
    "risk[1:3]"
   ]
  },
  {
   "cell_type": "code",
   "execution_count": 41,
   "metadata": {},
   "outputs": [
    {
     "data": {
      "text/plain": [
       "(tensor([135.6272,  27.2625,  16.3049,  28.2031,  49.5698,  33.8267,  33.0718,\n",
       "          15.3098,  33.0708,  34.1695], grad_fn=<LinalgVectorNormBackward0>),\n",
       " tensor([156.7260,  51.7720,  39.9628,  52.1963, 192.7954,  90.4094,  76.0532,\n",
       "          34.9722,  74.7080,  99.1726], grad_fn=<LinalgVectorNormBackward0>),\n",
       " tensor([208.7527, 169.5910,  53.9444, 166.6147, 374.8181, 211.8398, 185.5391,\n",
       "          47.7054, 182.6678, 199.1977], grad_fn=<LinalgVectorNormBackward0>))"
      ]
     },
     "execution_count": 41,
     "metadata": {},
     "output_type": "execute_result"
    }
   ],
   "source": [
    "outputs_list[0]['output'][0, :10, :].norm(dim=-1), outputs_list[1]['output'][0, :10, :].norm(dim=-1), outputs_list[2]['output'][0, :10, :].norm(dim=-1)"
   ]
  },
  {
   "cell_type": "code",
   "execution_count": 42,
   "metadata": {},
   "outputs": [
    {
     "data": {
      "text/plain": [
       "tensor([ 0.7551, 28.5901, 10.6723, 28.4080, 16.7570, 20.8605, 24.4004, 11.8640,\n",
       "        23.9386, 24.3867], grad_fn=<LinalgVectorNormBackward0>)"
      ]
     },
     "execution_count": 42,
     "metadata": {},
     "output_type": "execute_result"
    }
   ],
   "source": [
    "outputs_list[1]['value_states'][0, 0, :10, :].norm(dim=-1)"
   ]
  },
  {
   "cell_type": "markdown",
   "metadata": {},
   "source": [
    "## check no_ffn_0_no_attn_2, a little massive norm"
   ]
  },
  {
   "cell_type": "code",
   "execution_count": 37,
   "metadata": {},
   "outputs": [
    {
     "data": {
      "text/plain": [
       "(tensor(5.8158e-05, grad_fn=<MeanBackward0>),\n",
       " tensor(2.2299, grad_fn=<MeanBackward0>))"
      ]
     },
     "execution_count": 37,
     "metadata": {},
     "output_type": "execute_result"
    }
   ],
   "source": [
    "# run_path_server = \"/data/tianyu/birth/gens/pre-iclr/dynamics/dormant_copy_k3_bos1\"\n",
    "run_path_server = \"/data/tianyu/birth/gens/pre-iclr/dynamics/dormant_copy_simplified\"\n",
    "# run_path_server2=\"/data/tianyu_guo/birth/gens/special/dormant_copy_2\"\n",
    "model, cfg, x, y, ds = load_model(run_path_local=\"/Users/guotianyu/GitHub/birth/gens/special/markov\", run_path_server=run_path_server, bos_num=1, train_steps=10000, delim=0, n_layers=3, n_heads=1, no_attn_norm=(), no_ffn_norm=(), no_attn=(2, ), no_ffn=(0, ), linear_ffn=(), with_data=True, data_path_local=\"/Users/guotianyu/GitHub/birth/data\", data_path_server=\"/data/tianyu/birth/data\")\n",
    "hook = forward_hook([], '')\n",
    "pred, outputs_list = model.modified_forward_with_hook(x, hook)\n",
    "probs = get_oracle_predicts(x, ds)\n",
    "triggers_pos = ds.get_triggers_pos(x)\n",
    "risk = get_risk(probs, pred, predict_in_logits=True, triggers_pos=triggers_pos)\n",
    "risk[1:3]"
   ]
  },
  {
   "cell_type": "code",
   "execution_count": 38,
   "metadata": {},
   "outputs": [
    {
     "data": {
      "text/plain": [
       "(tensor([23.2225, 22.4092, 38.1455, 23.6836, 23.1886, 22.4979, 23.7242, 25.3260,\n",
       "         25.1855, 22.2953], grad_fn=<LinalgVectorNormBackward0>),\n",
       " tensor([58.2499, 34.3160, 33.7712, 39.8098, 65.5969, 48.6052, 42.3164, 26.0195,\n",
       "         42.1879, 50.9351], grad_fn=<LinalgVectorNormBackward0>),\n",
       " tensor([180.5119, 140.9952,  48.0280, 146.6687, 324.9738, 166.0192, 139.3074,\n",
       "          44.1016, 137.4962, 180.8871], grad_fn=<LinalgVectorNormBackward0>))"
      ]
     },
     "execution_count": 38,
     "metadata": {},
     "output_type": "execute_result"
    }
   ],
   "source": [
    "outputs_list[0]['output'][0, :10, :].norm(dim=-1), outputs_list[1]['output'][0, :10, :].norm(dim=-1), outputs_list[2]['output'][0, :10, :].norm(dim=-1)"
   ]
  },
  {
   "cell_type": "code",
   "execution_count": 39,
   "metadata": {},
   "outputs": [
    {
     "data": {
      "text/plain": [
       "tensor([2.7670, 6.5755, 7.8973, 7.3882, 6.1860, 7.0595, 8.3362, 8.3286, 8.1623,\n",
       "        7.0524], grad_fn=<LinalgVectorNormBackward0>)"
      ]
     },
     "execution_count": 39,
     "metadata": {},
     "output_type": "execute_result"
    }
   ],
   "source": [
    "outputs_list[1]['value_states'][0, 0, :10, :].norm(dim=-1)"
   ]
  },
  {
   "cell_type": "code",
   "execution_count": 6,
   "metadata": {},
   "outputs": [
    {
     "data": {
      "image/png": "[encoded data removed]",
      "text/plain": [
       "<Figure size 640x480 with 2 Axes>"
      ]
     },
     "metadata": {},
     "output_type": "display_data"
    }
   ],
   "source": [
    "seq_indices = [0]\n",
    "seq_len = 30\n",
    "layer_idx = 0\n",
    "head_idx = 0\n",
    "plot_attn_weights(outputs_list, x, ds, seq_indices, seq_len, layer_idx, head_idx, seq_start=0, keep_label=None, ticks_size=14, titles=[], save_files_fn=[], fn=None)"
   ]
  },
  {
   "cell_type": "markdown",
   "metadata": {},
   "source": [
    "## check linear+mlp+tf+tf"
   ]
  },
  {
   "cell_type": "code",
   "execution_count": 49,
   "metadata": {},
   "outputs": [
    {
     "data": {
      "text/plain": [
       "(tensor(4.1953e-05, grad_fn=<MeanBackward0>),\n",
       " tensor(2.2292, grad_fn=<MeanBackward0>))"
      ]
     },
     "execution_count": 49,
     "metadata": {},
     "output_type": "execute_result"
    }
   ],
   "source": [
    "run_path_server = \"/data/tianyu/birth/gens/pre-iclr/dynamics/dormant_copy_simplified\"\n",
    "model, cfg, x, y, ds = load_model(run_path_local=\"/Users/guotianyu/GitHub/birth/gens/special/markov\", run_path_server=run_path_server, bos_num=1, train_steps=10000, delim=0, n_layers=4, n_heads=1, no_attn_norm=(), no_ffn_norm=(), no_attn=(0, 1), no_ffn=(), linear_ffn=(0, ), with_data=True, data_path_local=\"/Users/guotianyu/GitHub/birth/data\", data_path_server=\"/data/tianyu/birth/data\")\n",
    "hook = forward_hook([], '')\n",
    "pred, outputs_list = model.modified_forward_with_hook(x, hook)\n",
    "probs = get_oracle_predicts(x, ds)\n",
    "triggers_pos = ds.get_triggers_pos(x)\n",
    "risk = get_risk(probs, pred, predict_in_logits=True, triggers_pos=triggers_pos)\n",
    "risk[1:3]"
   ]
  },
  {
   "cell_type": "code",
   "execution_count": 50,
   "metadata": {},
   "outputs": [
    {
     "data": {
      "text/plain": [
       "(tensor([40.6443, 23.6674, 20.2203, 23.7386, 25.1271, 24.0477, 25.8718, 19.8733,\n",
       "         25.9966, 24.6681], grad_fn=<LinalgVectorNormBackward0>),\n",
       " tensor([56.2690, 29.3179, 16.5614, 28.8394, 37.6781, 33.3827, 33.3189, 15.6791,\n",
       "         32.7442, 37.5534], grad_fn=<LinalgVectorNormBackward0>),\n",
       " tensor([ 91.1140,  43.1320,  38.5818,  42.5922, 235.9493,  77.5540,  60.7566,\n",
       "          32.6257,  59.5481,  82.6439], grad_fn=<LinalgVectorNormBackward0>),\n",
       " tensor([167.5824, 175.6895,  42.8134, 173.4870, 397.8076, 206.8916, 165.5148,\n",
       "          35.2740, 164.5944, 201.9467], grad_fn=<LinalgVectorNormBackward0>))"
      ]
     },
     "execution_count": 50,
     "metadata": {},
     "output_type": "execute_result"
    }
   ],
   "source": [
    "outputs_list[0]['output'][0, :10, :].norm(dim=-1), outputs_list[1]['output'][0, :10, :].norm(dim=-1), outputs_list[2]['output'][0, :10, :].norm(dim=-1), outputs_list[3]['output'][0, :10, :].norm(dim=-1)"
   ]
  },
  {
   "cell_type": "code",
   "execution_count": 51,
   "metadata": {},
   "outputs": [
    {
     "data": {
      "text/plain": [
       "tensor([ 0.7483, 24.4160, 12.0367, 24.2869, 20.5863, 19.8544, 21.3601, 12.7943,\n",
       "        20.6985, 21.3367], grad_fn=<LinalgVectorNormBackward0>)"
      ]
     },
     "execution_count": 51,
     "metadata": {},
     "output_type": "execute_result"
    }
   ],
   "source": [
    "outputs_list[2]['value_states'][0, 0, :10, :].norm(dim=-1)"
   ]
  },
  {
   "cell_type": "markdown",
   "metadata": {},
   "source": [
    "## check linear+mlp+tf+mlp"
   ]
  },
  {
   "cell_type": "code",
   "execution_count": 13,
   "metadata": {},
   "outputs": [
    {
     "data": {
      "text/plain": [
       "(tensor(4.2615e-05, grad_fn=<MeanBackward0>),\n",
       " tensor(2.2296, grad_fn=<MeanBackward0>))"
      ]
     },
     "execution_count": 13,
     "metadata": {},
     "output_type": "execute_result"
    }
   ],
   "source": [
    "run_path_server = \"/data/tianyu/birth/gens/pre-iclr/dynamics/dormant_copy_simplified\"\n",
    "model, cfg, x, y, ds = load_model(run_path_local=\"/Users/guotianyu/GitHub/birth/gens/special/markov\", run_path_server=run_path_server, bos_num=1, train_steps=10000, delim=0, n_layers=4, n_heads=1, no_attn_norm=(), no_ffn_norm=(), no_attn=(0, 1, 3), no_ffn=(), linear_ffn=(0, ), with_data=True, data_path_local=\"/Users/guotianyu/GitHub/birth/data\", data_path_server=\"/data/tianyu/birth/data\")\n",
    "hook = forward_hook([], '')\n",
    "pred, outputs_list = model.modified_forward_with_hook(x, hook)\n",
    "probs = get_oracle_predicts(x, ds)\n",
    "triggers_pos = ds.get_triggers_pos(x)\n",
    "risk = get_risk(probs, pred, predict_in_logits=True, triggers_pos=triggers_pos)\n",
    "risk[1:3]"
   ]
  },
  {
   "cell_type": "code",
   "execution_count": 14,
   "metadata": {},
   "outputs": [
    {
     "data": {
      "text/plain": [
       "(tensor([40.6481, 23.7285, 20.8490, 23.9043, 25.3568, 23.8814, 26.2096, 20.4924,\n",
       "         26.2645, 24.9040], grad_fn=<LinalgVectorNormBackward0>),\n",
       " tensor([55.9421, 28.2321, 16.3494, 27.6968, 33.5700, 32.9635, 34.5085, 16.2524,\n",
       "         33.9783, 36.7552], grad_fn=<LinalgVectorNormBackward0>),\n",
       " tensor([ 84.6962,  57.1014,  39.9601,  56.4133, 147.1966,  84.2146,  66.4896,\n",
       "          37.0053,  65.6223,  77.9580], grad_fn=<LinalgVectorNormBackward0>),\n",
       " tensor([182.4217, 166.4123,  51.1866, 164.6142, 370.0376, 205.3364, 170.8746,\n",
       "          36.2978, 170.2904, 197.3531], grad_fn=<LinalgVectorNormBackward0>))"
      ]
     },
     "execution_count": 14,
     "metadata": {},
     "output_type": "execute_result"
    }
   ],
   "source": [
    "outputs_list[0]['output'][0, :10, :].norm(dim=-1), outputs_list[1]['output'][0, :10, :].norm(dim=-1), outputs_list[2]['output'][0, :10, :].norm(dim=-1), outputs_list[3]['output'][0, :10, :].norm(dim=-1)"
   ]
  },
  {
   "cell_type": "code",
   "execution_count": 19,
   "metadata": {},
   "outputs": [
    {
     "data": {
      "text/plain": [
       "(array([ 1565., 13720., 16183.,  2214.,    27.,     0.,     0.,     0.,\n",
       "            0.,     0.,     0.,     0.,    17.,   148.,   569.,  2262.,\n",
       "         3209.,  1143.,  1119.,  3692.,  6485., 11141., 15595., 14315.,\n",
       "        13156.,  9142.,  4108.,  1658.,  1764.,  3197.,  2892.,  1177.,\n",
       "           62.,     0.,     0.,     0.,     0.,     0.,     0.,     0.,\n",
       "            0.,     0.,     0.,     0.,     0.,     0.,     0.,     0.,\n",
       "            0.,   512.]),\n",
       " array([14.14191723, 14.97792053, 15.81392288, 16.64992714, 17.48592949,\n",
       "        18.32193184, 19.1579361 , 19.99393845, 20.8299408 , 21.66594505,\n",
       "        22.5019474 , 23.33795166, 24.17395401, 25.00995636, 25.84596062,\n",
       "        26.68196297, 27.51796532, 28.35396957, 29.18997192, 30.02597618,\n",
       "        30.86197853, 31.69798088, 32.53398514, 33.36998749, 34.20598984,\n",
       "        35.04199219, 35.87799835, 36.7140007 , 37.55000305, 38.3860054 ,\n",
       "        39.22200775, 40.0580101 , 40.89401627, 41.73001862, 42.56602097,\n",
       "        43.40202332, 44.23802567, 45.07403183, 45.91003418, 46.74603653,\n",
       "        47.58203888, 48.41804123, 49.25404739, 50.09004974, 50.92605209,\n",
       "        51.76205444, 52.59805679, 53.43405914, 54.27006531, 55.10606766,\n",
       "        55.94207001]),\n",
       " <BarContainer object of 50 artists>)"
      ]
     },
     "execution_count": 19,
     "metadata": {},
     "output_type": "execute_result"
    },
    {
     "data": {
      "image/png": "[encoded data removed]",
      "text/plain": [
       "<Figure size 640x480 with 1 Axes>"
      ]
     },
     "metadata": {},
     "output_type": "display_data"
    }
   ],
   "source": [
    "plt.hist(outputs_list[1]['output'][:, :, :].norm(dim=-1).detach().cpu().numpy().flatten(), bins=50)"
   ]
  },
  {
   "cell_type": "code",
   "execution_count": 6,
   "metadata": {},
   "outputs": [
    {
     "data": {
      "text/plain": [
       "tensor([ 0.7698, 31.9540, 14.8189, 32.2902, 21.5673, 23.7614, 25.6416, 14.8674,\n",
       "        24.7178, 25.2282], grad_fn=<LinalgVectorNormBackward0>)"
      ]
     },
     "execution_count": 6,
     "metadata": {},
     "output_type": "execute_result"
    }
   ],
   "source": [
    "outputs_list[2]['value_states'][0, 0, :10, :].norm(dim=-1)"
   ]
  },
  {
   "cell_type": "markdown",
   "metadata": {},
   "source": [
    "## check linear+mlp+tf+linear"
   ]
  },
  {
   "cell_type": "code",
   "execution_count": 10,
   "metadata": {},
   "outputs": [
    {
     "data": {
      "text/plain": [
       "(tensor(5.2799e-05, grad_fn=<MeanBackward0>),\n",
       " tensor(2.2292, grad_fn=<MeanBackward0>))"
      ]
     },
     "execution_count": 10,
     "metadata": {},
     "output_type": "execute_result"
    }
   ],
   "source": [
    "run_path_server = \"/data/tianyu/birth/gens/pre-iclr/dynamics/dormant_copy_simplified\"\n",
    "model, cfg, x, y, ds = load_model(run_path_local=\"/Users/guotianyu/GitHub/birth/gens/special/markov\", run_path_server=run_path_server, bos_num=1, train_steps=10000, delim=0, n_layers=4, n_heads=1, no_attn_norm=(), no_ffn_norm=(), no_attn=(0, 1, 3), no_ffn=(), linear_ffn=(0, 3), with_data=True, data_path_local=\"/Users/guotianyu/GitHub/birth/data\", data_path_server=\"/data/tianyu/birth/data\")\n",
    "hook = forward_hook([], '')\n",
    "pred, outputs_list = model.modified_forward_with_hook(x, hook)\n",
    "probs = get_oracle_predicts(x, ds)\n",
    "triggers_pos = ds.get_triggers_pos(x)\n",
    "risk = get_risk(probs, pred, predict_in_logits=True, triggers_pos=triggers_pos)\n",
    "risk[1:3]"
   ]
  },
  {
   "cell_type": "code",
   "execution_count": 11,
   "metadata": {},
   "outputs": [
    {
     "data": {
      "text/plain": [
       "(tensor([38.9838, 23.8566, 21.4434, 23.7087, 25.0418, 24.3045, 25.6963, 20.9165,\n",
       "         26.1698, 24.8240], grad_fn=<LinalgVectorNormBackward0>),\n",
       " tensor([52.1013, 30.9743, 17.7974, 30.1184, 71.6974, 44.5217, 40.3873, 16.7854,\n",
       "         40.2147, 49.8601], grad_fn=<LinalgVectorNormBackward0>),\n",
       " tensor([119.2774, 131.9052,  33.4192, 157.8665, 297.9724, 166.1855, 134.3986,\n",
       "          25.3279, 132.5125, 170.6864], grad_fn=<LinalgVectorNormBackward0>),\n",
       " tensor([131.2804, 141.7015,  37.0505, 166.7996, 308.4468, 179.2408, 146.9517,\n",
       "          32.0856, 145.0539, 180.9062], grad_fn=<LinalgVectorNormBackward0>))"
      ]
     },
     "execution_count": 11,
     "metadata": {},
     "output_type": "execute_result"
    }
   ],
   "source": [
    "outputs_list[0]['output'][0, :10, :].norm(dim=-1), outputs_list[1]['output'][0, :10, :].norm(dim=-1), outputs_list[2]['output'][0, :10, :].norm(dim=-1), outputs_list[3]['output'][0, :10, :].norm(dim=-1)"
   ]
  },
  {
   "cell_type": "code",
   "execution_count": 12,
   "metadata": {},
   "outputs": [
    {
     "data": {
      "text/plain": [
       "tensor([ 3.6997, 24.6164, 14.0405, 24.9058,  3.2607, 16.3777, 17.7372, 12.3950,\n",
       "        17.0602, 18.2603], grad_fn=<LinalgVectorNormBackward0>)"
      ]
     },
     "execution_count": 12,
     "metadata": {},
     "output_type": "execute_result"
    }
   ],
   "source": [
    "outputs_list[2]['value_states'][0, 0, :10, :].norm(dim=-1)"
   ]
  },
  {
   "cell_type": "markdown",
   "metadata": {},
   "source": [
    "## check linear+linear+tf+linear"
   ]
  },
  {
   "cell_type": "code",
   "execution_count": 7,
   "metadata": {},
   "outputs": [
    {
     "data": {
      "text/plain": [
       "(tensor(5.0254e-05, grad_fn=<MeanBackward0>),\n",
       " tensor(2.2287, grad_fn=<MeanBackward0>))"
      ]
     },
     "execution_count": 7,
     "metadata": {},
     "output_type": "execute_result"
    }
   ],
   "source": [
    "run_path_server = \"/data/tianyu/birth/gens/pre-iclr/dynamics/dormant_copy_simplified\"\n",
    "model, cfg, x, y, ds = load_model(run_path_local=\"/Users/guotianyu/GitHub/birth/gens/special/markov\", run_path_server=run_path_server, bos_num=1, train_steps=10000, delim=0, n_layers=4, n_heads=1, no_attn_norm=(), no_ffn_norm=(), no_attn=(0, 1, 3), no_ffn=(), linear_ffn=(0, 1, 3), with_data=True, data_path_local=\"/Users/guotianyu/GitHub/birth/data\", data_path_server=\"/data/tianyu/birth/data\")\n",
    "hook = forward_hook([], '')\n",
    "pred, outputs_list = model.modified_forward_with_hook(x, hook)\n",
    "probs = get_oracle_predicts(x, ds)\n",
    "triggers_pos = ds.get_triggers_pos(x)\n",
    "risk = get_risk(probs, pred, predict_in_logits=True, triggers_pos=triggers_pos)\n",
    "risk[1:3]"
   ]
  },
  {
   "cell_type": "code",
   "execution_count": 8,
   "metadata": {},
   "outputs": [
    {
     "data": {
      "text/plain": [
       "(tensor([37.2806, 23.5591, 21.8578, 23.2864, 26.0648, 24.4039, 24.8694, 20.5068,\n",
       "         25.4366, 24.7694], grad_fn=<LinalgVectorNormBackward0>),\n",
       " tensor([53.5606, 26.0602, 18.0934, 25.4454, 33.6333, 29.6756, 29.3537, 17.4892,\n",
       "         29.2598, 30.1949], grad_fn=<LinalgVectorNormBackward0>),\n",
       " tensor([ 84.3247, 130.8533,  33.3905, 153.5641, 270.9563, 123.0180, 117.7110,\n",
       "          26.8301, 114.8092, 120.3399], grad_fn=<LinalgVectorNormBackward0>),\n",
       " tensor([ 98.1667, 142.0853,  36.2941, 164.0822, 282.9514, 140.6344, 132.3657,\n",
       "          32.7631, 129.3667, 133.7655], grad_fn=<LinalgVectorNormBackward0>))"
      ]
     },
     "execution_count": 8,
     "metadata": {},
     "output_type": "execute_result"
    }
   ],
   "source": [
    "outputs_list[0]['output'][0, :10, :].norm(dim=-1), outputs_list[1]['output'][0, :10, :].norm(dim=-1), outputs_list[2]['output'][0, :10, :].norm(dim=-1), outputs_list[3]['output'][0, :10, :].norm(dim=-1)"
   ]
  },
  {
   "cell_type": "code",
   "execution_count": 9,
   "metadata": {},
   "outputs": [
    {
     "data": {
      "text/plain": [
       "tensor([ 2.2278, 27.1770, 11.7087, 27.3111, 14.2232, 17.3791, 19.5609, 12.2040,\n",
       "        19.0141, 19.3464], grad_fn=<LinalgVectorNormBackward0>)"
      ]
     },
     "execution_count": 9,
     "metadata": {},
     "output_type": "execute_result"
    }
   ],
   "source": [
    "outputs_list[2]['value_states'][0, 0, :10, :].norm(dim=-1)"
   ]
  },
  {
   "cell_type": "markdown",
   "metadata": {},
   "source": [
    "## look closer to the functions of each parts of the no_attn_2_ model"
   ]
  },
  {
   "cell_type": "code",
   "execution_count": 9,
   "metadata": {},
   "outputs": [
    {
     "data": {
      "text/plain": [
       "(tensor(4.1686e-05, grad_fn=<MeanBackward0>),\n",
       " tensor(2.2291, grad_fn=<MeanBackward0>))"
      ]
     },
     "execution_count": 9,
     "metadata": {},
     "output_type": "execute_result"
    }
   ],
   "source": [
    "# run_path_server = \"/data/tianyu/birth/gens/pre-iclr/dynamics/dormant_copy_k3_bos1\"\n",
    "run_path_server = \"/data/tianyu/birth/gens/pre-iclr/dynamics/dormant_copy_simplified\"\n",
    "# run_path_server2=\"/data/tianyu_guo/birth/gens/special/dormant_copy_2\"\n",
    "model, cfg, x, y, ds = load_model(run_path_local=\"/Users/guotianyu/GitHub/birth/gens/special/markov\", run_path_server=run_path_server, bos_num=1, train_steps=10000, delim=0, n_layers=3, n_heads=1, no_attn_norm=(), no_ffn_norm=(), no_attn=(2, ), no_ffn=(), linear_ffn=(), with_data=True, data_path_local=\"/Users/guotianyu/GitHub/birth/data\", data_path_server=\"/data/tianyu/birth/data\")\n",
    "hook = forward_hook([], '')\n",
    "pred, outputs_list = model.modified_forward_with_hook(x, hook)\n",
    "probs = get_oracle_predicts(x, ds)\n",
    "triggers_pos = ds.get_triggers_pos(x)\n",
    "risk = get_risk(probs, pred, predict_in_logits=True, triggers_pos=triggers_pos)\n",
    "risk[1:3]"
   ]
  },
  {
   "cell_type": "markdown",
   "metadata": {},
   "source": [
    "### check its attention weights"
   ]
  },
  {
   "cell_type": "code",
   "execution_count": 10,
   "metadata": {},
   "outputs": [
    {
     "data": {
      "image/png": "[encoded data removed]",
      "text/plain": [
       "<Figure size 640x480 with 2 Axes>"
      ]
     },
     "metadata": {},
     "output_type": "display_data"
    }
   ],
   "source": [
    "seq_indices = [0]\n",
    "seq_len = 30\n",
    "layer_idx = 0\n",
    "head_idx = 0\n",
    "plot_attn_weights(outputs_list, x, ds, seq_indices, seq_len, layer_idx, head_idx, seq_start=0, keep_label=None, ticks_size=14, titles=[], save_files_fn=[], fn=None)"
   ]
  },
  {
   "cell_type": "code",
   "execution_count": 11,
   "metadata": {},
   "outputs": [
    {
     "data": {
      "image/png": "[encoded data removed]",
      "text/plain": [
       "<Figure size 640x480 with 2 Axes>"
      ]
     },
     "metadata": {},
     "output_type": "display_data"
    }
   ],
   "source": [
    "seq_indices = [0]\n",
    "seq_len = 30\n",
    "layer_idx = 1\n",
    "head_idx = 0\n",
    "plot_attn_weights(outputs_list, x, ds, seq_indices, seq_len, layer_idx, head_idx, seq_start=0, keep_label=None, ticks_size=14, titles=[], save_files_fn=[], fn=None)"
   ]
  },
  {
   "cell_type": "markdown",
   "metadata": {},
   "source": [
    "### try interventions"
   ]
  },
  {
   "cell_type": "markdown",
   "metadata": {},
   "source": [
    "### base"
   ]
  },
  {
   "cell_type": "code",
   "execution_count": 50,
   "metadata": {},
   "outputs": [
    {
     "data": {
      "text/plain": [
       "(tensor(4.1686e-05, grad_fn=<MeanBackward0>),\n",
       " tensor(2.2291, grad_fn=<MeanBackward0>))"
      ]
     },
     "execution_count": 50,
     "metadata": {},
     "output_type": "execute_result"
    }
   ],
   "source": [
    "hook = check_embed(target_layers=[0, 1, 2], target_heads=[], target_mlp_layers=[])\n",
    "pred, outputs_list = model.modified_forward_with_hook(x, hook)\n",
    "probs = get_oracle_predicts(x, ds)\n",
    "triggers_pos = ds.get_triggers_pos(x)\n",
    "risk = get_risk(probs, pred, predict_in_logits=True, triggers_pos=triggers_pos)\n",
    "risk[1:3]"
   ]
  },
  {
   "cell_type": "code",
   "execution_count": 39,
   "metadata": {},
   "outputs": [
    {
     "data": {
      "text/plain": [
       "(tensor([135.6272,  27.2625,  16.3049,  28.2031,  49.5698,  33.8267,  33.0718,\n",
       "          15.3098,  33.0708,  34.1695], grad_fn=<LinalgVectorNormBackward0>),\n",
       " tensor([156.7260,  51.7720,  39.9628,  52.1963, 192.7954,  90.4094,  76.0532,\n",
       "          34.9722,  74.7080,  99.1726], grad_fn=<LinalgVectorNormBackward0>),\n",
       " tensor([208.7527, 169.5910,  53.9444, 166.6147, 374.8181, 211.8398, 185.5391,\n",
       "          47.7054, 182.6678, 199.1977], grad_fn=<LinalgVectorNormBackward0>))"
      ]
     },
     "execution_count": 39,
     "metadata": {},
     "output_type": "execute_result"
    }
   ],
   "source": [
    "outputs_list[0]['output'][0, :10, :].norm(dim=-1), outputs_list[1]['output'][0, :10, :].norm(dim=-1), outputs_list[2]['output'][0, :10, :].norm(dim=-1)"
   ]
  },
  {
   "cell_type": "code",
   "execution_count": 40,
   "metadata": {},
   "outputs": [
    {
     "data": {
      "text/plain": [
       "(tensor([34.2958,  6.1452,  6.2056,  6.4343,  5.9675,  7.0639,  7.8390,  6.9145,\n",
       "          7.6736,  7.3299], grad_fn=<LinalgVectorNormBackward0>),\n",
       " tensor([ 0.7551, 28.5901, 10.6723, 28.4080, 16.7570, 20.8605, 24.4004, 11.8640,\n",
       "         23.9386, 24.3867], grad_fn=<LinalgVectorNormBackward0>))"
      ]
     },
     "execution_count": 40,
     "metadata": {},
     "output_type": "execute_result"
    }
   ],
   "source": [
    "outputs_list[0]['value_states'][0, 0, :10, :].norm(dim=-1), outputs_list[1]['value_states'][0, 0, :10, :].norm(dim=-1)"
   ]
  },
  {
   "cell_type": "code",
   "execution_count": 51,
   "metadata": {},
   "outputs": [
    {
     "data": {
      "text/plain": [
       "(tensor([18.5957,  6.5612,  6.1528,  6.2312,  7.4035,  7.8393,  7.2406,  8.3096,\n",
       "          6.9588,  6.7851], grad_fn=<LinalgVectorNormBackward0>),\n",
       " tensor([ 7.8186, 10.3571, 28.5025, 16.9242, 21.4945, 24.0638, 12.5086, 24.1972,\n",
       "         23.8232, 12.4388], grad_fn=<LinalgVectorNormBackward0>))"
      ]
     },
     "execution_count": 51,
     "metadata": {},
     "output_type": "execute_result"
    }
   ],
   "source": [
    "pred, outputs_list = model.modified_forward_with_hook(x[:, 1:], hook)\n",
    "outputs_list[0]['value_states'][0, 0, :10, :].norm(dim=-1), outputs_list[1]['value_states'][0, 0, :10, :].norm(dim=-1)"
   ]
  },
  {
   "cell_type": "markdown",
   "metadata": {},
   "source": [
    "### study attn_0"
   ]
  },
  {
   "cell_type": "code",
   "execution_count": 52,
   "metadata": {},
   "outputs": [
    {
     "data": {
      "text/plain": [
       "(tensor(0.0001, grad_fn=<MeanBackward0>),\n",
       " tensor(2.2322, grad_fn=<MeanBackward0>))"
      ]
     },
     "execution_count": 52,
     "metadata": {},
     "output_type": "execute_result"
    }
   ],
   "source": [
    "hook = check_embed(target_layers=[0, 1, 2], target_heads=[(0, 0)], target_mlp_layers=[])\n",
    "pred, outputs_list = model.modified_forward_with_hook(x, hook)\n",
    "probs = get_oracle_predicts(x, ds)\n",
    "triggers_pos = ds.get_triggers_pos(x)\n",
    "risk = get_risk(probs, pred, predict_in_logits=True, triggers_pos=triggers_pos)\n",
    "risk[1:3]"
   ]
  },
  {
   "cell_type": "code",
   "execution_count": 53,
   "metadata": {},
   "outputs": [
    {
     "data": {
      "text/plain": [
       "(tensor([34.2958,  6.1452,  6.2056,  6.4343,  5.9675,  7.0639,  7.8390,  6.9145,\n",
       "          7.6736,  7.3299], grad_fn=<LinalgVectorNormBackward0>),\n",
       " tensor([ 9.4898, 28.7921, 11.7428, 28.4579, 16.6661, 20.9512, 24.5850, 12.5755,\n",
       "         24.1318, 24.2405], grad_fn=<LinalgVectorNormBackward0>))"
      ]
     },
     "execution_count": 53,
     "metadata": {},
     "output_type": "execute_result"
    }
   ],
   "source": [
    "outputs_list[0]['value_states'][0, 0, :10, :].norm(dim=-1), outputs_list[1]['value_states'][0, 0, :10, :].norm(dim=-1)"
   ]
  }
 ],
 "metadata": {
  "kernelspec": {
   "display_name": "nanogpt",
   "language": "python",
   "name": "python3"
  },
  "language_info": {
   "codemirror_mode": {
    "name": "ipython",
    "version": 3
   },
   "file_extension": ".py",
   "mimetype": "text/x-python",
   "name": "python",
   "nbconvert_exporter": "python",
   "pygments_lexer": "ipython3",
   "version": "3.10.14"
  }
 },
 "nbformat": 4,
 "nbformat_minor": 2
}

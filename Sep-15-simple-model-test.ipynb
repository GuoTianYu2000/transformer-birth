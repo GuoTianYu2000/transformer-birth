{
 "cells": [
  {
   "cell_type": "code",
   "execution_count": 2,
   "metadata": {},
   "outputs": [],
   "source": [
    "from dataclasses import dataclass\n",
    "import itertools\n",
    "import logging\n",
    "import random\n",
    "import math\n",
    "import numpy as np\n",
    "import json\n",
    "import pickle\n",
    "import time\n",
    "import torch\n",
    "import sys\n",
    "import yaml\n",
    "import seaborn as sns\n",
    "import matplotlib.pyplot as plt\n",
    "from probe_utils import *\n",
    "from plot_utils import *\n",
    "from tqdm import tqdm\n",
    "\n",
    "from omegaconf import OmegaConf\n",
    "from pathlib import Path\n",
    "from torch import nn, Tensor\n",
    "from torch.nn import functional as F\n",
    "from typing import List, Optional, Tuple\n",
    "import os\n",
    "# os.chdir(\"/data/tianyu_guo/birth\")\n",
    "from data import DataArgs, Dataset, iterate_batches, make_dataset\n",
    "from ihead_full_model import *\n",
    "\n",
    "%load_ext autoreload\n",
    "%autoreload 2\n"
   ]
  },
  {
   "cell_type": "code",
   "execution_count": 3,
   "metadata": {},
   "outputs": [
    {
     "data": {
      "text/plain": [
       "True"
      ]
     },
     "execution_count": 3,
     "metadata": {},
     "output_type": "execute_result"
    }
   ],
   "source": [
    "1 in [0, 1]"
   ]
  },
  {
   "cell_type": "code",
   "execution_count": 1,
   "metadata": {},
   "outputs": [
    {
     "ename": "NameError",
     "evalue": "name 'torch' is not defined",
     "output_type": "error",
     "traceback": [
      "\u001b[0;31m---------------------------------------------------------------------------\u001b[0m",
      "\u001b[0;31mNameError\u001b[0m                                 Traceback (most recent call last)",
      "Cell \u001b[0;32mIn[1], line 1\u001b[0m\n\u001b[0;32m----> 1\u001b[0m \u001b[43mtorch\u001b[49m\u001b[38;5;241m.\u001b[39mcuda\u001b[38;5;241m.\u001b[39mset_device(\u001b[38;5;241m2\u001b[39m)\n\u001b[1;32m      2\u001b[0m device \u001b[38;5;241m=\u001b[39m \u001b[38;5;124m'\u001b[39m\u001b[38;5;124mcuda:2\u001b[39m\u001b[38;5;124m'\u001b[39m\n\u001b[1;32m      3\u001b[0m \u001b[38;5;66;03m# run_path_server = \"/data/tianyu/birth/gens/pre-iclr/dynamics/dormant_copy_k3_bos1\"\u001b[39;00m\n",
      "\u001b[0;31mNameError\u001b[0m: name 'torch' is not defined"
     ]
    }
   ],
   "source": [
    "torch.cuda.set_device(2)\n",
    "device = 'cuda:2'\n",
    "# run_path_server = \"/data/tianyu/birth/gens/pre-iclr/dynamics/dormant_copy_k3_bos1\"\n",
    "run_path_server = \"/data/tianyu/birth/gens/pre-iclr/dynamics/dormant_copy_long_train_redo\"\n",
    "no_attn = ( )\n",
    "# run_path_server2=\"/data/tianyu_guo/birth/gens/special/dormant_copy_2\"\n",
    "model_loader = ModelLoader(run_path_local=\"/Users/guotianyu/GitHub/birth/gens/special/markov\", run_path_server=run_path_server, bos_num=1, train_steps=10000, delim=0, n_layers=3, n_heads=1, no_attn_norm=(), no_ffn_norm=(), no_attn=no_attn, no_ffn=(), linear_ffn=(), with_data=True, with_optim=True, data_path_local=\"/Users/guotianyu/GitHub/birth/data\", data_path_server=\"/data/tianyu/birth/data\", device=device)\n",
    "model, cfg, x, y, ds, optim = model_loader(with_data=True)\n",
    "idxs_in_torch = torch.Tensor(ds.idxs).to(device)\n",
    "triggers_pos = torch.isin(x, torch.Tensor(ds.idxs).to(device))\n",
    "\n",
    "args = SimpleModelArgs(vocab_size=cfg.model_args.vocab_size, n_layers=1)\n",
    "model = SimpleModel(args)"
   ]
  },
  {
   "cell_type": "code",
   "execution_count": 8,
   "metadata": {},
   "outputs": [
    {
     "data": {
      "text/plain": [
       "<All keys matched successfully>"
      ]
     },
     "execution_count": 8,
     "metadata": {},
     "output_type": "execute_result"
    }
   ],
   "source": [
    "state_dict = torch.load(\"/data/tianyu/birth/gens/pre-iclr/dynamics/Simplemodel/simple_model_test/state_5000.pt\", map_location=device)\n",
    "model.load_state_dict(state_dict['model_state_dict'])"
   ]
  },
  {
   "cell_type": "code",
   "execution_count": 21,
   "metadata": {},
   "outputs": [],
   "source": [
    "with torch.no_grad():\n",
    "    v_bos = model.ff(model.attention.wv_bos)"
   ]
  },
  {
   "cell_type": "code",
   "execution_count": null,
   "metadata": {},
   "outputs": [],
   "source": []
  }
 ],
 "metadata": {
  "kernelspec": {
   "display_name": "nanogpt",
   "language": "python",
   "name": "python3"
  },
  "language_info": {
   "codemirror_mode": {
    "name": "ipython",
    "version": 3
   },
   "file_extension": ".py",
   "mimetype": "text/x-python",
   "name": "python",
   "nbconvert_exporter": "python",
   "pygments_lexer": "ipython3",
   "version": "3.10.14"
  }
 },
 "nbformat": 4,
 "nbformat_minor": 2
}

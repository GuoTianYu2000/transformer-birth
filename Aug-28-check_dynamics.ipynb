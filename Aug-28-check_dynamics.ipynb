{
 "cells": [
  {
   "cell_type": "code",
   "execution_count": 2,
   "metadata": {},
   "outputs": [],
   "source": [
    "from dataclasses import dataclass\n",
    "import itertools\n",
    "import logging\n",
    "import random\n",
    "import math\n",
    "import numpy as np\n",
    "import json\n",
    "import pickle\n",
    "import time\n",
    "import torch\n",
    "import sys\n",
    "import yaml\n",
    "import seaborn as sns\n",
    "import matplotlib.pyplot as plt\n",
    "from probe_utils import *\n",
    "from plot_utils import *\n",
    "\n",
    "from omegaconf import OmegaConf\n",
    "from pathlib import Path\n",
    "from torch import nn, Tensor\n",
    "from torch.nn import functional as F\n",
    "from typing import List, Optional, Tuple\n",
    "import os\n",
    "# os.chdir(\"/data/tianyu_guo/birth\")\n",
    "from data import DataArgs, Dataset, iterate_batches, make_dataset\n",
    "from ihead_full_model import *\n",
    "\n",
    "%load_ext autoreload\n",
    "%autoreload 2\n"
   ]
  },
  {
   "cell_type": "code",
   "execution_count": null,
   "metadata": {},
   "outputs": [],
   "source": [
    "torch.cuda.set_device(0)"
   ]
  },
  {
   "cell_type": "code",
   "execution_count": 27,
   "metadata": {},
   "outputs": [],
   "source": [
    "# run_path_server = \"/data/tianyu/birth/gens/pre-iclr/dynamics/dormant_copy_k3_bos1\"\n",
    "run_path_server = \"/data/tianyu/birth/gens/final/dormant_copy_k3\"\n",
    "# run_path_server2=\"/data/tianyu_guo/birth/gens/special/dormant_copy_2\"\n",
    "model, cfg, x, y, ds = load_model(run_path_local=\"/Users/guotianyu/GitHub/birth/gens/special/markov\", run_path_server=run_path_server, n_layers=1, n_heads=1, bos_num=1, train_steps=10000, delim=0, with_data=True, data_path_local=\"/Users/guotianyu/GitHub/birth/data\", data_path_server=\"/data/tianyu/birth/data\")"
   ]
  },
  {
   "cell_type": "code",
   "execution_count": 28,
   "metadata": {},
   "outputs": [
    {
     "data": {
      "text/plain": [
       "(tensor(7.7643e-05, grad_fn=<MeanBackward0>),\n",
       " tensor(2.2295, grad_fn=<MeanBackward0>))"
      ]
     },
     "execution_count": 28,
     "metadata": {},
     "output_type": "execute_result"
    }
   ],
   "source": [
    "hook = forward_hook([], '')\n",
    "# hook = zero_out_attention(list(range(3)), [(0, 0)])\n",
    "# hook = diag_attention(list(range(3)), [(0, 0)])\n",
    "# hook = check_embed([0], [(0, 0)])\n",
    "pred, outputs_list = model.modified_forward_with_hook(x, hook)\n",
    "probs = get_oracle_predicts(x, ds)\n",
    "\n",
    "triggers_pos = ds.get_triggers_pos(x)\n",
    "\n",
    "risk = get_risk(probs, pred, predict_in_logits=True, triggers_pos=triggers_pos)\n",
    "risk[1:3]"
   ]
  },
  {
   "cell_type": "code",
   "execution_count": 115,
   "metadata": {},
   "outputs": [
    {
     "data": {
      "text/plain": [
       "dict_keys(['embed', 'embed_post_pos', 'input', 'input_norm', 'attn_input', 'query_states', 'key_states', 'value_states', 'attn_logits', 'attn_weights', 'attn_output_per_head', 'attn_output_proj', 'attn_output', 'attn_output_add_res', 'mlp_input_pre_norm', 'mlp_input_norm', 'mlp_input', 'mlp_output', 'mlp_output_add_res', 'output'])"
      ]
     },
     "execution_count": 115,
     "metadata": {},
     "output_type": "execute_result"
    }
   ],
   "source": [
    "outputs_list[0].keys()"
   ]
  },
  {
   "cell_type": "code",
   "execution_count": 35,
   "metadata": {},
   "outputs": [
    {
     "data": {
      "text/plain": [
       "tensor(52)"
      ]
     },
     "execution_count": 35,
     "metadata": {},
     "output_type": "execute_result"
    }
   ],
   "source": [
    "x[0, 199]"
   ]
  },
  {
   "cell_type": "code",
   "execution_count": 36,
   "metadata": {},
   "outputs": [
    {
     "data": {
      "text/plain": [
       "(array([ 4., 22., 58., 46., 46., 19.,  3.,  0.,  0.,  1.]),\n",
       " array([-9.59285927, -6.55401182, -3.51516461, -0.47631723,  2.56253004,\n",
       "         5.60137749,  8.64022446, 11.67907238, 14.71791935, 17.75676727,\n",
       "        20.79561424]),\n",
       " <BarContainer object of 10 artists>)"
      ]
     },
     "execution_count": 36,
     "metadata": {},
     "output_type": "execute_result"
    },
    {
     "data": {
      "image/png": "[encoded data removed]",
      "text/plain": [
       "<Figure size 640x480 with 1 Axes>"
      ]
     },
     "metadata": {},
     "output_type": "display_data"
    }
   ],
   "source": [
    "plt.hist(outputs_list[0]['attn_logits'][0, 0, 199, :199].detach().cpu().numpy())"
   ]
  },
  {
   "cell_type": "code",
   "execution_count": 128,
   "metadata": {},
   "outputs": [
    {
     "data": {
      "text/plain": [
       "tensor([ 1.7374, 35.5124,  9.2004, 34.0398, 14.3717, 12.4022, 15.5211, 10.5679,\n",
       "        16.0683, 13.3790], grad_fn=<LinalgVectorNormBackward0>)"
      ]
     },
     "execution_count": 128,
     "metadata": {},
     "output_type": "execute_result"
    }
   ],
   "source": [
    "outputs_list[0]['attn_output'][0, :10, :].norm(dim=-1)"
   ]
  },
  {
   "cell_type": "code",
   "execution_count": 129,
   "metadata": {},
   "outputs": [
    {
     "data": {
      "text/plain": [
       "tensor([ 1.4973, 22.5760,  8.2080, 21.3069, 13.2921, 14.1239, 14.9679,  9.7751,\n",
       "        15.8170, 15.1413], grad_fn=<LinalgVectorNormBackward0>)"
      ]
     },
     "execution_count": 129,
     "metadata": {},
     "output_type": "execute_result"
    }
   ],
   "source": [
    "outputs_list[0]['value_states'][0, 0, :10, :].norm(dim=-1)"
   ]
  },
  {
   "cell_type": "code",
   "execution_count": 138,
   "metadata": {},
   "outputs": [
    {
     "data": {
      "text/plain": [
       "<bound method Module.parameters of Transformer(\n",
       "  (tok_embeddings): Embedding(67, 256)\n",
       "  (pos_embeddings): Embedding(256, 256)\n",
       "  (layers): ModuleList(\n",
       "    (0): TransformerBlock(\n",
       "      (attention): Attention(\n",
       "        (wq): Linear(in_features=256, out_features=256, bias=False)\n",
       "        (wk): Linear(in_features=256, out_features=256, bias=False)\n",
       "        (wv): Linear(in_features=256, out_features=256, bias=False)\n",
       "        (wo): Linear(in_features=256, out_features=256, bias=False)\n",
       "      )\n",
       "      (ff): FeedForward(\n",
       "        (w1): Linear(in_features=256, out_features=1024, bias=False)\n",
       "        (w2): Linear(in_features=1024, out_features=256, bias=False)\n",
       "      )\n",
       "      (attention_norm): LayerNorm((256,), eps=1e-05, elementwise_affine=True)\n",
       "      (ff_norm): LayerNorm((256,), eps=1e-05, elementwise_affine=True)\n",
       "    )\n",
       "  )\n",
       "  (norm): LayerNorm((256,), eps=1e-05, elementwise_affine=True)\n",
       "  (output): Linear(in_features=256, out_features=67, bias=False)\n",
       ")>"
      ]
     },
     "execution_count": 138,
     "metadata": {},
     "output_type": "execute_result"
    }
   ],
   "source": [
    "model.parameters"
   ]
  },
  {
   "cell_type": "code",
   "execution_count": 14,
   "metadata": {},
   "outputs": [
    {
     "data": {
      "image/png": "[encoded data removed]",
      "text/plain": [
       "<Figure size 640x480 with 2 Axes>"
      ]
     },
     "metadata": {},
     "output_type": "display_data"
    }
   ],
   "source": [
    "seq_indices = [0]\n",
    "seq_len = 30\n",
    "layer_idx = 0\n",
    "head_idx = 0\n",
    "plot_attn_weights(outputs_list, x, ds, seq_indices, seq_len, layer_idx, head_idx, seq_start=0, keep_label=None, ticks_size=14, titles=[], save_files_fn=[], fn=None)"
   ]
  },
  {
   "cell_type": "markdown",
   "metadata": {},
   "source": [
    "## Check the gradients"
   ]
  },
  {
   "cell_type": "code",
   "execution_count": 12,
   "metadata": {},
   "outputs": [],
   "source": [
    "loss = F.cross_entropy(pred.flatten(0, 1), y.flatten(0, 1))\n",
    "loss.backward()"
   ]
  },
  {
   "cell_type": "code",
   "execution_count": 34,
   "metadata": {},
   "outputs": [],
   "source": [
    "# Check the gradients of the model's parameters\n",
    "gradients = {}\n",
    "params = {}\n",
    "for name, param in model.named_parameters():\n",
    "    gradients[name] = param.grad.clone().detach()\n",
    "    params[name] = param.clone().detach()"
   ]
  },
  {
   "cell_type": "code",
   "execution_count": 35,
   "metadata": {},
   "outputs": [
    {
     "data": {
      "text/plain": [
       "dict_keys(['tok_embeddings.weight', 'pos_embeddings.weight', 'layers.0.attention.wq.weight', 'layers.0.attention.wk.weight', 'layers.0.attention.wv.weight', 'layers.0.attention.wo.weight', 'layers.0.ff.w1.weight', 'layers.0.ff.w2.weight', 'layers.0.attention_norm.weight', 'layers.0.attention_norm.bias', 'layers.0.ff_norm.weight', 'layers.0.ff_norm.bias', 'layers.1.attention.wq.weight', 'layers.1.attention.wk.weight', 'layers.1.attention.wv.weight', 'layers.1.attention.wo.weight', 'layers.1.ff.w1.weight', 'layers.1.ff.w2.weight', 'layers.1.attention_norm.weight', 'layers.1.attention_norm.bias', 'layers.1.ff_norm.weight', 'layers.1.ff_norm.bias', 'layers.2.attention.wq.weight', 'layers.2.attention.wk.weight', 'layers.2.attention.wv.weight', 'layers.2.attention.wo.weight', 'layers.2.ff.w1.weight', 'layers.2.ff.w2.weight', 'layers.2.attention_norm.weight', 'layers.2.attention_norm.bias', 'layers.2.ff_norm.weight', 'layers.2.ff_norm.bias', 'norm.weight', 'norm.bias', 'output.weight'])"
      ]
     },
     "execution_count": 35,
     "metadata": {},
     "output_type": "execute_result"
    }
   ],
   "source": [
    "gradients.keys()"
   ]
  },
  {
   "cell_type": "code",
   "execution_count": 47,
   "metadata": {},
   "outputs": [
    {
     "data": {
      "text/plain": [
       "torch.Size([256, 256])"
      ]
     },
     "execution_count": 47,
     "metadata": {},
     "output_type": "execute_result"
    }
   ],
   "source": [
    "params['layers.0.attention.wv.weight'].shape"
   ]
  },
  {
   "cell_type": "code",
   "execution_count": 48,
   "metadata": {},
   "outputs": [
    {
     "data": {
      "text/plain": [
       "tensor(26)"
      ]
     },
     "execution_count": 48,
     "metadata": {},
     "output_type": "execute_result"
    }
   ],
   "source": [
    "gradients['layers.0.attention.wv.weight']"
   ]
  },
  {
   "cell_type": "code",
   "execution_count": 24,
   "metadata": {},
   "outputs": [
    {
     "data": {
      "text/plain": [
       "(tensor(7.7643e-05, grad_fn=<MeanBackward0>),\n",
       " tensor(2.2295, grad_fn=<MeanBackward0>))"
      ]
     },
     "execution_count": 24,
     "metadata": {},
     "output_type": "execute_result"
    }
   ],
   "source": [
    "risk[1:3]"
   ]
  },
  {
   "cell_type": "code",
   "execution_count": 25,
   "metadata": {},
   "outputs": [
    {
     "name": "stderr",
     "output_type": "stream",
     "text": [
      "  0%|          | 0/50 [00:00<?, ?it/s]"
     ]
    },
    {
     "name": "stderr",
     "output_type": "stream",
     "text": [
      "100%|██████████| 50/50 [04:32<00:00,  5.44s/it]\n"
     ]
    }
   ],
   "source": [
    "from tqdm import tqdm\n",
    "attns = {}\n",
    "icl_loss = {}\n",
    "markov_loss = {}\n",
    "with torch.no_grad():\n",
    "    for step in tqdm(torch.arange(0, 1000, 20)):\n",
    "        step = step.item()\n",
    "        model, cfg, _, _, _ = load_model(run_path_local=\"/Users/guotianyu/GitHub/birth/gens/special/markov\", run_path_server=run_path_server, n_layers=1, n_heads=1, bos_num=1, train_steps=step, delim=0, with_data=True, data_path_local=\"/Users/guotianyu/GitHub/birth/data\", data_path_server=\"/data/tianyu/birth/data\")\n",
    "\n",
    "        hook = forward_hook([], '')\n",
    "        pred, outputs_list = model.modified_forward_with_hook(x, hook)\n",
    "        outputs_list\n",
    "        probs = get_oracle_predicts(x, ds)\n",
    "\n",
    "        triggers_pos = ds.get_triggers_pos(x)\n",
    "\n",
    "        risk = get_risk(probs, pred, predict_in_logits=True, triggers_pos=triggers_pos)\n",
    "        icl_loss[step] = risk[1].item()\n",
    "        markov_loss[step] = risk[2].item()\n",
    "        attns[step] = outputs_list[0]['attn_weights'].detach().cpu()[:, 0, :, 0].mean().item()"
   ]
  },
  {
   "cell_type": "code",
   "execution_count": 26,
   "metadata": {},
   "outputs": [
    {
     "data": {
      "image/png": "[encoded data removed]",
      "text/plain": [
       "<Figure size 640x480 with 1 Axes>"
      ]
     },
     "metadata": {},
     "output_type": "display_data"
    }
   ],
   "source": [
    "plt.plot(list(icl_loss.keys()), list(icl_loss.values()), label=\"ICL\")\n",
    "plt.plot(list(markov_loss.keys()), list(markov_loss.values()), label=\"Markov\")\n",
    "plt.plot(list(attns.keys()), list(attns.values()), label=\"Attention\")\n",
    "plt.legend()\n",
    "plt.show()"
   ]
  },
  {
   "cell_type": "markdown",
   "metadata": {},
   "source": [
    "# Check how the massive norm emerges"
   ]
  },
  {
   "cell_type": "code",
   "execution_count": 4,
   "metadata": {},
   "outputs": [],
   "source": [
    "run_path_server = \"/data/tianyu/birth/gens/pre-iclr/dynamics/dormant_copy_k3_bos1\"\n",
    "model, cfg, x, y, ds = load_model(run_path_local=\"/Users/guotianyu/GitHub/birth/gens/special/markov\", run_path_server=run_path_server, n_layers=3, n_heads=1, bos_num=1, train_steps=200, delim=0, with_data=True, data_path_local=\"/Users/guotianyu/GitHub/birth/data\", data_path_server=\"/data/tianyu/birth/data\")\n",
    "hook = forward_hook([], '')\n",
    "pred, outputs_list = model.modified_forward_with_hook(x, hook)"
   ]
  },
  {
   "cell_type": "code",
   "execution_count": 80,
   "metadata": {},
   "outputs": [
    {
     "name": "stderr",
     "output_type": "stream",
     "text": [
      "100%|██████████| 21/21 [01:23<00:00,  3.96s/it]\n"
     ]
    }
   ],
   "source": [
    "from tqdm import tqdm\n",
    "triggers_pos = ds.get_triggers_pos(x)\n",
    "probs = get_oracle_predicts(x, ds)\n",
    "norms = {}\n",
    "attns = {}\n",
    "icl_risks = {}\n",
    "bos_states = {}\n",
    "with torch.no_grad():\n",
    "    for step in tqdm(torch.arange(100, 3301, 160).tolist()):\n",
    "        model, cfg, _, _, _ = load_model(run_path_local=\"/Users/guotianyu/GitHub/birth/gens/special/markov\", run_path_server=run_path_server, n_layers=3, n_heads=1, bos_num=1, train_steps=step, delim=0, with_data=True, data_path_local=\"/Users/guotianyu/GitHub/birth/data\", data_path_server=\"/data/tianyu/birth/data\")\n",
    "        hook = forward_hook([], '')\n",
    "        pred, outputs_list = model.modified_forward_with_hook(x, hook)\n",
    "        norms[step] = outputs_list[0]['output'].norm(dim=-1)\n",
    "        attns[step] = outputs_list[1]['attn_weights'].detach().cpu()[:, :, :, 0].mean(dim=-1)\n",
    "        risk = get_risk(probs, pred, predict_in_logits=True, triggers_pos=triggers_pos)\n",
    "        icl_risks[step] = risk[1].item()\n",
    "        bos_states[step] = {'attn_0': outputs_list[0]['attn_output'][0, 0, :].detach().cpu(), 'mlp_0': outputs_list[0]['mlp_output'][0, 0, :].detach().cpu(), 'output_0': outputs_list[0]['output'][0, 0, :].detach().cpu(), 'attn_input_1': outputs_list[1]['attn_input'][0, 0, :].detach().cpu(), 'value_states_1': outputs_list[1]['value_states'][0, 0, 0, :].detach().cpu(), 'key_states_1': outputs_list[1]['key_states'][0, 0, 0, :].detach().cpu(), 'query_states_1': outputs_list[1]['query_states'][0, 0, 0, :].detach().cpu(), 'attn_1': outputs_list[1]['attn_output'][0, 0, :].detach().cpu(), 'mlp_1': outputs_list[1]['mlp_output'][0, 0, :].detach().cpu(), 'output_1': outputs_list[1]['output'][0, 0, :].detach().cpu(),}\n"
   ]
  },
  {
   "cell_type": "code",
   "execution_count": 81,
   "metadata": {},
   "outputs": [],
   "source": [
    "v_1 = torch.stack([v['value_states_1'] for v in bos_states.values()])\n",
    "mlp_0 = torch.stack([v['mlp_0'] for v in bos_states.values()])\n",
    "attn_0 = torch.stack([v['attn_0'] for v in bos_states.values()])\n",
    "output_0 = torch.stack([v['output_0'] for v in bos_states.values()])\n",
    "mlp_1 = torch.stack([v['mlp_1'] for v in bos_states.values()])\n",
    "attn_1 = torch.stack([v['attn_1'] for v in bos_states.values()])\n",
    "output_1 = torch.stack([v['output_1'] for v in bos_states.values()])"
   ]
  },
  {
   "cell_type": "code",
   "execution_count": 82,
   "metadata": {},
   "outputs": [],
   "source": [
    "model, cfg, _, _, _ = load_model(run_path_local=\"/Users/guotianyu/GitHub/birth/gens/special/markov\", run_path_server=run_path_server, n_layers=3, n_heads=1, bos_num=1, train_steps=10000, delim=0, with_data=True, data_path_local=\"/Users/guotianyu/GitHub/birth/data\", data_path_server=\"/data/tianyu/birth/data\")\n",
    "pred, outputs_list = model.modified_forward_with_hook(x, hook)"
   ]
  },
  {
   "cell_type": "code",
   "execution_count": 83,
   "metadata": {},
   "outputs": [],
   "source": [
    "delta_v_1 = [(v['value_states_1'] - outputs_list[1]['value_states'][0, 0, 0, :].detach().cpu()).norm() for v in bos_states.values()]\n",
    "delta_q_1 = [(v['query_states_1'] - outputs_list[1]['query_states'][0, 0, 0, :].detach().cpu()).norm() for v in bos_states.values()]\n",
    "delta_k_1 = [(v['key_states_1'] - outputs_list[1]['key_states'][0, 0, 0, :].detach().cpu()).norm() for v in bos_states.values()]"
   ]
  },
  {
   "cell_type": "code",
   "execution_count": 78,
   "metadata": {},
   "outputs": [
    {
     "data": {
      "text/plain": [
       "tensor([120.8773,   8.1005,   6.7021,   5.7531,   5.7785,   5.3142,   5.3608,\n",
       "          5.6198,   5.3765,   5.2801])"
      ]
     },
     "execution_count": 78,
     "metadata": {},
     "output_type": "execute_result"
    }
   ],
   "source": [
    "outputs_list[0]['attn_output'][0, :10, :].detach().cpu().norm(dim=-1)"
   ]
  },
  {
   "cell_type": "code",
   "execution_count": 87,
   "metadata": {},
   "outputs": [
    {
     "data": {
      "text/plain": [
       "(tensor([12.4623, 14.4635, 13.7095, 13.7149, 14.1566, 14.8752, 15.6373, 16.1696,\n",
       "         17.0991, 18.0412, 18.9330, 19.8232, 21.1125, 22.5057, 23.2998, 24.8594,\n",
       "         26.4142, 27.8605, 29.5426, 28.6646, 28.3846]),\n",
       " tensor([11.6077, 15.0359, 13.7177, 13.1007, 12.7778, 12.4663, 12.2607, 12.0041,\n",
       "         11.7569, 11.4595, 11.3046, 11.0152, 10.8710, 10.6857, 10.5235, 10.2038,\n",
       "          9.8813,  9.6782, 10.4175,  9.8363,  9.5114]),\n",
       " tensor([28.1685, 28.3122, 28.4456, 29.9977, 31.5251, 33.3403, 34.9393, 36.1146,\n",
       "         37.7807, 39.2968, 40.6651, 41.8382, 43.6138, 45.4794, 46.5165, 48.3274,\n",
       "         50.1700, 51.8497, 52.3398, 50.6358, 50.4839]))"
      ]
     },
     "execution_count": 87,
     "metadata": {},
     "output_type": "execute_result"
    }
   ],
   "source": [
    "attn_0.norm(dim=-1), v_1.norm(dim=-1), output_0.norm(dim=-1)"
   ]
  },
  {
   "cell_type": "code",
   "execution_count": 17,
   "metadata": {},
   "outputs": [
    {
     "data": {
      "text/plain": [
       "<matplotlib.legend.Legend at 0x7f9b80107670>"
      ]
     },
     "execution_count": 17,
     "metadata": {},
     "output_type": "execute_result"
    },
    {
     "data": {
      "image/png": "[encoded data removed]",
      "text/plain": [
       "<Figure size 640x480 with 1 Axes>"
      ]
     },
     "metadata": {},
     "output_type": "display_data"
    }
   ],
   "source": [
    "plt.plot(list(icl_risks.keys()), list(icl_risks.values()), label=\"ICL\")\n",
    "plt.plot(list(norms.keys()), [v[0, 0].item()/10 for v in norms.values()], label=\"Norm\")\n",
    "plt.plot(list(attns.keys()), [v.mean().item() for v in attns.values()], label=\"Attention\")\n",
    "plt.legend()"
   ]
  },
  {
   "cell_type": "code",
   "execution_count": 14,
   "metadata": {},
   "outputs": [],
   "source": [
    "model, cfg, _, _, _ = load_model(run_path_local=\"/Users/guotianyu/GitHub/birth/gens/special/markov\", run_path_server=run_path_server, n_layers=3, n_heads=1, bos_num=1, train_steps=1000, delim=0, with_data=True, data_path_local=\"/Users/guotianyu/GitHub/birth/data\", data_path_server=\"/data/tianyu/birth/data\")\n",
    "hook = forward_hook([], '')\n",
    "pred, outputs_list = model.modified_forward_with_hook(x, hook)"
   ]
  },
  {
   "cell_type": "code",
   "execution_count": 15,
   "metadata": {},
   "outputs": [
    {
     "data": {
      "text/plain": [
       "tensor([34.3958, 24.1246, 19.8767, 24.7457, 28.2109, 24.3586, 24.8139, 18.1787,\n",
       "        25.8035, 23.6555], grad_fn=<SliceBackward0>)"
      ]
     },
     "execution_count": 15,
     "metadata": {},
     "output_type": "execute_result"
    }
   ],
   "source": [
    "outputs_list[0]['output'].norm(dim=-1)[0, :10]"
   ]
  },
  {
   "cell_type": "code",
   "execution_count": null,
   "metadata": {},
   "outputs": [],
   "source": []
  }
 ],
 "metadata": {
  "kernelspec": {
   "display_name": "nanogpt",
   "language": "python",
   "name": "python3"
  },
  "language_info": {
   "codemirror_mode": {
    "name": "ipython",
    "version": 3
   },
   "file_extension": ".py",
   "mimetype": "text/x-python",
   "name": "python",
   "nbconvert_exporter": "python",
   "pygments_lexer": "ipython3",
   "version": "3.10.14"
  }
 },
 "nbformat": 4,
 "nbformat_minor": 2
}

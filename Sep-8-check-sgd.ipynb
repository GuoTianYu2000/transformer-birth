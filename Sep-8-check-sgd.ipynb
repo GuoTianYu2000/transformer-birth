{
 "cells": [
  {
   "cell_type": "code",
   "execution_count": 1,
   "metadata": {},
   "outputs": [],
   "source": [
    "from dataclasses import dataclass\n",
    "import itertools\n",
    "import logging\n",
    "import random\n",
    "import math\n",
    "import numpy as np\n",
    "import json\n",
    "import pickle\n",
    "import time\n",
    "import torch\n",
    "import sys\n",
    "import yaml\n",
    "import seaborn as sns\n",
    "import matplotlib.pyplot as plt\n",
    "from probe_utils import *\n",
    "from plot_utils import *\n",
    "from tqdm import tqdm\n",
    "\n",
    "from omegaconf import OmegaConf\n",
    "from pathlib import Path\n",
    "from torch import nn, Tensor\n",
    "from torch.nn import functional as F\n",
    "from typing import List, Optional, Tuple\n",
    "import os\n",
    "# os.chdir(\"/data/tianyu_guo/birth\")\n",
    "from data import DataArgs, Dataset, iterate_batches, make_dataset\n",
    "from ihead_full_model import *\n",
    "\n",
    "%load_ext autoreload\n",
    "%autoreload 2\n"
   ]
  },
  {
   "cell_type": "code",
   "execution_count": 2,
   "metadata": {},
   "outputs": [],
   "source": [
    "torch.cuda.set_device(0)"
   ]
  },
  {
   "cell_type": "code",
   "execution_count": 13,
   "metadata": {},
   "outputs": [
    {
     "data": {
      "text/plain": [
       "(tensor(0.0557, grad_fn=<MeanBackward0>),\n",
       " tensor(2.2300, grad_fn=<MeanBackward0>))"
      ]
     },
     "execution_count": 13,
     "metadata": {},
     "output_type": "execute_result"
    }
   ],
   "source": [
    "# run_path_server = \"/data/tianyu/birth/gens/pre-iclr/dynamics/dormant_copy_k3_bos1\"\n",
    "run_path_server = \"/data/tianyu/birth/gens/pre-iclr/dynamics/dormant_copy_sgd\"\n",
    "# run_path_server2=\"/data/tianyu_guo/birth/gens/special/dormant_copy_2\"\n",
    "model, cfg, x, y, ds, optim = load_model(run_path_local=\"/Users/guotianyu/GitHub/birth/gens/special/markov\", run_path_server=run_path_server, bos_num=1, train_steps=10000, delim=0, n_layers=3, n_heads=1, no_attn_norm=(), no_ffn_norm=(), no_attn=(), no_ffn=(), linear_ffn=(), lr=0.03, with_data=True, data_path_local=\"/Users/guotianyu/GitHub/birth/data\", data_path_server=\"/data/tianyu/birth/data\")\n",
    "hook = forward_hook([], '')\n",
    "pred, outputs_list = model.modified_forward_with_hook(x, hook)\n",
    "probs = get_oracle_predicts(x, ds)\n",
    "triggers_pos = ds.get_triggers_pos(x)\n",
    "risk = get_risk(probs, pred, predict_in_logits=True, triggers_pos=triggers_pos)\n",
    "risk[1:3]"
   ]
  },
  {
   "cell_type": "code",
   "execution_count": 15,
   "metadata": {},
   "outputs": [
    {
     "data": {
      "text/plain": [
       "(tensor(0.), tensor(2.2193))"
      ]
     },
     "execution_count": 15,
     "metadata": {},
     "output_type": "execute_result"
    }
   ],
   "source": [
    "risk = get_risk(probs, probs, predict_in_logits=False, triggers_pos=triggers_pos)\n",
    "risk[1:3]"
   ]
  },
  {
   "cell_type": "code",
   "execution_count": 5,
   "metadata": {},
   "outputs": [
    {
     "data": {
      "text/plain": [
       "tensor([12.9581,  6.5198,  7.5389,  6.8702,  6.9559,  5.9656,  5.9086,  8.1452,\n",
       "         6.2680,  6.0174], grad_fn=<LinalgVectorNormBackward0>)"
      ]
     },
     "execution_count": 5,
     "metadata": {},
     "output_type": "execute_result"
    }
   ],
   "source": [
    "outputs_list[1]['value_states'][0, 0, :10, :].norm(dim=-1)"
   ]
  },
  {
   "cell_type": "code",
   "execution_count": 8,
   "metadata": {},
   "outputs": [
    {
     "data": {
      "text/plain": [
       "tensor([16.7043,  8.8768,  5.6731,  7.4928,  7.6160,  6.4242,  5.4398,  4.2214,\n",
       "         5.7071,  5.6537], grad_fn=<LinalgVectorNormBackward0>)"
      ]
     },
     "execution_count": 8,
     "metadata": {},
     "output_type": "execute_result"
    }
   ],
   "source": [
    "outputs_list[1]['attn_output'][0, :10, :].norm(dim=-1)"
   ]
  },
  {
   "cell_type": "code",
   "execution_count": 7,
   "metadata": {},
   "outputs": [
    {
     "data": {
      "text/plain": [
       "tensor([ 6.2700, 10.2672,  7.4039, 10.4532,  9.6293,  8.9571, 10.3387,  7.1698,\n",
       "        10.4337,  9.2075], grad_fn=<LinalgVectorNormBackward0>)"
      ]
     },
     "execution_count": 7,
     "metadata": {},
     "output_type": "execute_result"
    }
   ],
   "source": [
    "outputs_list[2]['value_states'][0, 0, :10, :].norm(dim=-1)"
   ]
  },
  {
   "cell_type": "code",
   "execution_count": 15,
   "metadata": {},
   "outputs": [
    {
     "data": {
      "text/plain": [
       "tensor([ 4.3304,  4.3293, 10.3223,  4.3280,  4.3176,  4.2827,  4.2839,  8.4458,\n",
       "         4.2674,  4.3171], grad_fn=<LinalgVectorNormBackward0>)"
      ]
     },
     "execution_count": 15,
     "metadata": {},
     "output_type": "execute_result"
    }
   ],
   "source": [
    "outputs_list[2]['attn_output'][0, :10, :].norm(dim=-1)"
   ]
  },
  {
   "cell_type": "code",
   "execution_count": 18,
   "metadata": {},
   "outputs": [
    {
     "data": {
      "text/plain": [
       "tensor([[-18.2526,     -inf,     -inf,     -inf,     -inf,     -inf,     -inf,\n",
       "             -inf,     -inf,     -inf],\n",
       "        [ 21.6992,  13.5391,     -inf,     -inf,     -inf,     -inf,     -inf,\n",
       "             -inf,     -inf,     -inf],\n",
       "        [-51.6555, -32.5105, -36.9826,     -inf,     -inf,     -inf,     -inf,\n",
       "             -inf,     -inf,     -inf],\n",
       "        [ 22.4530,  14.0090,  15.5102,  13.2689,     -inf,     -inf,     -inf,\n",
       "             -inf,     -inf,     -inf],\n",
       "        [ 15.5917,   8.7907,  10.0769,   8.4956,   7.2900,     -inf,     -inf,\n",
       "             -inf,     -inf,     -inf],\n",
       "        [ 12.9669,   7.6795,   8.4643,   7.0774,   6.2798,   5.9967,     -inf,\n",
       "             -inf,     -inf,     -inf],\n",
       "        [ 13.7038,   8.2108,   9.2626,   7.8269,   6.6619,   6.7984,   6.2111,\n",
       "             -inf,     -inf,     -inf],\n",
       "        [-52.1162, -33.5148, -37.1000, -30.3950, -28.4820, -26.8688, -24.4827,\n",
       "         -31.8984,     -inf,     -inf],\n",
       "        [ 13.8906,   8.2990,   9.5222,   8.1358,   7.1119,   6.4460,   6.0937,\n",
       "           9.2187,   6.3561,     -inf],\n",
       "        [ 17.6038,  10.8748,  11.6758,  10.3007,   9.1116,   8.5363,   8.1338,\n",
       "          10.4052,   8.5626,   7.1929]], grad_fn=<SliceBackward0>)"
      ]
     },
     "execution_count": 18,
     "metadata": {},
     "output_type": "execute_result"
    }
   ],
   "source": [
    "outputs_list[2]['attn_logits'][0, 0, :10, :10]"
   ]
  },
  {
   "cell_type": "code",
   "execution_count": 8,
   "metadata": {},
   "outputs": [
    {
     "data": {
      "text/plain": [
       "tensor([25.1233, 19.0030, 17.0320, 19.4024, 25.1452, 19.4123, 19.2048, 15.3157,\n",
       "        19.7485, 17.6267], grad_fn=<LinalgVectorNormBackward0>)"
      ]
     },
     "execution_count": 8,
     "metadata": {},
     "output_type": "execute_result"
    }
   ],
   "source": [
    "outputs_list[2]['output'][0, :10, :].norm(dim=-1)"
   ]
  },
  {
   "cell_type": "code",
   "execution_count": 14,
   "metadata": {},
   "outputs": [
    {
     "data": {
      "image/png": "[encoded data removed]",
      "text/plain": [
       "<Figure size 640x480 with 2 Axes>"
      ]
     },
     "metadata": {},
     "output_type": "display_data"
    }
   ],
   "source": [
    "seq_indices = [0]\n",
    "seq_len = 30\n",
    "layer_idx = 1\n",
    "head_idx = 0\n",
    "plot_attn_weights(outputs_list, x, ds, seq_indices, seq_len, layer_idx, head_idx, seq_start=0, keep_label=None, ticks_size=14, titles=[], save_files_fn=[], fn=None)"
   ]
  },
  {
   "cell_type": "code",
   "execution_count": 11,
   "metadata": {},
   "outputs": [
    {
     "data": {
      "text/plain": [
       "(tensor(4.2223, grad_fn=<MeanBackward0>),\n",
       " tensor(2.3041, grad_fn=<MeanBackward0>))"
      ]
     },
     "execution_count": 11,
     "metadata": {},
     "output_type": "execute_result"
    }
   ],
   "source": [
    "hook = check_embed(target_layers=[0, 1, 2], target_heads=[(0, 0), (1, 0), (2, 0)], target_mlp_layers=[])\n",
    "pred, outputs_list = model.modified_forward_with_hook(x, hook)\n",
    "probs = get_oracle_predicts(x, ds)\n",
    "triggers_pos = ds.get_triggers_pos(x)\n",
    "risk = get_risk(probs, pred, predict_in_logits=True, triggers_pos=triggers_pos)\n",
    "risk[1:3]"
   ]
  },
  {
   "cell_type": "code",
   "execution_count": null,
   "metadata": {},
   "outputs": [],
   "source": []
  }
 ],
 "metadata": {
  "kernelspec": {
   "display_name": "nanogpt",
   "language": "python",
   "name": "python3"
  },
  "language_info": {
   "codemirror_mode": {
    "name": "ipython",
    "version": 3
   },
   "file_extension": ".py",
   "mimetype": "text/x-python",
   "name": "python",
   "nbconvert_exporter": "python",
   "pygments_lexer": "ipython3",
   "version": "3.10.14"
  }
 },
 "nbformat": 4,
 "nbformat_minor": 2
}

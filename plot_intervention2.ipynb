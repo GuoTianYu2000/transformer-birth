{
 "cells": [
  {
   "cell_type": "code",
   "execution_count": 59,
   "metadata": {},
   "outputs": [
    {
     "name": "stdout",
     "output_type": "stream",
     "text": [
      "The autoreload extension is already loaded. To reload it, use:\n",
      "  %reload_ext autoreload\n"
     ]
    }
   ],
   "source": [
    "from dataclasses import dataclass\n",
    "import itertools\n",
    "import logging\n",
    "import random\n",
    "import math\n",
    "import numpy as np\n",
    "import json\n",
    "import pickle\n",
    "import time\n",
    "import torch\n",
    "import sys\n",
    "import yaml\n",
    "import seaborn as sns\n",
    "import matplotlib.pyplot as plt\n",
    "from probe_utils import *\n",
    "\n",
    "from omegaconf import OmegaConf\n",
    "from pathlib import Path\n",
    "from torch import nn, Tensor\n",
    "from torch.nn import functional as F\n",
    "from typing import List, Optional, Tuple\n",
    "import os\n",
    "# os.chdir(\"/data/tianyu_guo/birth\")\n",
    "from data import DataArgs, Dataset, iterate_batches, make_dataset\n",
    "from ihead_full_model import ModelArgs, Transformer, forward_hook, test_value, test_sink\n",
    "\n",
    "%load_ext autoreload\n",
    "%autoreload 2\n"
   ]
  },
  {
   "cell_type": "markdown",
   "metadata": {},
   "source": [
    "# First look at the risk at normal sequences"
   ]
  },
  {
   "cell_type": "code",
   "execution_count": 131,
   "metadata": {},
   "outputs": [],
   "source": [
    "run_path_server = \"/data/tianyu_guo/birth/gens/pre_final/dormant_copy\"\n",
    "# run_path_server2=\"/data/tianyu_guo/birth/gens/special/dormant_copy_2\"\n",
    "model, cfg, x, y, ds = load_model(run_path_local=\"/Users/guotianyu/GitHub/birth/gens/special/markov\", run_path_server=run_path_server, n_layers=1, n_heads=1, bos_num=1, train_steps=9980, delim=0, with_data=True, data_path_local=\"/Users/guotianyu/GitHub/birth/data\", data_path_server=\"/data/tianyu_guo/birth/data\")\n",
    "hook = forward_hook(target_layers=[], target_name=\"\")\n",
    "predicts, outputs_list = model.modified_forward_with_hook(x, hook)\n",
    "model.cuda()\n",
    "markov_tok = [i for i in ds.tok_range if i not in ds.idxs and i not in ds.bos and i != ds.delimiter]\n",
    "\n",
    "x_dormant = torch.LongTensor([ds.bos + markov_tok + [i] for i in ds.tok_range]).cuda()\n",
    "predicts_dormant, outputs_list_dormant = model.modified_forward_with_hook(x_dormant, hook)\n",
    "outputs_list_dormant = move_device(outputs_list_dormant)\n",
    "predicts_dormant = predicts_dormant.cpu().detach()\n",
    "\n",
    "x_dormant2 = torch.LongTensor([ds.bos + list(ds.norm_tok_range) + [i] for i in ds.tok_range]).cuda()\n",
    "predicts_dormant2, outputs_list_dormant2 = model.modified_forward_with_hook(x_dormant2, hook)\n",
    "outputs_list_dormant2 = move_device(outputs_list_dormant2)\n",
    "predicts_dormant2 = predicts_dormant2.cpu().detach()"
   ]
  },
  {
   "cell_type": "code",
   "execution_count": 132,
   "metadata": {},
   "outputs": [
    {
     "data": {
      "text/plain": [
       "[1, 2, 3, 6, 8, 9, 10, 11, 12, 42, 43, 58, 63, 64, 65]"
      ]
     },
     "execution_count": 132,
     "metadata": {},
     "output_type": "execute_result"
    }
   ],
   "source": [
    "cutoff = 0.8\n",
    "trigger_toks = [i for i in ds.tok_range if outputs_list_dormant2[0]['attn_weights'][i, 0, -1, 0]<cutoff]\n",
    "attns_to_0 = outputs_list_dormant2[0]['attn_weights'][:, 0, -1, 0].detach().cpu().numpy()\n",
    "trigger_toks"
   ]
  },
  {
   "cell_type": "code",
   "execution_count": 158,
   "metadata": {},
   "outputs": [
    {
     "data": {
      "text/plain": [
       "{tensor(65, device='cuda:0'): tensor(0.5950, grad_fn=<DivBackward0>),\n",
       " tensor(0, device='cuda:0'): tensor(1.3020, grad_fn=<DivBackward0>),\n",
       " tensor(1, device='cuda:0'): tensor(1.8163, grad_fn=<DivBackward0>),\n",
       " tensor(2, device='cuda:0'): tensor(0.9037, grad_fn=<DivBackward0>),\n",
       " tensor(3, device='cuda:0'): tensor(0.8268, grad_fn=<DivBackward0>),\n",
       " tensor(4, device='cuda:0'): tensor(0.9209, grad_fn=<DivBackward0>),\n",
       " tensor(5, device='cuda:0'): tensor(0.7573, grad_fn=<DivBackward0>),\n",
       " tensor(6, device='cuda:0'): tensor(0.8142, grad_fn=<DivBackward0>),\n",
       " tensor(7, device='cuda:0'): tensor(2.7000, grad_fn=<DivBackward0>),\n",
       " tensor(8, device='cuda:0'): tensor(1.7071, grad_fn=<DivBackward0>),\n",
       " tensor(9, device='cuda:0'): tensor(-0.9551, grad_fn=<DivBackward0>),\n",
       " tensor(10, device='cuda:0'): tensor(0.7775, grad_fn=<DivBackward0>),\n",
       " tensor(11, device='cuda:0'): tensor(1.3285, grad_fn=<DivBackward0>),\n",
       " tensor(12, device='cuda:0'): tensor(0.7531, grad_fn=<DivBackward0>),\n",
       " tensor(13, device='cuda:0'): tensor(0.9330, grad_fn=<DivBackward0>),\n",
       " tensor(14, device='cuda:0'): tensor(0.8320, grad_fn=<DivBackward0>),\n",
       " tensor(15, device='cuda:0'): tensor(1.1448, grad_fn=<DivBackward0>),\n",
       " tensor(16, device='cuda:0'): tensor(0.9249, grad_fn=<DivBackward0>),\n",
       " tensor(17, device='cuda:0'): tensor(1.5063, grad_fn=<DivBackward0>),\n",
       " tensor(18, device='cuda:0'): tensor(0.9640, grad_fn=<DivBackward0>),\n",
       " tensor(19, device='cuda:0'): tensor(1.5348, grad_fn=<DivBackward0>),\n",
       " tensor(20, device='cuda:0'): tensor(0.6353, grad_fn=<DivBackward0>),\n",
       " tensor(21, device='cuda:0'): tensor(-9.1177, grad_fn=<DivBackward0>),\n",
       " tensor(22, device='cuda:0'): tensor(2.0660, grad_fn=<DivBackward0>),\n",
       " tensor(23, device='cuda:0'): tensor(1.5127, grad_fn=<DivBackward0>),\n",
       " tensor(24, device='cuda:0'): tensor(13.1788, grad_fn=<DivBackward0>),\n",
       " tensor(25, device='cuda:0'): tensor(0.9261, grad_fn=<DivBackward0>),\n",
       " tensor(26, device='cuda:0'): tensor(0.9195, grad_fn=<DivBackward0>),\n",
       " tensor(27, device='cuda:0'): tensor(1.2536, grad_fn=<DivBackward0>),\n",
       " tensor(28, device='cuda:0'): tensor(0.8427, grad_fn=<DivBackward0>),\n",
       " tensor(29, device='cuda:0'): tensor(1.1538, grad_fn=<DivBackward0>),\n",
       " tensor(30, device='cuda:0'): tensor(3.5592, grad_fn=<DivBackward0>),\n",
       " tensor(31, device='cuda:0'): tensor(2.2584, grad_fn=<DivBackward0>),\n",
       " tensor(32, device='cuda:0'): tensor(2.4376, grad_fn=<DivBackward0>),\n",
       " tensor(33, device='cuda:0'): tensor(-2.1845, grad_fn=<DivBackward0>),\n",
       " tensor(34, device='cuda:0'): tensor(0.9064, grad_fn=<DivBackward0>),\n",
       " tensor(35, device='cuda:0'): tensor(1.6383, grad_fn=<DivBackward0>),\n",
       " tensor(36, device='cuda:0'): tensor(0.7252, grad_fn=<DivBackward0>),\n",
       " tensor(37, device='cuda:0'): tensor(1.0976, grad_fn=<DivBackward0>),\n",
       " tensor(38, device='cuda:0'): tensor(-9.1639, grad_fn=<DivBackward0>),\n",
       " tensor(39, device='cuda:0'): tensor(1.2561, grad_fn=<DivBackward0>),\n",
       " tensor(40, device='cuda:0'): tensor(1.1939, grad_fn=<DivBackward0>),\n",
       " tensor(41, device='cuda:0'): tensor(-1.9100, grad_fn=<DivBackward0>),\n",
       " tensor(42, device='cuda:0'): tensor(1.2034, grad_fn=<DivBackward0>),\n",
       " tensor(43, device='cuda:0'): tensor(1.7456, grad_fn=<DivBackward0>),\n",
       " tensor(44, device='cuda:0'): tensor(1.2904, grad_fn=<DivBackward0>),\n",
       " tensor(45, device='cuda:0'): tensor(93.1421, grad_fn=<DivBackward0>),\n",
       " tensor(46, device='cuda:0'): tensor(1.4507, grad_fn=<DivBackward0>),\n",
       " tensor(47, device='cuda:0'): tensor(2.8850, grad_fn=<DivBackward0>),\n",
       " tensor(48, device='cuda:0'): tensor(3.6242, grad_fn=<DivBackward0>),\n",
       " tensor(49, device='cuda:0'): tensor(1.1856, grad_fn=<DivBackward0>),\n",
       " tensor(50, device='cuda:0'): tensor(-6.6124, grad_fn=<DivBackward0>),\n",
       " tensor(51, device='cuda:0'): tensor(8.1882, grad_fn=<DivBackward0>),\n",
       " tensor(52, device='cuda:0'): tensor(-266.7728, grad_fn=<DivBackward0>),\n",
       " tensor(53, device='cuda:0'): tensor(7.1687, grad_fn=<DivBackward0>),\n",
       " tensor(54, device='cuda:0'): tensor(0.6693, grad_fn=<DivBackward0>),\n",
       " tensor(55, device='cuda:0'): tensor(2.2114, grad_fn=<DivBackward0>),\n",
       " tensor(56, device='cuda:0'): tensor(0.7960, grad_fn=<DivBackward0>),\n",
       " tensor(57, device='cuda:0'): tensor(6.4588, grad_fn=<DivBackward0>),\n",
       " tensor(58, device='cuda:0'): tensor(1.1339, grad_fn=<DivBackward0>),\n",
       " tensor(59, device='cuda:0'): tensor(1.4875, grad_fn=<DivBackward0>),\n",
       " tensor(60, device='cuda:0'): tensor(3.9279, grad_fn=<DivBackward0>),\n",
       " tensor(61, device='cuda:0'): tensor(0.8121, grad_fn=<DivBackward0>),\n",
       " tensor(62, device='cuda:0'): tensor(0.9130, grad_fn=<DivBackward0>),\n",
       " tensor(63, device='cuda:0'): tensor(4.7369, grad_fn=<DivBackward0>)}"
      ]
     },
     "execution_count": 158,
     "metadata": {},
     "output_type": "execute_result"
    }
   ],
   "source": [
    "stable_score = dict()\n",
    "for i in range(65):\n",
    "    tmp = outputs_list_dormant2[0]['attn_logits'][0, 0, i:, i]\n",
    "    stable_score[x_dormant2[0, i]] = tmp.std() / tmp.mean()\n",
    "stable_score"
   ]
  },
  {
   "cell_type": "code",
   "execution_count": 138,
   "metadata": {},
   "outputs": [
    {
     "data": {
      "image/png": "[encoded data removed]",
      "text/plain": [
       "<Figure size 1000x1000 with 2 Axes>"
      ]
     },
     "metadata": {},
     "output_type": "display_data"
    }
   ],
   "source": [
    "seq_len = 67\n",
    "seq_idx = 0\n",
    "layer_idx = 0\n",
    "head_idx = 0\n",
    "sub_seq = x_dormant2.detach().cpu()[seq_idx, :seq_len].numpy().copy()\n",
    "text = ds.decode(sub_seq)\n",
    "fig, ax = plt.subplots(figsize=(10, 10))\n",
    "plot_attns(cfg, ax, seq_idx, head_idx, layer_idx, seq_len, outputs_list_dormant2, text)\n",
    "plt.show()"
   ]
  },
  {
   "cell_type": "code",
   "execution_count": 64,
   "metadata": {},
   "outputs": [],
   "source": [
    "oracle_risk = -torch.log(torch.from_numpy(ds.cond))\n",
    "oracle_risk[oracle_risk == float(\"Inf\")] = 0\n",
    "oracle_risk = oracle_risk @ ds.cond\n",
    "emp_risk = -torch.log(torch.nn.functional.softmax(predicts_dormant[:, -1, :], dim=-1)) @ ds.cond\n",
    "emp_risk2 = -torch.log(torch.nn.functional.softmax(predicts_dormant2[:, -1, :], dim=-1)) @ ds.cond\n",
    "emp_risks = [(i, emp_risk[i, i], emp_risk2[i, i], oracle_risk[i, i]) for i in ds.tok_range]"
   ]
  },
  {
   "cell_type": "code",
   "execution_count": 104,
   "metadata": {},
   "outputs": [],
   "source": [
    "def get_oracle_predicts(x, ds):\n",
    "    B, N, V = x.shape[0], x.shape[1], ds.num_tokens\n",
    "    predicts_oracle = np.zeros((B, N, V))\n",
    "    for i in range(x.shape[0]):\n",
    "        for j in range(x.shape[1]):\n",
    "            if x[i, j] in ds.idxs:\n",
    "                predicts_oracle[i, j, x[i, j-1]] = 1\n",
    "            else:\n",
    "                predicts_oracle[i, j, :] = ds.cond[x[i, j]]\n",
    "    return torch.from_numpy(predicts_oracle).float()\n",
    "\n",
    "def get_risk(probs, predicts, predict_in_logits):\n",
    "    if predict_in_logits:\n",
    "        predicts = torch.nn.functional.softmax(predicts, dim=-1)\n",
    "    loss = - torch.log(predicts)\n",
    "    loss[torch.where(probs == 0)] = 0\n",
    "    risk = torch.einsum(\"ikj,ikj->ik\", probs, loss)\n",
    "    return risk"
   ]
  },
  {
   "cell_type": "code",
   "execution_count": 105,
   "metadata": {},
   "outputs": [
    {
     "data": {
      "text/plain": [
       "tensor(1.6430, grad_fn=<MeanBackward0>)"
      ]
     },
     "execution_count": 105,
     "metadata": {},
     "output_type": "execute_result"
    }
   ],
   "source": [
    "predicts_oracle = get_oracle_predicts(x, ds)\n",
    "risk = get_risk(predicts_oracle, predicts, predict_in_logits=True)\n",
    "risk[:, 1:].mean()"
   ]
  },
  {
   "cell_type": "code",
   "execution_count": 110,
   "metadata": {},
   "outputs": [
    {
     "data": {
      "text/plain": [
       "(tensor(2.0191), tensor(1.8734))"
      ]
     },
     "execution_count": 110,
     "metadata": {},
     "output_type": "execute_result"
    }
   ],
   "source": [
    "predicts_oracle_dormant = get_oracle_predicts(x_dormant, ds)\n",
    "risk_OOD = get_risk(predicts_oracle_dormant, predicts_dormant, predict_in_logits=True)\n",
    "risk_optimal = get_risk(predicts_oracle_dormant, predicts_oracle_dormant, predict_in_logits=False)\n",
    "risk_OOD[:, 1:-1].mean(), risk_optimal[:, 1:-1].mean()"
   ]
  },
  {
   "cell_type": "code",
   "execution_count": 115,
   "metadata": {},
   "outputs": [
    {
     "data": {
      "text/plain": [
       "(tensor([3.0440e+00, 8.1213e-01, 7.8390e-01, 8.6641e+00, 2.0594e+00, 6.6017e-01,\n",
       "         2.8465e+00, 4.6918e-01, 1.8148e-03, 4.4817e-01, 7.3825e-01, 6.2173e-01,\n",
       "         2.6709e+00, 2.4274e+00, 2.4785e+00, 2.4484e+00, 2.5881e+00, 2.1601e+00,\n",
       "         2.5091e+00, 2.1952e+00, 2.4453e+00, 1.5516e+00, 1.6741e+00, 2.4110e+00,\n",
       "         2.3829e+00, 2.6858e+00, 2.5609e+00, 2.5207e+00, 2.4510e-01, 2.8314e+00,\n",
       "         2.6273e+00, 2.0958e+00, 2.1773e+00, 1.7727e+00, 1.5826e+00, 1.0849e+00,\n",
       "         1.6690e+00, 7.8852e-01, 2.6435e+00, 2.0652e+00, 2.1564e+00, 2.1536e+00,\n",
       "         2.1561e+00, 2.5301e+00, 1.9427e+00, 2.4600e+00, 1.2129e+00, 2.0425e+00,\n",
       "         2.5032e+00, 2.2895e+00, 2.5764e+00, 2.6712e+00, 2.4630e+00, 5.3366e-04,\n",
       "         2.6789e+00, 2.4589e+00, 2.5508e+00, 8.0869e-01, 2.2630e+00, 2.2453e+00,\n",
       "         1.6608e+00, 9.1903e-01]),\n",
       " tensor([65,  0,  2,  3,  4,  5,  6,  7,  8,  9, 10, 11, 12, 13, 14, 15, 16, 17,\n",
       "         18, 19, 20, 21, 22, 23, 24, 25, 26, 27, 28, 29, 30, 31, 32, 33, 34, 35,\n",
       "         36, 37, 38, 39, 40, 41, 42, 44, 45, 46, 47, 48, 49, 50, 51, 52, 53, 54,\n",
       "         55, 56, 57, 59, 60, 61, 62, 63, 64,  0], device='cuda:0'))"
      ]
     },
     "execution_count": 115,
     "metadata": {},
     "output_type": "execute_result"
    }
   ],
   "source": [
    "risk_OOD[0, 1:-1], x_dormant[0]"
   ]
  },
  {
   "cell_type": "code",
   "execution_count": 113,
   "metadata": {},
   "outputs": [
    {
     "data": {
      "text/plain": [
       "<BarContainer object of 62 artists>"
      ]
     },
     "execution_count": 113,
     "metadata": {},
     "output_type": "execute_result"
    },
    {
     "data": {
      "image/png": "[encoded data removed]",
      "text/plain": [
       "<Figure size 640x480 with 1 Axes>"
      ]
     },
     "metadata": {},
     "output_type": "display_data"
    }
   ],
   "source": [
    "plt.bar(markov_tok, risk_OOD[0, 1:-1])\n",
    "plt.bar(markov_tok, risk_optimal[0, 1:-1])"
   ]
  },
  {
   "cell_type": "code",
   "execution_count": 145,
   "metadata": {},
   "outputs": [
    {
     "data": {
      "text/plain": [
       "(tensor(2.2885), tensor(1.8325))"
      ]
     },
     "execution_count": 145,
     "metadata": {},
     "output_type": "execute_result"
    }
   ],
   "source": [
    "predicts_oracle_dormant2 = get_oracle_predicts(x_dormant2, ds)\n",
    "risk_OOD2 = get_risk(predicts_oracle_dormant2, predicts_dormant2, predict_in_logits=True)\n",
    "risk_optimal2 = get_risk(predicts_oracle_dormant2, predicts_oracle_dormant2, predict_in_logits=False)\n",
    "risk_OOD2[:, -1].mean(), risk_optimal2[:, -1].mean()"
   ]
  },
  {
   "cell_type": "code",
   "execution_count": 140,
   "metadata": {},
   "outputs": [
    {
     "data": {
      "text/plain": [
       "<BarContainer object of 65 artists>"
      ]
     },
     "execution_count": 140,
     "metadata": {},
     "output_type": "execute_result"
    },
    {
     "data": {
      "image/png": "[encoded data removed]",
      "text/plain": [
       "<Figure size 640x480 with 1 Axes>"
      ]
     },
     "metadata": {},
     "output_type": "display_data"
    }
   ],
   "source": [
    "plt.bar(ds.norm_tok_range, risk_OOD2[0, 1:-1])\n",
    "plt.bar(ds.norm_tok_range, risk_optimal2[0, 1:-1])"
   ]
  },
  {
   "cell_type": "code",
   "execution_count": 142,
   "metadata": {},
   "outputs": [
    {
     "data": {
      "text/plain": [
       "[(tensor(65, device='cuda:0'), tensor(4.9929), tensor(3.3128)),\n",
       " (tensor(0, device='cuda:0'), tensor(3.0440), tensor(3.0430)),\n",
       " (tensor(1, device='cuda:0'), tensor(0.0155), tensor(0.)),\n",
       " (tensor(2, device='cuda:0'), tensor(0.8114), tensor(0.8108)),\n",
       " (tensor(3, device='cuda:0'), tensor(0.5044), tensor(0.)),\n",
       " (tensor(4, device='cuda:0'), tensor(8.4814), tensor(0.6365)),\n",
       " (tensor(5, device='cuda:0'), tensor(2.0585), tensor(2.0547)),\n",
       " (tensor(6, device='cuda:0'), tensor(0.6601), tensor(0.6598)),\n",
       " (tensor(7, device='cuda:0'), tensor(2.8486), tensor(2.8361)),\n",
       " (tensor(8, device='cuda:0'), tensor(0.4672), tensor(0.4670)),\n",
       " (tensor(9, device='cuda:0'), tensor(0.0003), tensor(0.)),\n",
       " (tensor(10, device='cuda:0'), tensor(0.4459), tensor(0.4449)),\n",
       " (tensor(11, device='cuda:0'), tensor(0.7378), tensor(0.7372)),\n",
       " (tensor(12, device='cuda:0'), tensor(0.6208), tensor(0.6195)),\n",
       " (tensor(13, device='cuda:0'), tensor(2.6710), tensor(2.6686)),\n",
       " (tensor(14, device='cuda:0'), tensor(2.4262), tensor(2.4235)),\n",
       " (tensor(15, device='cuda:0'), tensor(2.4771), tensor(2.4746)),\n",
       " (tensor(16, device='cuda:0'), tensor(2.4480), tensor(2.4442)),\n",
       " (tensor(17, device='cuda:0'), tensor(2.5878), tensor(2.5858)),\n",
       " (tensor(18, device='cuda:0'), tensor(2.1600), tensor(2.1554)),\n",
       " (tensor(19, device='cuda:0'), tensor(2.5105), tensor(2.5019)),\n",
       " (tensor(20, device='cuda:0'), tensor(2.1949), tensor(2.1925)),\n",
       " (tensor(21, device='cuda:0'), tensor(2.4466), tensor(2.4433)),\n",
       " (tensor(22, device='cuda:0'), tensor(1.5538), tensor(1.5385)),\n",
       " (tensor(23, device='cuda:0'), tensor(1.6724), tensor(1.6690)),\n",
       " (tensor(24, device='cuda:0'), tensor(2.4110), tensor(2.4072)),\n",
       " (tensor(25, device='cuda:0'), tensor(2.3835), tensor(2.3792)),\n",
       " (tensor(26, device='cuda:0'), tensor(2.6850), tensor(2.6825)),\n",
       " (tensor(27, device='cuda:0'), tensor(2.5609), tensor(2.5561)),\n",
       " (tensor(28, device='cuda:0'), tensor(2.5219), tensor(2.5159)),\n",
       " (tensor(29, device='cuda:0'), tensor(0.2419), tensor(0.2403)),\n",
       " (tensor(30, device='cuda:0'), tensor(2.8299), tensor(2.8261)),\n",
       " (tensor(31, device='cuda:0'), tensor(2.6283), tensor(2.6252)),\n",
       " (tensor(32, device='cuda:0'), tensor(2.0948), tensor(2.0926)),\n",
       " (tensor(33, device='cuda:0'), tensor(2.1773), tensor(2.1726)),\n",
       " (tensor(34, device='cuda:0'), tensor(1.7722), tensor(1.7648)),\n",
       " (tensor(35, device='cuda:0'), tensor(1.5845), tensor(1.5807)),\n",
       " (tensor(36, device='cuda:0'), tensor(1.0901), tensor(1.0665)),\n",
       " (tensor(37, device='cuda:0'), tensor(1.6678), tensor(1.6643)),\n",
       " (tensor(38, device='cuda:0'), tensor(0.7819), tensor(0.7740)),\n",
       " (tensor(39, device='cuda:0'), tensor(2.6437), tensor(2.6427)),\n",
       " (tensor(40, device='cuda:0'), tensor(2.0695), tensor(2.0618)),\n",
       " (tensor(41, device='cuda:0'), tensor(2.1550), tensor(2.1517)),\n",
       " (tensor(42, device='cuda:0'), tensor(2.1523), tensor(2.1516)),\n",
       " (tensor(43, device='cuda:0'), tensor(21.6345), tensor(0.)),\n",
       " (tensor(44, device='cuda:0'), tensor(2.1560), tensor(2.1541)),\n",
       " (tensor(45, device='cuda:0'), tensor(2.5305), tensor(2.5282)),\n",
       " (tensor(46, device='cuda:0'), tensor(1.9424), tensor(1.9417)),\n",
       " (tensor(47, device='cuda:0'), tensor(2.4601), tensor(2.4591)),\n",
       " (tensor(48, device='cuda:0'), tensor(1.2176), tensor(1.2107)),\n",
       " (tensor(49, device='cuda:0'), tensor(2.0424), tensor(2.0406)),\n",
       " (tensor(50, device='cuda:0'), tensor(2.5026), tensor(2.5019)),\n",
       " (tensor(51, device='cuda:0'), tensor(2.2889), tensor(2.2878)),\n",
       " (tensor(52, device='cuda:0'), tensor(2.5761), tensor(2.5756)),\n",
       " (tensor(53, device='cuda:0'), tensor(2.6712), tensor(2.6703)),\n",
       " (tensor(54, device='cuda:0'), tensor(2.4625), tensor(2.4601)),\n",
       " (tensor(55, device='cuda:0'), tensor(0.0004), tensor(0.)),\n",
       " (tensor(56, device='cuda:0'), tensor(2.6794), tensor(2.6782)),\n",
       " (tensor(57, device='cuda:0'), tensor(2.4587), tensor(2.4580)),\n",
       " (tensor(58, device='cuda:0'), tensor(14.2102), tensor(0.)),\n",
       " (tensor(59, device='cuda:0'), tensor(2.5512), tensor(2.5500)),\n",
       " (tensor(60, device='cuda:0'), tensor(0.8086), tensor(0.8083)),\n",
       " (tensor(61, device='cuda:0'), tensor(2.2631), tensor(2.2610)),\n",
       " (tensor(62, device='cuda:0'), tensor(2.2457), tensor(2.2329)),\n",
       " (tensor(63, device='cuda:0'), tensor(1.6580), tensor(1.6573)),\n",
       " (tensor(64, device='cuda:0'), tensor(0.9197), tensor(0.9117)),\n",
       " (tensor(0, device='cuda:0'), tensor(3.0442), tensor(3.0430))]"
      ]
     },
     "execution_count": 142,
     "metadata": {},
     "output_type": "execute_result"
    }
   ],
   "source": [
    "[(x_dormant2[0, i], risk_OOD2[0, i], risk_optimal2[0, i]) for i in range(67)]"
   ]
  },
  {
   "cell_type": "markdown",
   "metadata": {},
   "source": [
    "# Verify that if we manually set attention score from markov tokens to the initial token, risk won't drop"
   ]
  },
  {
   "cell_type": "code",
   "execution_count": null,
   "metadata": {},
   "outputs": [],
   "source": []
  }
 ],
 "metadata": {
  "kernelspec": {
   "display_name": "nanogpt",
   "language": "python",
   "name": "nanogpt"
  },
  "language_info": {
   "codemirror_mode": {
    "name": "ipython",
    "version": 3
   },
   "file_extension": ".py",
   "mimetype": "text/x-python",
   "name": "python",
   "nbconvert_exporter": "python",
   "pygments_lexer": "ipython3",
   "version": "3.10.14"
  }
 },
 "nbformat": 4,
 "nbformat_minor": 2
}

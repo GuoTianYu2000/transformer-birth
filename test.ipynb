{
 "cells": [
  {
   "cell_type": "code",
   "execution_count": 1,
   "metadata": {},
   "outputs": [],
   "source": [
    "from dataclasses import dataclass\n",
    "import itertools\n",
    "import logging\n",
    "import random\n",
    "import math\n",
    "import numpy as np\n",
    "import json\n",
    "import pickle\n",
    "import time\n",
    "import torch\n",
    "import sys\n",
    "import pdb\n",
    "import os\n",
    "os.chdir(\"/Users/guotianyu/GitHub/birth\")\n",
    "\n",
    "from omegaconf import OmegaConf\n",
    "from pathlib import Path\n",
    "from torch import nn, Tensor\n",
    "from torch.nn import functional as F\n",
    "from typing import List, Optional, Tuple\n",
    "\n",
    "from data import *\n",
    "from ihead_full_model import ModelArgs, Transformer\n",
    "%load_ext autoreload\n",
    "%autoreload 2"
   ]
  },
  {
   "cell_type": "markdown",
   "metadata": {},
   "source": [
    "# Preprocess Meta"
   ]
  },
  {
   "cell_type": "code",
   "execution_count": 2,
   "metadata": {},
   "outputs": [
    {
     "data": {
      "text/plain": [
       "1"
      ]
     },
     "execution_count": 2,
     "metadata": {},
     "output_type": "execute_result"
    }
   ],
   "source": [
    "ds = MetaProcess(DataArgs())\n",
    "ds.bos_num"
   ]
  },
  {
   "cell_type": "code",
   "execution_count": 4,
   "metadata": {},
   "outputs": [],
   "source": [
    "import pickle\n",
    "import yaml\n",
    "\n",
    "meta_processed = ds.process()\n",
    "config_path = \"data/bos1_d0\"\n",
    "os.makedirs(config_path, exist_ok=True)\n",
    "with open(os.path.join(config_path, 'meta.pickle'), 'wb') as handle:\n",
    "    pickle.dump(meta_processed, handle, protocol=pickle.HIGHEST_PROTOCOL)\n",
    "with open(os.path.join(config_path, 'config.yaml'), 'w') as f:\n",
    "    yaml.dump(meta_processed, f, default_flow_style=False)\n",
    "\n"
   ]
  },
  {
   "cell_type": "markdown",
   "metadata": {},
   "source": [
    "# load meta and test corresponding dgp"
   ]
  },
  {
   "cell_type": "code",
   "execution_count": 2,
   "metadata": {},
   "outputs": [],
   "source": [
    "import pickle\n",
    "import numpy as np\n",
    "\n",
    "with open(\"/Users/guotianyu/GitHub/birth/data/meta_bos1_d0.pickle\", \"rb\") as f:\n",
    "    meta_info = pickle.load(f)\n",
    "\n",
    "# data_cfg = OmegaConf.structured(meta_info)\n",
    "\n",
    "\n",
    "ds = dormant_copy_2(DataArgs(), meta_info)\n",
    "\n",
    "\n"
   ]
  },
  {
   "cell_type": "code",
   "execution_count": 3,
   "metadata": {},
   "outputs": [],
   "source": [
    "x = ds.gen_batch(np.random.default_rng(0), 64)"
   ]
  },
  {
   "cell_type": "code",
   "execution_count": 5,
   "metadata": {},
   "outputs": [
    {
     "data": {
      "text/plain": [
       "array([65, 55, 59,  1, 59, 57, 58, 57, 53, 57, 58, 57,  0, 33, 15, 39, 15,\n",
       "       53, 15, 20, 27,  1, 27, 30, 27, 26, 19, 59, 58, 59, 56, 47, 52,  1,\n",
       "       52, 43, 52, 42, 53, 42,  1, 42,  1, 42,  1, 42, 53, 42, 39, 42, 50,\n",
       "       50, 39, 50,  1, 50,  1, 50, 50, 39, 50, 43, 50,  1, 50, 42, 43, 42,\n",
       "       57,  6,  0, 26, 53, 26, 53, 26, 19, 39, 19, 56, 43, 56, 43, 56, 53,\n",
       "       56, 52, 47, 58, 47, 57, 58, 57,  0, 35, 53, 35, 39, 35, 47, 57, 43,\n",
       "       57, 57, 58, 57, 43, 57, 58, 57, 53, 57,  1, 57,  0, 32, 46, 57,  1,\n",
       "       57,  1, 57, 12,  1, 12,  0, 13, 54, 43, 54, 43, 54, 50, 53, 50, 39,\n",
       "       50, 53, 50, 63,  1, 63,  6,  1,  6,  1,  6,  0, 32, 46, 53, 46, 43,\n",
       "       46, 43, 46, 47, 58, 47, 58, 47, 52, 42,  5, 58,  5, 42,  1, 42, 53,\n",
       "       42,  1, 42,  1, 42, 53, 42, 43, 42, 57, 53, 57,  1, 57, 47, 57,  1,\n",
       "       57, 58, 57, 43, 57, 43, 57,  1, 57, 43, 57, 54, 59, 56, 39, 56, 47,\n",
       "       45, 46, 43, 46,  1, 46, 47, 45, 43, 45, 52,  1, 52, 57, 42, 56, 53,\n",
       "       56,  1, 56,  1, 56, 45, 46, 39, 46, 39, 46, 43, 46, 47, 42,  8,  0,\n",
       "       32, 46, 63,  1, 63, 53, 63, 53, 63, 10,  1, 10,  0, 17, 26, 59, 57,\n",
       "       43, 57])"
      ]
     },
     "execution_count": 5,
     "metadata": {},
     "output_type": "execute_result"
    }
   ],
   "source": [
    "x[0]"
   ]
  }
 ],
 "metadata": {
  "kernelspec": {
   "display_name": "Python 3 (ipykernel)",
   "language": "python",
   "name": "python3"
  },
  "language_info": {
   "codemirror_mode": {
    "name": "ipython",
    "version": 3
   },
   "file_extension": ".py",
   "mimetype": "text/x-python",
   "name": "python",
   "nbconvert_exporter": "python",
   "pygments_lexer": "ipython3",
   "version": "3.9.7"
  }
 },
 "nbformat": 4,
 "nbformat_minor": 2
}

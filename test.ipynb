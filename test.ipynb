{
 "cells": [
  {
   "cell_type": "code",
   "execution_count": 1,
   "metadata": {},
   "outputs": [
    {
     "ename": "FileNotFoundError",
     "evalue": "[Errno 2] No such file or directory: '/Users/guotianyu/GitHub/birth'",
     "output_type": "error",
     "traceback": [
      "\u001b[0;31m---------------------------------------------------------------------------\u001b[0m",
      "\u001b[0;31mFileNotFoundError\u001b[0m                         Traceback (most recent call last)",
      "Cell \u001b[0;32mIn[1], line 14\u001b[0m\n\u001b[1;32m     12\u001b[0m \u001b[38;5;28;01mimport\u001b[39;00m \u001b[38;5;21;01mpdb\u001b[39;00m\n\u001b[1;32m     13\u001b[0m \u001b[38;5;28;01mimport\u001b[39;00m \u001b[38;5;21;01mos\u001b[39;00m\n\u001b[0;32m---> 14\u001b[0m \u001b[43mos\u001b[49m\u001b[38;5;241;43m.\u001b[39;49m\u001b[43mchdir\u001b[49m\u001b[43m(\u001b[49m\u001b[38;5;124;43m\"\u001b[39;49m\u001b[38;5;124;43m/Users/guotianyu/GitHub/birth\u001b[39;49m\u001b[38;5;124;43m\"\u001b[39;49m\u001b[43m)\u001b[49m\n\u001b[1;32m     16\u001b[0m \u001b[38;5;28;01mfrom\u001b[39;00m \u001b[38;5;21;01momegaconf\u001b[39;00m \u001b[38;5;28;01mimport\u001b[39;00m OmegaConf\n\u001b[1;32m     17\u001b[0m \u001b[38;5;28;01mfrom\u001b[39;00m \u001b[38;5;21;01mpathlib\u001b[39;00m \u001b[38;5;28;01mimport\u001b[39;00m Path\n",
      "\u001b[0;31mFileNotFoundError\u001b[0m: [Errno 2] No such file or directory: '/Users/guotianyu/GitHub/birth'"
     ]
    }
   ],
   "source": [
    "from dataclasses import dataclass\n",
    "import itertools\n",
    "import logging\n",
    "import random\n",
    "import math\n",
    "import numpy as np\n",
    "import json\n",
    "import pickle\n",
    "import time\n",
    "import torch\n",
    "import sys\n",
    "import pdb\n",
    "import os\n",
    "os.chdir(\"/Users/guotianyu/GitHub/birth\")\n",
    "\n",
    "from omegaconf import OmegaConf\n",
    "from pathlib import Path\n",
    "from torch import nn, Tensor\n",
    "from torch.nn import functional as F\n",
    "from typing import List, Optional, Tuple\n",
    "\n",
    "from data import *\n",
    "from ihead_full_model import ModelArgs, Transformer\n",
    "%load_ext autoreload\n",
    "%autoreload 2"
   ]
  },
  {
   "cell_type": "markdown",
   "metadata": {},
   "source": [
    "# Preprocess Meta"
   ]
  },
  {
   "cell_type": "code",
   "execution_count": 7,
   "metadata": {},
   "outputs": [],
   "source": [
    "d=0.03\n",
    "data_args = DataArgs(delimiter_p=d)\n",
    "ds = MetaProcess(data_args)\n",
    "ds.bos_num\n",
    "import pickle\n",
    "import yaml\n",
    "\n",
    "meta_processed = ds.process()\n",
    "config_path = \"data/bos1_d003\"\n",
    "os.makedirs(config_path, exist_ok=True)\n",
    "with open(os.path.join(config_path, 'meta.pickle'), 'wb') as handle:\n",
    "    pickle.dump(meta_processed, handle, protocol=pickle.HIGHEST_PROTOCOL)\n",
    "with open(os.path.join(config_path, 'config.yaml'), 'w') as f:\n",
    "    yaml.dump(meta_processed, f, default_flow_style=False)\n",
    "\n"
   ]
  },
  {
   "cell_type": "markdown",
   "metadata": {},
   "source": [
    "# load meta and test corresponding dgp"
   ]
  },
  {
   "cell_type": "code",
   "execution_count": 25,
   "metadata": {},
   "outputs": [],
   "source": [
    "import pickle\n",
    "import numpy as np\n",
    "data_args = DataArgs(delimiter_p=0)\n",
    "with open(\"/Users/guotianyu/GitHub/birth/data/bos1_d0/meta.pickle\", \"rb\") as f:\n",
    "    meta_info = pickle.load(f)\n",
    "\n",
    "# data_cfg = OmegaConf.structured(meta_info)\n",
    "ds = dormant_copy(data_args, meta_info)\n",
    "x = ds.gen_batch(np.random.default_rng(0), 64)"
   ]
  },
  {
   "cell_type": "code",
   "execution_count": 27,
   "metadata": {},
   "outputs": [
    {
     "data": {
      "text/plain": [
       "array([65, 46, 63, 11,  1, 11,  1, 11,  1, 11,  0, 20, 17, 26, 32, 10,  0,\n",
       "       21,  1, 21, 10,  0, 31, 10,  1, 10,  0,  0, 19,  1, 19,  1, 19, 30,\n",
       "       17, 10,  0, 18,  1, 18, 47, 43, 47, 60, 43, 60, 53, 60, 47, 42, 43,\n",
       "       42, 53, 42,  6,  1,  6,  1,  6,  1,  6,  0, 20, 53, 20, 21, 38, 13,\n",
       "       52, 41, 46, 39, 46, 58, 46, 53, 46, 63, 53, 63,  1, 63, 53, 63,  1,\n",
       "       63,  1, 63,  1, 63, 53, 63,  1, 63,  1, 63,  1, 63,  1, 63, 53, 63,\n",
       "       53, 63, 43, 63,  1, 63,  1, 63,  1, 63, 43, 63,  1, 63, 43, 63, 53,\n",
       "       63,  8,  0, 32, 46, 43, 46, 39, 46, 63, 53, 63,  2,  0, 27, 33, 17,\n",
       "       26, 17, 17, 32, 46, 43, 46, 39, 46, 58, 46, 47, 58, 47, 52,  1, 52,\n",
       "       53, 52, 57, 58, 57,  6,  1,  6,  1,  6,  1,  6,  0,  0, 35, 13, 52,\n",
       "       42, 53, 42, 43, 42,  1, 42, 47, 43, 47, 50,  1, 50, 57, 58, 57, 58,\n",
       "       57,  1, 57, 58, 57, 58, 57, 53, 57,  1, 57,  1, 57, 43, 57,  0,  0,\n",
       "       32, 13,  1, 13, 19, 53, 19, 53, 19,  1, 19, 53, 19, 47, 60, 47, 58,\n",
       "       47, 52,  1, 52, 43, 52, 42,  1, 42, 57,  1, 57, 58, 57,  6,  1,  6,\n",
       "        1,  6,  0, 21,  1, 21, 26, 53, 26, 19, 14, 30, 53, 30, 35, 39, 35,\n",
       "       46, 43])"
      ]
     },
     "execution_count": 27,
     "metadata": {},
     "output_type": "execute_result"
    }
   ],
   "source": [
    "x[9]"
   ]
  },
  {
   "cell_type": "code",
   "execution_count": 4,
   "metadata": {},
   "outputs": [
    {
     "data": {
      "text/plain": [
       "[39, 53, 58, 43, 1]"
      ]
     },
     "execution_count": 4,
     "metadata": {},
     "output_type": "execute_result"
    }
   ],
   "source": [
    "ds.idxs"
   ]
  },
  {
   "cell_type": "markdown",
   "metadata": {},
   "source": [
    "# Test on dormant_copy_interpolate"
   ]
  },
  {
   "cell_type": "code",
   "execution_count": 6,
   "metadata": {},
   "outputs": [],
   "source": [
    "import pickle\n",
    "import numpy as np\n",
    "data_args1 = DataArgs(delimiter_p=0, mix_p=0)\n",
    "data_args2 = DataArgs(delimiter_p=0, mix_p=1)\n",
    "\n",
    "with open(\"/Users/guotianyu/GitHub/birth/data/bos1_d0/meta.pickle\", \"rb\") as f:\n",
    "    meta_info = pickle.load(f)\n",
    "\n",
    "# data_cfg = OmegaConf.structured(meta_info)\n",
    "ds1 = dormant_copy_interpolate(data_args1, meta_info)\n",
    "ds2 = dormant_markov_interpolate(data_args2, meta_info)\n",
    "x1 = ds1.gen_batch(np.random.default_rng(0), 64)\n",
    "x2 = ds2.gen_batch(np.random.default_rng(0), 64)"
   ]
  },
  {
   "cell_type": "code",
   "execution_count": 7,
   "metadata": {},
   "outputs": [
    {
     "data": {
      "text/plain": [
       "(array([65, 51, 39, 54, 53, 58, 59, 56, 57,  1,  1, 53, 63,  8,  0, 31, 13,\n",
       "        54, 43, 53, 57, 46, 53, 53, 10,  0,  0, 13, 46, 43, 43, 57, 58, 46,\n",
       "        58, 43, 43, 57, 53,  0, 56,  1, 54, 43, 43, 57, 53, 53, 56,  1, 39,\n",
       "        52,  8,  0, 14, 43, 30, 35, 47, 52, 53, 58, 52,  1, 45, 50,  1, 43,\n",
       "        63,  1, 53, 63,  1, 11,  1,  0, 28, 17, 37, 43, 43, 45, 53, 39, 42,\n",
       "        11,  0, 31, 21, 27, 18, 47, 57,  1, 58, 40, 43, 50,  1, 53, 40, 57,\n",
       "        57, 47, 42,  1, 47, 52,  1, 53, 41, 46,  6,  0, 32, 46, 63,  1,  1,\n",
       "        50, 50, 50,  1, 43, 52, 58, 57,  1, 58, 63,  1,  1, 57,  1, 43, 57,\n",
       "         1,  2,  0,  0, 35, 46, 43, 47, 56,  6,  1,  0, 30, 17, 37, 10,  0,\n",
       "        13,  1, 61, 43, 47, 57,  6,  1,  1, 58, 58, 46, 53, 47, 52,  5,  1,\n",
       "        58, 40, 63, 57, 59, 57, 46, 43, 39, 52,  1, 45, 46, 43, 39,  1, 54,\n",
       "        50, 39, 53, 56, 58, 57,  1, 57,  1, 57,  1,  1, 46, 39, 43, 57,  7,\n",
       "        44,  1, 47, 53, 58, 61,  1, 56, 59, 52, 45, 57, 54, 39, 39, 58, 57,\n",
       "        63, 53,  1, 42, 53, 11,  0, 31, 53, 13, 52, 53, 43, 41, 41, 46, 47,\n",
       "        52,  6,  0, 35, 46, 43, 43, 47, 42, 57, 58, 43, 53, 52, 45, 46, 43,\n",
       "        43, 39]),\n",
       " array([65, 51, 39, 54, 53, 58, 59, 56, 57,  1,  1, 53, 63,  8,  0, 31, 13,\n",
       "        54, 43, 53, 57, 46, 53, 53, 10,  0,  0, 13, 46, 43, 43, 57, 58, 46,\n",
       "        58, 43, 43, 57, 53,  0, 56,  1, 54, 43, 43, 57, 53, 53, 56,  1, 39,\n",
       "        52,  8,  0, 14, 43, 30, 35, 47, 52, 53, 58, 52,  1, 45, 50,  1, 43,\n",
       "        63,  1, 53, 63,  1, 11,  1,  0, 28, 17, 37, 43, 43, 45, 53, 39, 42,\n",
       "        11,  0, 31, 21, 27, 18, 47, 57,  1, 58, 40, 43, 50,  1, 53, 40, 57,\n",
       "        57, 47, 42,  1, 47, 52,  1, 53, 41, 46,  6,  0, 32, 46, 63,  1,  1,\n",
       "        50, 50, 50,  1, 43, 52, 58, 57,  1, 58, 63,  1,  1, 57,  1, 43, 57,\n",
       "         1,  2,  0,  0, 35, 46, 43, 47, 56,  6,  1,  0, 30, 17, 37, 10,  0,\n",
       "        13,  1, 61, 43, 47, 57,  6,  1,  1, 58, 58, 46, 53, 47, 52,  5,  1,\n",
       "        58, 40, 63, 57, 59, 57, 46, 43, 39, 52,  1, 45, 46, 43, 39,  1, 54,\n",
       "        50, 39, 53, 56, 58, 57,  1, 57,  1, 57,  1,  1, 46, 39, 43, 57,  7,\n",
       "        44,  1, 47, 53, 58, 61,  1, 56, 59, 52, 45, 57, 54, 39, 39, 58, 57,\n",
       "        63, 53,  1, 42, 53, 11,  0, 31, 53, 13, 52, 53, 43, 41, 41, 46, 47,\n",
       "        52,  6,  0, 35, 46, 43, 43, 47, 42, 57, 58, 43, 53, 52, 45, 46, 43,\n",
       "        43, 39]))"
      ]
     },
     "execution_count": 7,
     "metadata": {},
     "output_type": "execute_result"
    }
   ],
   "source": [
    "x1[0], x2[0]"
   ]
  },
  {
   "cell_type": "markdown",
   "metadata": {},
   "source": [
    "## so dormant_copy_interpolate(mix_p=0) == dormant_markov_interpolate(mix_p=1); seems that the code passes the test"
   ]
  },
  {
   "cell_type": "markdown",
   "metadata": {},
   "source": [
    "# Test on dormant_double_tasks"
   ]
  },
  {
   "cell_type": "code",
   "execution_count": 57,
   "metadata": {},
   "outputs": [],
   "source": [
    "import pickle\n",
    "import numpy as np\n",
    "data_args = DataArgs(delimiter_p=0.05)\n",
    "with open(\"/Users/guotianyu/GitHub/birth/data/bos1_d005/meta.pickle\", \"rb\") as f:\n",
    "    meta_info = pickle.load(f)\n",
    "\n",
    "# data_cfg = OmegaConf.structured(meta_info)\n",
    "ds = dormant_double_tasks(data_args, meta_info)\n",
    "x = ds.gen_batch(np.random.default_rng(0), 64)"
   ]
  },
  {
   "cell_type": "code",
   "execution_count": 62,
   "metadata": {},
   "outputs": [
    {
     "data": {
      "text/plain": [
       "(array([ 0,  1,  2,  3,  4,  5,  6,  7,  8,  9, 10, 11, 12, 13, 14, 15, 16,\n",
       "        17, 18, 19, 20, 21, 22, 23, 24, 25, 26, 27, 28, 29, 30, 31, 32, 33,\n",
       "        34, 35, 36, 37, 38, 39, 40, 41, 42, 43, 44, 45, 46, 47, 48, 49, 50,\n",
       "        51, 52, 53, 54, 55, 56, 57, 58, 59, 60, 61, 62, 63]),\n",
       " array([ 15, 146,  61,  10,  14,  18,  33,   2,  41,  67,   8,  36,  23,\n",
       "         39, 103,   4,  36,  35, 111,  42,   2,  11,  17,  60,  51,  23,\n",
       "         21,  13,   7,  32,  23,  30,  11,   2,  31,  19,  12,  13,   2,\n",
       "        125,  34,  13,  26,  22,  20,  16,  27,  30,   3, 200,   9,  30,\n",
       "         74,  26,  11,  84,   8,   8,  31,  25,  48,  67,  12,   2]))"
      ]
     },
     "execution_count": 62,
     "metadata": {},
     "output_type": "execute_result"
    }
   ],
   "source": [
    "np.where(x==66)"
   ]
  },
  {
   "cell_type": "code",
   "execution_count": 54,
   "metadata": {},
   "outputs": [
    {
     "data": {
      "text/plain": [
       "array([[ 0,  1,  2,  3,  4],\n",
       "       [ 5,  6,  7,  8,  9],\n",
       "       [10, 11, 12, 13, 14],\n",
       "       [15, 16, 17, 18, 19],\n",
       "       [20, 21, 22, 23, 24]])"
      ]
     },
     "execution_count": 54,
     "metadata": {},
     "output_type": "execute_result"
    }
   ],
   "source": [
    "test = np.reshape(np.array(np.arange(0,25)), (5,5))\n",
    "test"
   ]
  },
  {
   "cell_type": "code",
   "execution_count": 55,
   "metadata": {},
   "outputs": [
    {
     "data": {
      "text/plain": [
       "array([[ 0,  1,  3,  4,  2],\n",
       "       [ 5,  6,  8,  9,  7],\n",
       "       [15, 16, 18, 19, 17],\n",
       "       [20, 21, 23, 24, 22],\n",
       "       [10, 11, 13, 14, 12]])"
      ]
     },
     "execution_count": 55,
     "metadata": {},
     "output_type": "execute_result"
    }
   ],
   "source": [
    "subset = [2, 3, 4]\n",
    "for i, n in enumerate(subset):\n",
    "    if i < len(subset)-1:\n",
    "        shift = subset[i+1]\n",
    "        test[[n, shift]] = test[[shift, n]]\n",
    "        test[:, [n, shift]] = test[:, [shift, n]]\n",
    "test"
   ]
  },
  {
   "cell_type": "code",
   "execution_count": 3,
   "metadata": {},
   "outputs": [
    {
     "data": {
      "text/plain": [
       "[1, 2, 3, 4]"
      ]
     },
     "execution_count": 3,
     "metadata": {},
     "output_type": "execute_result"
    }
   ],
   "source": [
    "a = [1, 2, 3, 4]\n",
    "a[:4]"
   ]
  },
  {
   "cell_type": "code",
   "execution_count": null,
   "metadata": {},
   "outputs": [],
   "source": []
  }
 ],
 "metadata": {
  "kernelspec": {
   "display_name": "nanogpt",
   "language": "python",
   "name": "nanogpt"
  },
  "language_info": {
   "codemirror_mode": {
    "name": "ipython",
    "version": 3
   },
   "file_extension": ".py",
   "mimetype": "text/x-python",
   "name": "python",
   "nbconvert_exporter": "python",
   "pygments_lexer": "ipython3",
   "version": "3.10.14"
  }
 },
 "nbformat": 4,
 "nbformat_minor": 2
}

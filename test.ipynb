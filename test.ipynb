{
 "cells": [
  {
   "cell_type": "code",
   "execution_count": 1,
   "metadata": {},
   "outputs": [],
   "source": [
    "from dataclasses import dataclass\n",
    "import itertools\n",
    "import logging\n",
    "import random\n",
    "import math\n",
    "import numpy as np\n",
    "import json\n",
    "import pickle\n",
    "import time\n",
    "import torch\n",
    "import sys\n",
    "import pdb\n",
    "import os\n",
    "os.chdir(\"/Users/guotianyu/GitHub/birth\")\n",
    "\n",
    "from omegaconf import OmegaConf\n",
    "from pathlib import Path\n",
    "from torch import nn, Tensor\n",
    "from torch.nn import functional as F\n",
    "from typing import List, Optional, Tuple\n",
    "\n",
    "from data import *\n",
    "from ihead_full_model import ModelArgs, Transformer\n",
    "%load_ext autoreload\n",
    "%autoreload 2"
   ]
  },
  {
   "cell_type": "markdown",
   "metadata": {},
   "source": [
    "# Preprocess Meta"
   ]
  },
  {
   "cell_type": "code",
   "execution_count": 2,
   "metadata": {},
   "outputs": [
    {
     "data": {
      "text/plain": [
       "1"
      ]
     },
     "execution_count": 2,
     "metadata": {},
     "output_type": "execute_result"
    }
   ],
   "source": [
    "ds = MetaProcess(DataArgs())\n",
    "ds.bos_num"
   ]
  },
  {
   "cell_type": "code",
   "execution_count": 4,
   "metadata": {},
   "outputs": [],
   "source": [
    "import pickle\n",
    "import yaml\n",
    "\n",
    "meta_processed = ds.process()\n",
    "config_path = \"data/bos1_d0\"\n",
    "os.makedirs(config_path, exist_ok=True)\n",
    "with open(os.path.join(config_path, 'meta.pickle'), 'wb') as handle:\n",
    "    pickle.dump(meta_processed, handle, protocol=pickle.HIGHEST_PROTOCOL)\n",
    "with open(os.path.join(config_path, 'config.yaml'), 'w') as f:\n",
    "    yaml.dump(meta_processed, f, default_flow_style=False)\n",
    "\n"
   ]
  },
  {
   "cell_type": "markdown",
   "metadata": {},
   "source": [
    "# load meta and test corresponding dgp"
   ]
  },
  {
   "cell_type": "code",
   "execution_count": 1,
   "metadata": {},
   "outputs": [],
   "source": [
    "import pickle\n",
    "import numpy as np\n",
    "from data import dormant_copy, DataArgs\n",
    "\n",
    "with open(\"/Users/guotianyu/GitHub/birth/data/meta_bos1_d0.pickle\", \"rb\") as f:\n",
    "    meta_info = pickle.load(f)\n",
    "\n",
    "# data_cfg = OmegaConf.structured(meta_info)\n",
    "\n",
    "\n",
    "ds = dormant_copy(DataArgs(), meta_info)\n",
    "\n",
    "\n"
   ]
  },
  {
   "cell_type": "code",
   "execution_count": 3,
   "metadata": {},
   "outputs": [
    {
     "data": {
      "text/plain": [
       "array([[1.80579514e-01, 0.00000000e+00, 0.00000000e+00, ...,\n",
       "        0.00000000e+00, 0.00000000e+00, 0.00000000e+00],\n",
       "       [1.17721847e-05, 9.41774775e-05, 0.00000000e+00, ...,\n",
       "        5.88609234e-05, 0.00000000e+00, 0.00000000e+00],\n",
       "       [5.65837937e-01, 4.04696133e-01, 0.00000000e+00, ...,\n",
       "        0.00000000e+00, 0.00000000e+00, 0.00000000e+00],\n",
       "       ...,\n",
       "       [0.00000000e+00, 5.61797753e-03, 2.80898876e-03, ...,\n",
       "        3.08988764e-02, 0.00000000e+00, 0.00000000e+00],\n",
       "       [3.58617672e-02, 1.52315684e-01, 1.94729396e-03, ...,\n",
       "        3.19169728e-04, 0.00000000e+00, 0.00000000e+00],\n",
       "       [3.58617672e-02, 1.52315684e-01, 1.94729396e-03, ...,\n",
       "        3.19169728e-04, 0.00000000e+00, 0.00000000e+00]])"
      ]
     },
     "execution_count": 3,
     "metadata": {},
     "output_type": "execute_result"
    }
   ],
   "source": [
    "ds.cond"
   ]
  },
  {
   "cell_type": "code",
   "execution_count": 15,
   "metadata": {},
   "outputs": [
    {
     "data": {
      "text/plain": [
       "[65]"
      ]
     },
     "execution_count": 15,
     "metadata": {},
     "output_type": "execute_result"
    }
   ],
   "source": [
    "ds.bos"
   ]
  },
  {
   "cell_type": "code",
   "execution_count": 2,
   "metadata": {},
   "outputs": [],
   "source": [
    "x = ds.gen_batch(np.random.default_rng(0), 64)"
   ]
  },
  {
   "cell_type": "code",
   "execution_count": 3,
   "metadata": {},
   "outputs": [
    {
     "data": {
      "text/plain": [
       "array([[65, 50, 39, ..., 42, 59, 58],\n",
       "       [65, 44, 53, ...,  8,  1,  0],\n",
       "       [65,  1, 42, ...,  1, 56,  1],\n",
       "       ...,\n",
       "       [65, 42,  1, ...,  1, 21, 17],\n",
       "       [65, 42,  1, ..., 46, 43, 43],\n",
       "       [65, 58, 10, ..., 46, 43, 43]])"
      ]
     },
     "execution_count": 3,
     "metadata": {},
     "output_type": "execute_result"
    }
   ],
   "source": [
    "x"
   ]
  },
  {
   "cell_type": "code",
   "execution_count": 3,
   "metadata": {},
   "outputs": [
    {
     "data": {
      "text/plain": [
       "{'a1': tensor([1, 2, 3]), 'a2': tensor([2, 3, 4])}"
      ]
     },
     "execution_count": 3,
     "metadata": {},
     "output_type": "execute_result"
    }
   ],
   "source": [
    "outputs"
   ]
  }
 ],
 "metadata": {
  "kernelspec": {
   "display_name": "Python 3 (ipykernel)",
   "language": "python",
   "name": "python3"
  },
  "language_info": {
   "codemirror_mode": {
    "name": "ipython",
    "version": 3
   },
   "file_extension": ".py",
   "mimetype": "text/x-python",
   "name": "python",
   "nbconvert_exporter": "python",
   "pygments_lexer": "ipython3",
   "version": "3.9.7"
  }
 },
 "nbformat": 4,
 "nbformat_minor": 2
}

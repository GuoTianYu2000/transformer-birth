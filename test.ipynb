{
 "cells": [
  {
   "cell_type": "code",
   "execution_count": 2,
   "metadata": {},
   "outputs": [],
   "source": [
    "from dataclasses import dataclass\n",
    "import itertools\n",
    "import logging\n",
    "import random\n",
    "import math\n",
    "import numpy as np\n",
    "import json\n",
    "import pickle\n",
    "import time\n",
    "import torch\n",
    "import sys\n",
    "import pdb\n",
    "import os\n",
    "os.chdir(\"/Users/guotianyu/GitHub/birth\")\n",
    "\n",
    "from omegaconf import OmegaConf\n",
    "from pathlib import Path\n",
    "from torch import nn, Tensor\n",
    "from torch.nn import functional as F\n",
    "from typing import List, Optional, Tuple\n",
    "\n",
    "from data import DataArgs, Dataset, iterate_batches, MetaProcess\n",
    "from ihead_full_model import ModelArgs, Transformer\n",
    "%load_ext autoreload\n",
    "%autoreload 2"
   ]
  },
  {
   "cell_type": "code",
   "execution_count": 3,
   "metadata": {},
   "outputs": [],
   "source": [
    "ds = MetaProcess(DataArgs())"
   ]
  },
  {
   "cell_type": "code",
   "execution_count": 4,
   "metadata": {},
   "outputs": [
    {
     "data": {
      "text/plain": [
       "1"
      ]
     },
     "execution_count": 4,
     "metadata": {},
     "output_type": "execute_result"
    }
   ],
   "source": [
    "ds.bos_num"
   ]
  },
  {
   "cell_type": "code",
   "execution_count": 5,
   "metadata": {},
   "outputs": [],
   "source": [
    "import pickle\n",
    "\n",
    "meta_processed = ds.process()\n",
    "\n",
    "with open('data/meta_bos1_d1.pickle', 'wb') as handle:\n",
    "    pickle.dump(meta_processed, handle, protocol=pickle.HIGHEST_PROTOCOL)\n",
    "\n"
   ]
  },
  {
   "cell_type": "code",
   "execution_count": 15,
   "metadata": {},
   "outputs": [
    {
     "data": {
      "text/plain": [
       "array([[65, 50, 39, ..., 54, 50, 43],\n",
       "       [65, 58,  1, ..., 66, 47, 52],\n",
       "       [65, 57, 47, ...,  1, 39, 63],\n",
       "       ...,\n",
       "       [65, 59, 57, ...,  6,  1, 47],\n",
       "       [65,  6,  1, ..., 57, 53, 61],\n",
       "       [65, 39, 56, ..., 46,  1, 51]])"
      ]
     },
     "execution_count": 15,
     "metadata": {},
     "output_type": "execute_result"
    }
   ],
   "source": [
    "x_exp, out_exp = ds.gen_batch(np.random.default_rng(0), 128)\n",
    "x_exp"
   ]
  },
  {
   "cell_type": "code",
   "execution_count": 14,
   "metadata": {},
   "outputs": [
    {
     "data": {
      "text/plain": [
       "(array([  0,   0,   0, ..., 127, 127, 127]),\n",
       " array([ 27,  74,  78, ..., 232, 240, 251]))"
      ]
     },
     "execution_count": 14,
     "metadata": {},
     "output_type": "execute_result"
    }
   ],
   "source": [
    "np.where(x_exp == 66)"
   ]
  },
  {
   "cell_type": "code",
   "execution_count": 29,
   "metadata": {},
   "outputs": [],
   "source": [
    "import pickle\n",
    "import numpy as np\n",
    "\n",
    "with open(\"/Users/guotianyu/GitHub/birth/data/meta_bos1_d_random.pickle\", \"rb\") as f:\n",
    "    meta_info = pickle.load(f)\n",
    "\n"
   ]
  },
  {
   "cell_type": "code",
   "execution_count": 25,
   "metadata": {},
   "outputs": [
    {
     "data": {
      "text/plain": [
       "dict_keys(['marginal', 'cond', 'itos', 'stoi', 'vocab_size', 'bos_num', 'delimiter_p', 'bos', 'delimiter'])"
      ]
     },
     "execution_count": 25,
     "metadata": {},
     "output_type": "execute_result"
    }
   ],
   "source": [
    "meta_info.keys()"
   ]
  },
  {
   "cell_type": "code",
   "execution_count": 30,
   "metadata": {},
   "outputs": [
    {
     "data": {
      "text/plain": [
       "array([0.00000000e+00, 0.00000000e+00, 8.96544181e-07, 2.68963254e-06,\n",
       "       2.42066929e-05, 1.00412948e-04, 1.77515748e-04, 2.07101706e-04,\n",
       "       2.86894138e-04, 3.19169728e-04, 4.74271872e-04, 5.45995406e-04,\n",
       "       5.63029746e-04, 7.15442256e-04, 1.42012598e-03, 1.47122900e-03,\n",
       "       1.54026290e-03, 1.61108989e-03, 1.70074431e-03, 1.87288079e-03,\n",
       "       1.94729396e-03, 2.15080949e-03, 2.20729177e-03, 2.47535848e-03,\n",
       "       2.54618547e-03, 2.75059755e-03, 2.97025087e-03, 3.16480096e-03,\n",
       "       3.25266229e-03, 3.42479877e-03, 3.47500524e-03, 4.05506933e-03,\n",
       "       4.36527362e-03, 4.55354789e-03, 4.91395865e-03, 5.41602340e-03,\n",
       "       5.54691885e-03, 6.28925743e-03, 6.35470515e-03, 6.98676880e-03,\n",
       "       7.01007895e-03, 7.06925087e-03, 9.24874977e-03, 9.68984951e-03,\n",
       "       1.01497767e-02, 1.06079107e-02, 1.19742441e-02, 1.40067097e-02,\n",
       "       1.41385017e-02, 1.57657294e-02, 1.77928158e-02, 1.83325354e-02,\n",
       "       1.99418322e-02, 2.38337305e-02, 2.81138324e-02, 2.98898864e-02,\n",
       "       3.58617672e-02, 4.08259324e-02, 4.35083926e-02, 4.38311485e-02,\n",
       "       4.45546596e-02, 4.60016819e-02, 4.97644778e-02, 5.89908140e-02,\n",
       "       6.00765290e-02, 8.48229415e-02, 1.52315684e-01])"
      ]
     },
     "execution_count": 30,
     "metadata": {},
     "output_type": "execute_result"
    }
   ],
   "source": [
    "# meta_info['marginal']\n",
    "np.sort(meta_info['marginal'])"
   ]
  },
  {
   "cell_type": "code",
   "execution_count": 22,
   "metadata": {},
   "outputs": [
    {
     "data": {
      "text/plain": [
       "8"
      ]
     },
     "execution_count": 22,
     "metadata": {},
     "output_type": "execute_result"
    }
   ],
   "source": [
    "meta_info['stoi']['.']"
   ]
  },
  {
   "cell_type": "code",
   "execution_count": null,
   "metadata": {},
   "outputs": [],
   "source": []
  }
 ],
 "metadata": {
  "kernelspec": {
   "display_name": "Python 3 (ipykernel)",
   "language": "python",
   "name": "python3"
  },
  "language_info": {
   "codemirror_mode": {
    "name": "ipython",
    "version": 3
   },
   "file_extension": ".py",
   "mimetype": "text/x-python",
   "name": "python",
   "nbconvert_exporter": "python",
   "pygments_lexer": "ipython3",
   "version": "3.9.7"
  }
 },
 "nbformat": 4,
 "nbformat_minor": 2
}

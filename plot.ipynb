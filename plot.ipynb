{
 "cells": [
  {
   "cell_type": "code",
   "execution_count": 1,
   "metadata": {},
   "outputs": [],
   "source": [
    "from dataclasses import dataclass\n",
    "import itertools\n",
    "import logging\n",
    "import random\n",
    "import math\n",
    "import numpy as np\n",
    "import json\n",
    "import pickle\n",
    "import time\n",
    "import torch\n",
    "import sys\n",
    "import yaml\n",
    "import seaborn as sns\n",
    "import matplotlib.pyplot as plt\n",
    "\n",
    "from omegaconf import OmegaConf\n",
    "from pathlib import Path\n",
    "from torch import nn, Tensor\n",
    "from torch.nn import functional as F\n",
    "from typing import List, Optional, Tuple\n",
    "\n",
    "from ihead_data import DataArgs, Dataset, iterate_batches\n",
    "from ihead_full_model import ModelArgs, Transformer\n",
    "\n",
    "%load_ext autoreload\n",
    "%autoreload 2\n"
   ]
  },
  {
   "cell_type": "code",
   "execution_count": 2,
   "metadata": {},
   "outputs": [
    {
     "data": {
      "text/plain": [
       "<All keys matched successfully>"
      ]
     },
     "execution_count": 2,
     "metadata": {},
     "output_type": "execute_result"
    }
   ],
   "source": [
    "cfg = OmegaConf.load(\"/Users/guotianyu/GitHub/massive-tokens/birth/model_L2_H4_lr3-4/params.yaml\")\n",
    "model = Transformer(cfg.model_args)\n",
    "model.eval()\n",
    "state_path = \"/Users/guotianyu/GitHub/massive-tokens/birth/model_L2_H4_lr3-4/state_4500.pt\"\n",
    "state = torch.load(state_path, map_location=\"cpu\")\n",
    "model.load_state_dict(state[\"model_state_dict\"], strict=False)\n"
   ]
  },
  {
   "cell_type": "code",
   "execution_count": 3,
   "metadata": {},
   "outputs": [],
   "source": [
    "ds = Dataset(cfg.data_args, train_test=None)\n",
    "ds_test = Dataset(cfg.data_args, train_test=None)\n",
    "ds_test.idxs = ds.idxs\n",
    "cfg.model_args.vocab_size = ds.num_tokens"
   ]
  },
  {
   "cell_type": "code",
   "execution_count": 4,
   "metadata": {},
   "outputs": [],
   "source": [
    "x, outs = ds.gen_batch(rng=np.random.default_rng([42, 27]), batch_size=cfg.optim_args.batch_size)\n",
    "(x, y, outs) = (x[:,:-1], x[:,1:], outs[:,:-1])\n",
    "x = torch.from_numpy(x)\n",
    "y = torch.from_numpy(y)\n",
    "outs = torch.from_numpy(outs)"
   ]
  },
  {
   "cell_type": "code",
   "execution_count": 5,
   "metadata": {},
   "outputs": [
    {
     "data": {
      "text/plain": [
       "torch.Size([512, 4, 256, 256])"
      ]
     },
     "execution_count": 5,
     "metadata": {},
     "output_type": "execute_result"
    }
   ],
   "source": [
    "layer_idx = 1\n",
    "scores = model.get_layer_scores(x, layer_idx)\n",
    "scores.shape"
   ]
  },
  {
   "cell_type": "code",
   "execution_count": 6,
   "metadata": {},
   "outputs": [],
   "source": [
    "import pickle\n",
    "with open('/Users/guotianyu/GitHub/massive-tokens/birth/model_L2_H4_lr3-4/exp.pkl', 'rb') as f:\n",
    "    data = pickle.load(f)"
   ]
  },
  {
   "cell_type": "code",
   "execution_count": 51,
   "metadata": {},
   "outputs": [
    {
     "data": {
      "image/png": "[encoded data removed]",
      "text/plain": [
       "<Figure size 1440x360 with 8 Axes>"
      ]
     },
     "metadata": {
      "needs_background": "light"
     },
     "output_type": "display_data"
    }
   ],
   "source": [
    "# scores = data['scores'][layer_idx]\n",
    "seq_idx = 16\n",
    "fig, axes = plt.subplots(1, 4, figsize=(20, 5))\n",
    "axes = axes.flatten()\n",
    "for i, ax in enumerate(axes):\n",
    "    attns = scores[seq_idx, i, :20, :20].detach().numpy()\n",
    "    # attns = scores[0, i, :20, :20]\n",
    "    mask = 1 - np.tril(np.ones_like(attns)) # manually impose causal mask for better-looking plots\n",
    "    sns.heatmap(\n",
    "            attns, mask=mask,\n",
    "            cmap=\"coolwarm\", xticklabels=False, yticklabels=False,\n",
    "            ax=ax,\n",
    "        )\n",
    "    ax.set_title(f\"Layer{layer_idx} Head {i}\")\n",
    "    # ax.set_xticks(list(ds.decode(x[seq_idx, :20].numpy())))\n",
    "plt.show()"
   ]
  },
  {
   "cell_type": "code",
   "execution_count": 52,
   "metadata": {},
   "outputs": [
    {
     "data": {
      "text/plain": [
       "[' ',\n",
       " '-',\n",
       " 'p',\n",
       " 'r',\n",
       " 'v',\n",
       " 'o',\n",
       " 'a',\n",
       " '$',\n",
       " 'l',\n",
       " ' ',\n",
       " '-',\n",
       " 'n',\n",
       " 't',\n",
       " 'Q',\n",
       " 'U',\n",
       " 'S',\n",
       " ':',\n",
       " ' ',\n",
       " '-',\n",
       " 'S']"
      ]
     },
     "execution_count": 52,
     "metadata": {},
     "output_type": "execute_result"
    }
   ],
   "source": [
    "list(ds.decode(x[seq_idx, :20].numpy()))"
   ]
  },
  {
   "cell_type": "code",
   "execution_count": 48,
   "metadata": {},
   "outputs": [
    {
     "data": {
      "text/plain": [
       "'aote '"
      ]
     },
     "execution_count": 48,
     "metadata": {},
     "output_type": "execute_result"
    }
   ],
   "source": [
    "ds.decode(ds.idxs)"
   ]
  },
  {
   "cell_type": "code",
   "execution_count": 67,
   "metadata": {},
   "outputs": [
    {
     "name": "stdout",
     "output_type": "stream",
     "text": [
      "None\n"
     ]
    }
   ],
   "source": [
    "rng = np.random.Generator\n",
    "seq += [rng.choice(self.tok_range, p=self.marginal)]\n",
    "while len(seq) < self.seq_length + 1:\n",
    "    last = seq[-1]\n",
    "    if last in idxs:\n",
    "        seq.append(outs[idxs.index(last)])\n",
    "        if self.output_counter:\n",
    "            cnts[last] = cnts.get(last, 0) + 1\n",
    "            outputs_seq.append(cnts[last])\n",
    "        else:\n",
    "            outputs_seq.append(1)\n",
    "    else:\n",
    "        probs = self.cond[last]\n",
    "        outputs_seq.append(0)\n",
    "        seq.append(rng.choice(self.tok_range, p=probs))\n",
    "outputs_seq.append(0)"
   ]
  },
  {
   "cell_type": "code",
   "execution_count": null,
   "metadata": {},
   "outputs": [],
   "source": []
  }
 ],
 "metadata": {
  "kernelspec": {
   "display_name": "base",
   "language": "python",
   "name": "python3"
  },
  "language_info": {
   "codemirror_mode": {
    "name": "ipython",
    "version": 3
   },
   "file_extension": ".py",
   "mimetype": "text/x-python",
   "name": "python",
   "nbconvert_exporter": "python",
   "pygments_lexer": "ipython3",
   "version": "3.9.0"
  }
 },
 "nbformat": 4,
 "nbformat_minor": 2
}

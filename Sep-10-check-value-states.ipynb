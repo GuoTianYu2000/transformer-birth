{
 "cells": [
  {
   "cell_type": "code",
   "execution_count": 5,
   "metadata": {},
   "outputs": [
    {
     "name": "stdout",
     "output_type": "stream",
     "text": [
      "The autoreload extension is already loaded. To reload it, use:\n",
      "  %reload_ext autoreload\n"
     ]
    }
   ],
   "source": [
    "from dataclasses import dataclass\n",
    "import itertools\n",
    "import logging\n",
    "import random\n",
    "import math\n",
    "import numpy as np\n",
    "import json\n",
    "import pickle\n",
    "import time\n",
    "import torch\n",
    "import sys\n",
    "import yaml\n",
    "import seaborn as sns\n",
    "import matplotlib.pyplot as plt\n",
    "from probe_utils import *\n",
    "from plot_utils import *\n",
    "from tqdm import tqdm\n",
    "\n",
    "from omegaconf import OmegaConf\n",
    "from pathlib import Path\n",
    "from torch import nn, Tensor\n",
    "from torch.nn import functional as F\n",
    "from typing import List, Optional, Tuple\n",
    "import os\n",
    "# os.chdir(\"/data/tianyu_guo/birth\")\n",
    "from data import DataArgs, Dataset, iterate_batches, make_dataset\n",
    "from ihead_full_model import *\n",
    "\n",
    "%load_ext autoreload\n",
    "%autoreload 2\n"
   ]
  },
  {
   "cell_type": "code",
   "execution_count": 6,
   "metadata": {},
   "outputs": [],
   "source": [
    "torch.cuda.set_device(0)"
   ]
  },
  {
   "cell_type": "code",
   "execution_count": 7,
   "metadata": {},
   "outputs": [
    {
     "data": {
      "text/plain": [
       "(tensor(4.1686e-05, grad_fn=<MeanBackward0>),\n",
       " tensor(2.2291, grad_fn=<MeanBackward0>))"
      ]
     },
     "execution_count": 7,
     "metadata": {},
     "output_type": "execute_result"
    }
   ],
   "source": [
    "# run_path_server = \"/data/tianyu/birth/gens/pre-iclr/dynamics/dormant_copy_k3_bos1\"\n",
    "run_path_server = \"/data/tianyu/birth/gens/pre-iclr/dynamics/dormant_copy_simplified\"\n",
    "# run_path_server2=\"/data/tianyu_guo/birth/gens/special/dormant_copy_2\"\n",
    "model, cfg, x, y, ds, optim = load_model(run_path_local=\"/Users/guotianyu/GitHub/birth/gens/special/markov\", run_path_server=run_path_server, bos_num=1, train_steps=10000, delim=0, n_layers=3, n_heads=1, no_attn_norm=(), no_ffn_norm=(), no_attn=(2, ), no_ffn=(), linear_ffn=(), with_data=True, with_optim=True, data_path_local=\"/Users/guotianyu/GitHub/birth/data\", data_path_server=\"/data/tianyu/birth/data\")\n",
    "hook = forward_hook([], '')\n",
    "pred, outputs_list = model.modified_forward_with_hook(x, hook)\n",
    "probs = get_oracle_predicts(x, ds)\n",
    "triggers_pos = ds.get_triggers_pos(x)\n",
    "risk = get_risk(probs, pred, predict_in_logits=True, triggers_pos=triggers_pos)\n",
    "risk[1:3]"
   ]
  },
  {
   "cell_type": "code",
   "execution_count": 8,
   "metadata": {},
   "outputs": [
    {
     "data": {
      "text/plain": [
       "(tensor([ 0.1625,  0.3798, -0.2718,  2.1928, -0.5032,  0.4220,  0.4536,  0.7264,\n",
       "         -0.2310, -0.4573], grad_fn=<SliceBackward0>),\n",
       " tensor([  0.2434,  -0.5843,  -0.5185,   3.4976,  -1.2099,  -0.5731,  -0.2012,\n",
       "           0.2715,  -1.7475, -12.9446], grad_fn=<SliceBackward0>),\n",
       " tensor([135.6272,  27.2625,  16.3049,  28.2031,  49.5698,  33.8267,  33.0718,\n",
       "          15.3098,  33.0708,  34.1695], grad_fn=<LinalgVectorNormBackward0>),\n",
       " tensor([ 0.7551, 28.5901, 10.6723, 28.4080, 16.7570, 20.8605, 24.4004, 11.8640,\n",
       "         23.9386, 24.3867], grad_fn=<LinalgVectorNormBackward0>),\n",
       " tensor([ -1.6425,  28.8882, -15.9288,  26.3170,  15.1818,  20.5725,  21.0230,\n",
       "          -9.5778,  21.7429,  17.0595], grad_fn=<SelectBackward0>))"
      ]
     },
     "execution_count": 8,
     "metadata": {},
     "output_type": "execute_result"
    }
   ],
   "source": [
    "outputs_list[0]['input'][0, 0, :10], outputs_list[0]['attn_output_add_res'][0, 0, :10], outputs_list[0]['output'][0, :10, :].norm(dim=-1), outputs_list[1]['value_states'][0, 0, :10, :].norm(dim=-1), outputs_list[1]['attn_logits'][0, 0, :10, 0]"
   ]
  },
  {
   "cell_type": "code",
   "execution_count": 24,
   "metadata": {},
   "outputs": [],
   "source": [
    "hook = check_value_states(target_layers=[1], triggers_pos=torch.from_numpy(triggers_pos))"
   ]
  },
  {
   "cell_type": "code",
   "execution_count": 27,
   "metadata": {},
   "outputs": [
    {
     "name": "stderr",
     "output_type": "stream",
     "text": [
      "  0%|          | 0/16 [00:00<?, ?it/s]"
     ]
    },
    {
     "name": "stderr",
     "output_type": "stream",
     "text": [
      "100%|██████████| 16/16 [01:21<00:00,  5.10s/it]\n"
     ]
    }
   ],
   "source": [
    "icl_risk = {}\n",
    "icl_risk_with_hook = {}\n",
    "\n",
    "for step in tqdm(np.arange(0, 301, 20).tolist()):\n",
    "    model, _, _, _, _, _ = load_model(run_path_local=\"/Users/guotianyu/GitHub/birth/gens/special/markov\", run_path_server=run_path_server, bos_num=1, train_steps=step, delim=0, n_layers=3, n_heads=1, no_attn_norm=(), no_ffn_norm=(), no_attn=(2, ), no_ffn=(), linear_ffn=(), with_data=True, with_optim=True, data_path_local=\"/Users/guotianyu/GitHub/birth/data\", data_path_server=\"/data/tianyu/birth/data\")\n",
    "    pred = model(x)\n",
    "    risk = get_risk(probs, pred, predict_in_logits=True, triggers_pos=triggers_pos)\n",
    "    icl_risk[step] = risk[1].item()\n",
    "\n",
    "    pred_with_hook, outputs_list = model.modified_forward_with_hook(x, hook)\n",
    "    risk_with_hook = get_risk(probs, pred_with_hook, predict_in_logits=True, triggers_pos=triggers_pos)\n",
    "    icl_risk_with_hook[step] = risk_with_hook[1].item()\n"
   ]
  },
  {
   "cell_type": "code",
   "execution_count": 28,
   "metadata": {},
   "outputs": [
    {
     "data": {
      "image/png": "[encoded data removed]",
      "text/plain": [
       "<Figure size 640x480 with 1 Axes>"
      ]
     },
     "metadata": {},
     "output_type": "display_data"
    }
   ],
   "source": [
    "plt.plot(list(icl_risk.keys()), list(icl_risk.values()), label='icl_risk')\n",
    "plt.plot(list(icl_risk_with_hook.keys()), list(icl_risk_with_hook.values()), label='icl_risk_with_hook')\n",
    "plt.legend()\n",
    "plt.show()"
   ]
  },
  {
   "cell_type": "code",
   "execution_count": null,
   "metadata": {},
   "outputs": [],
   "source": []
  }
 ],
 "metadata": {
  "kernelspec": {
   "display_name": "nanogpt",
   "language": "python",
   "name": "python3"
  },
  "language_info": {
   "codemirror_mode": {
    "name": "ipython",
    "version": 3
   },
   "file_extension": ".py",
   "mimetype": "text/x-python",
   "name": "python",
   "nbconvert_exporter": "python",
   "pygments_lexer": "ipython3",
   "version": "3.10.14"
  }
 },
 "nbformat": 4,
 "nbformat_minor": 2
}
